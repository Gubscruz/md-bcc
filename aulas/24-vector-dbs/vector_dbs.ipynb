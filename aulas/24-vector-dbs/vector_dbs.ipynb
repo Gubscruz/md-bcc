{
 "cells": [
  {
   "cell_type": "markdown",
   "metadata": {},
   "source": [
    "# Vector Databases\n",
    "\n",
    "Em **NLP** (*Natural Language Processing*), frases e documentos são frequentemente representados como **vetores numéricos**. Isto ocorre, por exemplo, para fornecer integração com *Machine Learning* (modelos de **NLP** frequentemente produzem ou utilizam vetores em suas operações) e pesquisa eficiente por similaridade (ao buscar documentos ou frases semelhantes).\n",
    "\n",
    "Um banco de dados vetorial (*Vector Database*) ou mecanismo de busca vetorial é um **banco de dados** que pode armazenar tais **vetores** (listas de números de comprimento fixo) juntamente com outros itens de dados, enquanto permite recuperar informação de forma **eficiente** e **escalável**.\n",
    "\n",
    "Nesta aula, exploraremos desde a representação vetorial de textos até uma aplicação de **RAG** (*Retrieval-Augmented Generation*) com **LLM** (*Large Language Model*)."
   ]
  },
  {
   "cell_type": "markdown",
   "metadata": {},
   "source": [
    "## Criar ambiente virtual\n",
    "\n",
    "É extremamente recomendável que você realize esta aula em um novo ambiente virtual.\n",
    "\n",
    "- Criar venv com `conda`\n",
    "\n",
    "```console\n",
    "conda create -n mdvector python=3.10\n",
    "conda activate mdvector\n",
    "```\n",
    "\n",
    "- Criar venv com `python -m`\n",
    "\n",
    "```console\n",
    "python -m venv venv\n",
    "\n",
    "# Ativar no Windows\n",
    "venv\\Scripts\\activate\n",
    "\n",
    "# Ativar no Linux/MacOS\n",
    "source venv/bin/activate\n",
    "```"
   ]
  },
  {
   "cell_type": "markdown",
   "metadata": {},
   "source": [
    "## Instalação das Libs\n",
    "\n",
    "Após criar e ativar seu ambiente virtual, realize a instalação das dependências:\n",
    "\n",
    "**Atenção:** se for realizar a instalação pelo notebook, garanta que o notebook está executando com o ambiente correto!"
   ]
  },
  {
   "cell_type": "code",
   "execution_count": 23,
   "metadata": {},
   "outputs": [],
   "source": [
    "# !python -m pip install -r requirements.txt"
   ]
  },
  {
   "cell_type": "markdown",
   "metadata": {},
   "source": [
    "## Chave OpenAI\n",
    "\n",
    "Nesta aula, iremos utilizar a API da OpenAI pela Azure.\n",
    "\n",
    "Utilize as credenciais fornecidas pelo professor. Crie um arquivo `.env` a partir do arquivo `.env.example` e faça a configuração das variáveis de ambiente.\n",
    "\n",
    "**ATENÇÃO**: Utilize esta chave com cuidado. Não desperdice recursos, não execute células múltiplas vezes de forma desnecessária e, mais importante, **NÃO VAZE A CHAVE** publicamente nem compartilhe com terceiros!"
   ]
  },
  {
   "cell_type": "code",
   "execution_count": 24,
   "metadata": {},
   "outputs": [
    {
     "data": {
      "text/plain": [
       "True"
      ]
     },
     "execution_count": 24,
     "metadata": {},
     "output_type": "execute_result"
    }
   ],
   "source": [
    "from dotenv import load_dotenv\n",
    "\n",
    "load_dotenv(override=True)"
   ]
  },
  {
   "cell_type": "markdown",
   "metadata": {},
   "source": [
    "## Textos: Representação Vetorial\n",
    "\n",
    "Vetores são representações matemáticas de dados em um espaço de alta dimensão. Nesse espaço, cada dimensão corresponde a uma característica dos dados, com o número de dimensões variando de algumas centenas a dezenas de milhares, dependendo da complexidade dos dados representados.\n",
    "\n",
    "A maneira mais simples de vetorizar textos é utilizando o método **Bag of Words** (**BoW**). Nele, cada texto é representado pela ocorrência (ou frequência) de suas palavras. Ele ignora a ordem das palavras e considera apenas a presença ou ausência delas no documento."
   ]
  },
  {
   "cell_type": "markdown",
   "metadata": {},
   "source": [
    "Por exemplo, vamos supor um dicionário de uma língua com apenas três palavras:\n",
    "\n",
    "```python\n",
    "dic = [\"oi\", \"bom\", \"horrível\"]\n",
    "```"
   ]
  },
  {
   "cell_type": "markdown",
   "metadata": {},
   "source": [
    "Agora, considere as seguintes frases:\n",
    "\n",
    "```python\n",
    "frases = [\n",
    "    \"oi tudo bom?\",\n",
    "    \"bom dia\",\n",
    "    \"foi horrível\",\n",
    "]"
   ]
  },
  {
   "cell_type": "markdown",
   "metadata": {},
   "source": [
    "Podemos fazer uma representação vetorial das frases pelos seguintes vetores:\n",
    "\n",
    "```python\n",
    "vetores = [\n",
    "    [1, 1, 0], # Tem palavra \"oi\", tem \"bom\", não tem \"horrível\"\n",
    "    [0, 1, 0], # Não tem \"oi\", tem \"bom\", não tem \"horrível\"\n",
    "    [0, 0, 1], # Não tem \"oi\", não tem \"bom\", tem \"horrível\"\n",
    "]\n",
    "```\n",
    "\n",
    "Perceba que ignoramos as palavras não pertencentes ao dicionário.\n",
    "\n",
    "Vamos representar isto em código-fonte!"
   ]
  },
  {
   "cell_type": "code",
   "execution_count": 25,
   "metadata": {},
   "outputs": [],
   "source": [
    "import plotly.graph_objects as go\n",
    "import numpy as np\n",
    "\n",
    "# Frases personalizadas\n",
    "frases = [\n",
    "    \"oi tudo bom?\",\n",
    "    \"bom dia\",\n",
    "    \"foi horrível\",\n",
    "    \"oi, tive um dia bom e horrível ao mesmo tempo\"\n",
    "]\n",
    "\n",
    "# Vetores das frases, considerando o dicionário [\"oi\", \"bom\", \"horrível\"]\n",
    "vetores = np.array([\n",
    "    [1, 1, 0],\n",
    "    [0, 1, 0],\n",
    "    [0, 0, 1],\n",
    "    [1, 1, 1],\n",
    "])"
   ]
  },
  {
   "cell_type": "markdown",
   "metadata": {},
   "source": [
    "E visualizar um gráfico dos vetores:"
   ]
  },
  {
   "cell_type": "code",
   "execution_count": 26,
   "metadata": {},
   "outputs": [
    {
     "data": {
      "application/vnd.plotly.v1+json": {
       "config": {
        "plotlyServerURL": "https://plot.ly"
       },
       "data": [
        {
         "hoverinfo": "text",
         "marker": {
          "color": "#636EFA",
          "size": 5
         },
         "mode": "markers",
         "text": "oi tudo bom? [1 1 0]",
         "type": "scatter3d",
         "x": [
          1
         ],
         "y": [
          1
         ],
         "z": [
          0
         ]
        },
        {
         "hoverinfo": "text",
         "marker": {
          "color": "#EF553B",
          "size": 5
         },
         "mode": "markers",
         "text": "bom dia [0 1 0]",
         "type": "scatter3d",
         "x": [
          0
         ],
         "y": [
          1
         ],
         "z": [
          0
         ]
        },
        {
         "hoverinfo": "text",
         "marker": {
          "color": "#00CC96",
          "size": 5
         },
         "mode": "markers",
         "text": "foi horrível [0 0 1]",
         "type": "scatter3d",
         "x": [
          0
         ],
         "y": [
          0
         ],
         "z": [
          1
         ]
        },
        {
         "hoverinfo": "text",
         "marker": {
          "color": "#666666",
          "size": 5
         },
         "mode": "markers",
         "text": "oi, tive um dia bom e horrível ao mesmo tempo [1 1 1]",
         "type": "scatter3d",
         "x": [
          1
         ],
         "y": [
          1
         ],
         "z": [
          1
         ]
        }
       ],
       "layout": {
        "scene": {
         "xaxis": {
          "range": [
           0,
           2
          ],
          "title": {
           "text": "Eixo oi"
          }
         },
         "yaxis": {
          "range": [
           0,
           2
          ],
          "title": {
           "text": "Eixo bom"
          }
         },
         "zaxis": {
          "range": [
           0,
           2
          ],
          "title": {
           "text": "Eixo horrível"
          }
         }
        },
        "showlegend": false,
        "template": {
         "data": {
          "bar": [
           {
            "error_x": {
             "color": "#2a3f5f"
            },
            "error_y": {
             "color": "#2a3f5f"
            },
            "marker": {
             "line": {
              "color": "#E5ECF6",
              "width": 0.5
             },
             "pattern": {
              "fillmode": "overlay",
              "size": 10,
              "solidity": 0.2
             }
            },
            "type": "bar"
           }
          ],
          "barpolar": [
           {
            "marker": {
             "line": {
              "color": "#E5ECF6",
              "width": 0.5
             },
             "pattern": {
              "fillmode": "overlay",
              "size": 10,
              "solidity": 0.2
             }
            },
            "type": "barpolar"
           }
          ],
          "carpet": [
           {
            "aaxis": {
             "endlinecolor": "#2a3f5f",
             "gridcolor": "white",
             "linecolor": "white",
             "minorgridcolor": "white",
             "startlinecolor": "#2a3f5f"
            },
            "baxis": {
             "endlinecolor": "#2a3f5f",
             "gridcolor": "white",
             "linecolor": "white",
             "minorgridcolor": "white",
             "startlinecolor": "#2a3f5f"
            },
            "type": "carpet"
           }
          ],
          "choropleth": [
           {
            "colorbar": {
             "outlinewidth": 0,
             "ticks": ""
            },
            "type": "choropleth"
           }
          ],
          "contour": [
           {
            "colorbar": {
             "outlinewidth": 0,
             "ticks": ""
            },
            "colorscale": [
             [
              0,
              "#0d0887"
             ],
             [
              0.1111111111111111,
              "#46039f"
             ],
             [
              0.2222222222222222,
              "#7201a8"
             ],
             [
              0.3333333333333333,
              "#9c179e"
             ],
             [
              0.4444444444444444,
              "#bd3786"
             ],
             [
              0.5555555555555556,
              "#d8576b"
             ],
             [
              0.6666666666666666,
              "#ed7953"
             ],
             [
              0.7777777777777778,
              "#fb9f3a"
             ],
             [
              0.8888888888888888,
              "#fdca26"
             ],
             [
              1,
              "#f0f921"
             ]
            ],
            "type": "contour"
           }
          ],
          "contourcarpet": [
           {
            "colorbar": {
             "outlinewidth": 0,
             "ticks": ""
            },
            "type": "contourcarpet"
           }
          ],
          "heatmap": [
           {
            "colorbar": {
             "outlinewidth": 0,
             "ticks": ""
            },
            "colorscale": [
             [
              0,
              "#0d0887"
             ],
             [
              0.1111111111111111,
              "#46039f"
             ],
             [
              0.2222222222222222,
              "#7201a8"
             ],
             [
              0.3333333333333333,
              "#9c179e"
             ],
             [
              0.4444444444444444,
              "#bd3786"
             ],
             [
              0.5555555555555556,
              "#d8576b"
             ],
             [
              0.6666666666666666,
              "#ed7953"
             ],
             [
              0.7777777777777778,
              "#fb9f3a"
             ],
             [
              0.8888888888888888,
              "#fdca26"
             ],
             [
              1,
              "#f0f921"
             ]
            ],
            "type": "heatmap"
           }
          ],
          "histogram": [
           {
            "marker": {
             "pattern": {
              "fillmode": "overlay",
              "size": 10,
              "solidity": 0.2
             }
            },
            "type": "histogram"
           }
          ],
          "histogram2d": [
           {
            "colorbar": {
             "outlinewidth": 0,
             "ticks": ""
            },
            "colorscale": [
             [
              0,
              "#0d0887"
             ],
             [
              0.1111111111111111,
              "#46039f"
             ],
             [
              0.2222222222222222,
              "#7201a8"
             ],
             [
              0.3333333333333333,
              "#9c179e"
             ],
             [
              0.4444444444444444,
              "#bd3786"
             ],
             [
              0.5555555555555556,
              "#d8576b"
             ],
             [
              0.6666666666666666,
              "#ed7953"
             ],
             [
              0.7777777777777778,
              "#fb9f3a"
             ],
             [
              0.8888888888888888,
              "#fdca26"
             ],
             [
              1,
              "#f0f921"
             ]
            ],
            "type": "histogram2d"
           }
          ],
          "histogram2dcontour": [
           {
            "colorbar": {
             "outlinewidth": 0,
             "ticks": ""
            },
            "colorscale": [
             [
              0,
              "#0d0887"
             ],
             [
              0.1111111111111111,
              "#46039f"
             ],
             [
              0.2222222222222222,
              "#7201a8"
             ],
             [
              0.3333333333333333,
              "#9c179e"
             ],
             [
              0.4444444444444444,
              "#bd3786"
             ],
             [
              0.5555555555555556,
              "#d8576b"
             ],
             [
              0.6666666666666666,
              "#ed7953"
             ],
             [
              0.7777777777777778,
              "#fb9f3a"
             ],
             [
              0.8888888888888888,
              "#fdca26"
             ],
             [
              1,
              "#f0f921"
             ]
            ],
            "type": "histogram2dcontour"
           }
          ],
          "mesh3d": [
           {
            "colorbar": {
             "outlinewidth": 0,
             "ticks": ""
            },
            "type": "mesh3d"
           }
          ],
          "parcoords": [
           {
            "line": {
             "colorbar": {
              "outlinewidth": 0,
              "ticks": ""
             }
            },
            "type": "parcoords"
           }
          ],
          "pie": [
           {
            "automargin": true,
            "type": "pie"
           }
          ],
          "scatter": [
           {
            "fillpattern": {
             "fillmode": "overlay",
             "size": 10,
             "solidity": 0.2
            },
            "type": "scatter"
           }
          ],
          "scatter3d": [
           {
            "line": {
             "colorbar": {
              "outlinewidth": 0,
              "ticks": ""
             }
            },
            "marker": {
             "colorbar": {
              "outlinewidth": 0,
              "ticks": ""
             }
            },
            "type": "scatter3d"
           }
          ],
          "scattercarpet": [
           {
            "marker": {
             "colorbar": {
              "outlinewidth": 0,
              "ticks": ""
             }
            },
            "type": "scattercarpet"
           }
          ],
          "scattergeo": [
           {
            "marker": {
             "colorbar": {
              "outlinewidth": 0,
              "ticks": ""
             }
            },
            "type": "scattergeo"
           }
          ],
          "scattergl": [
           {
            "marker": {
             "colorbar": {
              "outlinewidth": 0,
              "ticks": ""
             }
            },
            "type": "scattergl"
           }
          ],
          "scattermap": [
           {
            "marker": {
             "colorbar": {
              "outlinewidth": 0,
              "ticks": ""
             }
            },
            "type": "scattermap"
           }
          ],
          "scattermapbox": [
           {
            "marker": {
             "colorbar": {
              "outlinewidth": 0,
              "ticks": ""
             }
            },
            "type": "scattermapbox"
           }
          ],
          "scatterpolar": [
           {
            "marker": {
             "colorbar": {
              "outlinewidth": 0,
              "ticks": ""
             }
            },
            "type": "scatterpolar"
           }
          ],
          "scatterpolargl": [
           {
            "marker": {
             "colorbar": {
              "outlinewidth": 0,
              "ticks": ""
             }
            },
            "type": "scatterpolargl"
           }
          ],
          "scatterternary": [
           {
            "marker": {
             "colorbar": {
              "outlinewidth": 0,
              "ticks": ""
             }
            },
            "type": "scatterternary"
           }
          ],
          "surface": [
           {
            "colorbar": {
             "outlinewidth": 0,
             "ticks": ""
            },
            "colorscale": [
             [
              0,
              "#0d0887"
             ],
             [
              0.1111111111111111,
              "#46039f"
             ],
             [
              0.2222222222222222,
              "#7201a8"
             ],
             [
              0.3333333333333333,
              "#9c179e"
             ],
             [
              0.4444444444444444,
              "#bd3786"
             ],
             [
              0.5555555555555556,
              "#d8576b"
             ],
             [
              0.6666666666666666,
              "#ed7953"
             ],
             [
              0.7777777777777778,
              "#fb9f3a"
             ],
             [
              0.8888888888888888,
              "#fdca26"
             ],
             [
              1,
              "#f0f921"
             ]
            ],
            "type": "surface"
           }
          ],
          "table": [
           {
            "cells": {
             "fill": {
              "color": "#EBF0F8"
             },
             "line": {
              "color": "white"
             }
            },
            "header": {
             "fill": {
              "color": "#C8D4E3"
             },
             "line": {
              "color": "white"
             }
            },
            "type": "table"
           }
          ]
         },
         "layout": {
          "annotationdefaults": {
           "arrowcolor": "#2a3f5f",
           "arrowhead": 0,
           "arrowwidth": 1
          },
          "autotypenumbers": "strict",
          "coloraxis": {
           "colorbar": {
            "outlinewidth": 0,
            "ticks": ""
           }
          },
          "colorscale": {
           "diverging": [
            [
             0,
             "#8e0152"
            ],
            [
             0.1,
             "#c51b7d"
            ],
            [
             0.2,
             "#de77ae"
            ],
            [
             0.3,
             "#f1b6da"
            ],
            [
             0.4,
             "#fde0ef"
            ],
            [
             0.5,
             "#f7f7f7"
            ],
            [
             0.6,
             "#e6f5d0"
            ],
            [
             0.7,
             "#b8e186"
            ],
            [
             0.8,
             "#7fbc41"
            ],
            [
             0.9,
             "#4d9221"
            ],
            [
             1,
             "#276419"
            ]
           ],
           "sequential": [
            [
             0,
             "#0d0887"
            ],
            [
             0.1111111111111111,
             "#46039f"
            ],
            [
             0.2222222222222222,
             "#7201a8"
            ],
            [
             0.3333333333333333,
             "#9c179e"
            ],
            [
             0.4444444444444444,
             "#bd3786"
            ],
            [
             0.5555555555555556,
             "#d8576b"
            ],
            [
             0.6666666666666666,
             "#ed7953"
            ],
            [
             0.7777777777777778,
             "#fb9f3a"
            ],
            [
             0.8888888888888888,
             "#fdca26"
            ],
            [
             1,
             "#f0f921"
            ]
           ],
           "sequentialminus": [
            [
             0,
             "#0d0887"
            ],
            [
             0.1111111111111111,
             "#46039f"
            ],
            [
             0.2222222222222222,
             "#7201a8"
            ],
            [
             0.3333333333333333,
             "#9c179e"
            ],
            [
             0.4444444444444444,
             "#bd3786"
            ],
            [
             0.5555555555555556,
             "#d8576b"
            ],
            [
             0.6666666666666666,
             "#ed7953"
            ],
            [
             0.7777777777777778,
             "#fb9f3a"
            ],
            [
             0.8888888888888888,
             "#fdca26"
            ],
            [
             1,
             "#f0f921"
            ]
           ]
          },
          "colorway": [
           "#636efa",
           "#EF553B",
           "#00cc96",
           "#ab63fa",
           "#FFA15A",
           "#19d3f3",
           "#FF6692",
           "#B6E880",
           "#FF97FF",
           "#FECB52"
          ],
          "font": {
           "color": "#2a3f5f"
          },
          "geo": {
           "bgcolor": "white",
           "lakecolor": "white",
           "landcolor": "#E5ECF6",
           "showlakes": true,
           "showland": true,
           "subunitcolor": "white"
          },
          "hoverlabel": {
           "align": "left"
          },
          "hovermode": "closest",
          "mapbox": {
           "style": "light"
          },
          "paper_bgcolor": "white",
          "plot_bgcolor": "#E5ECF6",
          "polar": {
           "angularaxis": {
            "gridcolor": "white",
            "linecolor": "white",
            "ticks": ""
           },
           "bgcolor": "#E5ECF6",
           "radialaxis": {
            "gridcolor": "white",
            "linecolor": "white",
            "ticks": ""
           }
          },
          "scene": {
           "xaxis": {
            "backgroundcolor": "#E5ECF6",
            "gridcolor": "white",
            "gridwidth": 2,
            "linecolor": "white",
            "showbackground": true,
            "ticks": "",
            "zerolinecolor": "white"
           },
           "yaxis": {
            "backgroundcolor": "#E5ECF6",
            "gridcolor": "white",
            "gridwidth": 2,
            "linecolor": "white",
            "showbackground": true,
            "ticks": "",
            "zerolinecolor": "white"
           },
           "zaxis": {
            "backgroundcolor": "#E5ECF6",
            "gridcolor": "white",
            "gridwidth": 2,
            "linecolor": "white",
            "showbackground": true,
            "ticks": "",
            "zerolinecolor": "white"
           }
          },
          "shapedefaults": {
           "line": {
            "color": "#2a3f5f"
           }
          },
          "ternary": {
           "aaxis": {
            "gridcolor": "white",
            "linecolor": "white",
            "ticks": ""
           },
           "baxis": {
            "gridcolor": "white",
            "linecolor": "white",
            "ticks": ""
           },
           "bgcolor": "#E5ECF6",
           "caxis": {
            "gridcolor": "white",
            "linecolor": "white",
            "ticks": ""
           }
          },
          "title": {
           "x": 0.05
          },
          "xaxis": {
           "automargin": true,
           "gridcolor": "white",
           "linecolor": "white",
           "ticks": "",
           "title": {
            "standoff": 15
           },
           "zerolinecolor": "white",
           "zerolinewidth": 2
          },
          "yaxis": {
           "automargin": true,
           "gridcolor": "white",
           "linecolor": "white",
           "ticks": "",
           "title": {
            "standoff": 15
           },
           "zerolinecolor": "white",
           "zerolinewidth": 2
          }
         }
        },
        "title": {
         "text": "Vetores de Frases - Gráfico de Pontos 3D"
        }
       }
      }
     },
     "metadata": {},
     "output_type": "display_data"
    }
   ],
   "source": [
    "\n",
    "# Cores diferentes para cada ponto\n",
    "cores = [\"#636EFA\", \"#EF553B\", \"#00CC96\", \"#666666\"]\n",
    "\n",
    "# Criar uma figura do Plotly\n",
    "fig = go.Figure()\n",
    "\n",
    "# Adicionar pontos ao gráfico\n",
    "for vector, color, frase in zip(vetores, cores, frases):\n",
    "    fig.add_trace(go.Scatter3d(\n",
    "        x=[vector[0]],\n",
    "        y=[vector[1]],\n",
    "        z=[vector[2]],\n",
    "        mode=\"markers\",\n",
    "        marker=dict(size=5, color=color),\n",
    "        text=f\"{frase} {vector}\",\n",
    "        hoverinfo=\"text\"\n",
    "    ))\n",
    "\n",
    "# Definir título e rótulos dos eixos com limites\n",
    "fig.update_layout(\n",
    "    title=\"Vetores de Frases - Gráfico de Pontos 3D\",\n",
    "    scene=dict(\n",
    "        xaxis=dict(title=\"Eixo oi\", range=[0, 2]),\n",
    "        yaxis=dict(title=\"Eixo bom\", range=[0, 2]),\n",
    "        zaxis=dict(title=\"Eixo horrível\", range=[0, 2])\n",
    "    ),\n",
    "    showlegend=False\n",
    ")\n",
    "\n",
    "# Mostrar o gráfico\n",
    "fig.show()\n"
   ]
  },
  {
   "cell_type": "markdown",
   "metadata": {},
   "source": [
    "## Similaridade entre vetores\n",
    "\n",
    "Para analisar quão similares são dois textos, uma alternativa é calcular a similaridade do cosseno entre os dois vetores que representam os textos.\n",
    "\n",
    "A similaridade do cosseno mede o cosseno do ângulo entre dois vetores. É uma medida popular em processamento de linguagem natural e recuperação de informações e pode ser calculada como:\n",
    "\n",
    "\n",
    "$$ s(A,B)= \\frac{\\sum(A_i \\times B_i)}{\\sqrt{\\sum(A_i^2)} ⋅ \\sqrt{\\sum(B_i^2)}} = \\frac{A⋅B}{∥A∥∥B∥}$$"
   ]
  },
  {
   "cell_type": "markdown",
   "metadata": {},
   "source": [
    "Veja uma definição em python:"
   ]
  },
  {
   "cell_type": "code",
   "execution_count": 27,
   "metadata": {},
   "outputs": [],
   "source": [
    "import numpy as np\n",
    "\n",
    "def cosine_similarity(vector1, vector2):\n",
    "    cosine_sim = np.dot(vector1, vector2) / (np.linalg.norm(vector1) * np.linalg.norm(vector2))\n",
    "    return cosine_sim"
   ]
  },
  {
   "cell_type": "markdown",
   "metadata": {},
   "source": [
    "**Dica**: Também é possível utilizar a função da biblioteca `scipy`:\n",
    "\n",
    "```python\n",
    "from scipy.spatial.distance import cosine\n",
    "```"
   ]
  },
  {
   "cell_type": "markdown",
   "metadata": {},
   "source": [
    "Vamos calcular a similaridade entre as frases:"
   ]
  },
  {
   "cell_type": "code",
   "execution_count": 28,
   "metadata": {},
   "outputs": [],
   "source": [
    "# Calcular a matriz de distância cosseno\n",
    "num_frases = len(frases)\n",
    "matriz_distancia = np.zeros((num_frases, num_frases))\n",
    "\n",
    "for i in range(num_frases):\n",
    "    for j in range(num_frases):\n",
    "        matriz_distancia[i, j] = cosine_similarity(vetores[i], vetores[j])"
   ]
  },
  {
   "cell_type": "markdown",
   "metadata": {},
   "source": [
    "E visualizar o mapa de calor:"
   ]
  },
  {
   "cell_type": "code",
   "execution_count": 29,
   "metadata": {},
   "outputs": [
    {
     "data": {
      "application/vnd.plotly.v1+json": {
       "config": {
        "plotlyServerURL": "https://plot.ly"
       },
       "data": [
        {
         "colorscale": [
          [
           0,
           "rgb(255,255,204)"
          ],
          [
           0.125,
           "rgb(255,237,160)"
          ],
          [
           0.25,
           "rgb(254,217,118)"
          ],
          [
           0.375,
           "rgb(254,178,76)"
          ],
          [
           0.5,
           "rgb(253,141,60)"
          ],
          [
           0.625,
           "rgb(252,78,42)"
          ],
          [
           0.75,
           "rgb(227,26,28)"
          ],
          [
           0.875,
           "rgb(189,0,38)"
          ],
          [
           1,
           "rgb(128,0,38)"
          ]
         ],
         "type": "heatmap",
         "x": [
          "oi tudo bom?",
          "bom dia",
          "foi horrível",
          "oi, tive um dia bom e horrível ao mesmo tempo"
         ],
         "y": [
          "oi tudo bom?",
          "bom dia",
          "foi horrível",
          "oi, tive um dia bom e horrível ao mesmo tempo"
         ],
         "z": {
          "bdata": "/v//////7z/MO39mnqDmPwAAAAAAAAAAPSwMcL0g6j/MO39mnqDmPwAAAAAAAPA/AAAAAAAAAAAdM5BFp3niPwAAAAAAAAAAAAAAAAAAAAAAAAAAAADwPx0zkEWneeI/PSwMcL0g6j8dM5BFp3niPx0zkEWneeI/AQAAAAAA8D8=",
          "dtype": "f8",
          "shape": "4, 4"
         }
        }
       ],
       "layout": {
        "template": {
         "data": {
          "bar": [
           {
            "error_x": {
             "color": "#2a3f5f"
            },
            "error_y": {
             "color": "#2a3f5f"
            },
            "marker": {
             "line": {
              "color": "#E5ECF6",
              "width": 0.5
             },
             "pattern": {
              "fillmode": "overlay",
              "size": 10,
              "solidity": 0.2
             }
            },
            "type": "bar"
           }
          ],
          "barpolar": [
           {
            "marker": {
             "line": {
              "color": "#E5ECF6",
              "width": 0.5
             },
             "pattern": {
              "fillmode": "overlay",
              "size": 10,
              "solidity": 0.2
             }
            },
            "type": "barpolar"
           }
          ],
          "carpet": [
           {
            "aaxis": {
             "endlinecolor": "#2a3f5f",
             "gridcolor": "white",
             "linecolor": "white",
             "minorgridcolor": "white",
             "startlinecolor": "#2a3f5f"
            },
            "baxis": {
             "endlinecolor": "#2a3f5f",
             "gridcolor": "white",
             "linecolor": "white",
             "minorgridcolor": "white",
             "startlinecolor": "#2a3f5f"
            },
            "type": "carpet"
           }
          ],
          "choropleth": [
           {
            "colorbar": {
             "outlinewidth": 0,
             "ticks": ""
            },
            "type": "choropleth"
           }
          ],
          "contour": [
           {
            "colorbar": {
             "outlinewidth": 0,
             "ticks": ""
            },
            "colorscale": [
             [
              0,
              "#0d0887"
             ],
             [
              0.1111111111111111,
              "#46039f"
             ],
             [
              0.2222222222222222,
              "#7201a8"
             ],
             [
              0.3333333333333333,
              "#9c179e"
             ],
             [
              0.4444444444444444,
              "#bd3786"
             ],
             [
              0.5555555555555556,
              "#d8576b"
             ],
             [
              0.6666666666666666,
              "#ed7953"
             ],
             [
              0.7777777777777778,
              "#fb9f3a"
             ],
             [
              0.8888888888888888,
              "#fdca26"
             ],
             [
              1,
              "#f0f921"
             ]
            ],
            "type": "contour"
           }
          ],
          "contourcarpet": [
           {
            "colorbar": {
             "outlinewidth": 0,
             "ticks": ""
            },
            "type": "contourcarpet"
           }
          ],
          "heatmap": [
           {
            "colorbar": {
             "outlinewidth": 0,
             "ticks": ""
            },
            "colorscale": [
             [
              0,
              "#0d0887"
             ],
             [
              0.1111111111111111,
              "#46039f"
             ],
             [
              0.2222222222222222,
              "#7201a8"
             ],
             [
              0.3333333333333333,
              "#9c179e"
             ],
             [
              0.4444444444444444,
              "#bd3786"
             ],
             [
              0.5555555555555556,
              "#d8576b"
             ],
             [
              0.6666666666666666,
              "#ed7953"
             ],
             [
              0.7777777777777778,
              "#fb9f3a"
             ],
             [
              0.8888888888888888,
              "#fdca26"
             ],
             [
              1,
              "#f0f921"
             ]
            ],
            "type": "heatmap"
           }
          ],
          "histogram": [
           {
            "marker": {
             "pattern": {
              "fillmode": "overlay",
              "size": 10,
              "solidity": 0.2
             }
            },
            "type": "histogram"
           }
          ],
          "histogram2d": [
           {
            "colorbar": {
             "outlinewidth": 0,
             "ticks": ""
            },
            "colorscale": [
             [
              0,
              "#0d0887"
             ],
             [
              0.1111111111111111,
              "#46039f"
             ],
             [
              0.2222222222222222,
              "#7201a8"
             ],
             [
              0.3333333333333333,
              "#9c179e"
             ],
             [
              0.4444444444444444,
              "#bd3786"
             ],
             [
              0.5555555555555556,
              "#d8576b"
             ],
             [
              0.6666666666666666,
              "#ed7953"
             ],
             [
              0.7777777777777778,
              "#fb9f3a"
             ],
             [
              0.8888888888888888,
              "#fdca26"
             ],
             [
              1,
              "#f0f921"
             ]
            ],
            "type": "histogram2d"
           }
          ],
          "histogram2dcontour": [
           {
            "colorbar": {
             "outlinewidth": 0,
             "ticks": ""
            },
            "colorscale": [
             [
              0,
              "#0d0887"
             ],
             [
              0.1111111111111111,
              "#46039f"
             ],
             [
              0.2222222222222222,
              "#7201a8"
             ],
             [
              0.3333333333333333,
              "#9c179e"
             ],
             [
              0.4444444444444444,
              "#bd3786"
             ],
             [
              0.5555555555555556,
              "#d8576b"
             ],
             [
              0.6666666666666666,
              "#ed7953"
             ],
             [
              0.7777777777777778,
              "#fb9f3a"
             ],
             [
              0.8888888888888888,
              "#fdca26"
             ],
             [
              1,
              "#f0f921"
             ]
            ],
            "type": "histogram2dcontour"
           }
          ],
          "mesh3d": [
           {
            "colorbar": {
             "outlinewidth": 0,
             "ticks": ""
            },
            "type": "mesh3d"
           }
          ],
          "parcoords": [
           {
            "line": {
             "colorbar": {
              "outlinewidth": 0,
              "ticks": ""
             }
            },
            "type": "parcoords"
           }
          ],
          "pie": [
           {
            "automargin": true,
            "type": "pie"
           }
          ],
          "scatter": [
           {
            "fillpattern": {
             "fillmode": "overlay",
             "size": 10,
             "solidity": 0.2
            },
            "type": "scatter"
           }
          ],
          "scatter3d": [
           {
            "line": {
             "colorbar": {
              "outlinewidth": 0,
              "ticks": ""
             }
            },
            "marker": {
             "colorbar": {
              "outlinewidth": 0,
              "ticks": ""
             }
            },
            "type": "scatter3d"
           }
          ],
          "scattercarpet": [
           {
            "marker": {
             "colorbar": {
              "outlinewidth": 0,
              "ticks": ""
             }
            },
            "type": "scattercarpet"
           }
          ],
          "scattergeo": [
           {
            "marker": {
             "colorbar": {
              "outlinewidth": 0,
              "ticks": ""
             }
            },
            "type": "scattergeo"
           }
          ],
          "scattergl": [
           {
            "marker": {
             "colorbar": {
              "outlinewidth": 0,
              "ticks": ""
             }
            },
            "type": "scattergl"
           }
          ],
          "scattermap": [
           {
            "marker": {
             "colorbar": {
              "outlinewidth": 0,
              "ticks": ""
             }
            },
            "type": "scattermap"
           }
          ],
          "scattermapbox": [
           {
            "marker": {
             "colorbar": {
              "outlinewidth": 0,
              "ticks": ""
             }
            },
            "type": "scattermapbox"
           }
          ],
          "scatterpolar": [
           {
            "marker": {
             "colorbar": {
              "outlinewidth": 0,
              "ticks": ""
             }
            },
            "type": "scatterpolar"
           }
          ],
          "scatterpolargl": [
           {
            "marker": {
             "colorbar": {
              "outlinewidth": 0,
              "ticks": ""
             }
            },
            "type": "scatterpolargl"
           }
          ],
          "scatterternary": [
           {
            "marker": {
             "colorbar": {
              "outlinewidth": 0,
              "ticks": ""
             }
            },
            "type": "scatterternary"
           }
          ],
          "surface": [
           {
            "colorbar": {
             "outlinewidth": 0,
             "ticks": ""
            },
            "colorscale": [
             [
              0,
              "#0d0887"
             ],
             [
              0.1111111111111111,
              "#46039f"
             ],
             [
              0.2222222222222222,
              "#7201a8"
             ],
             [
              0.3333333333333333,
              "#9c179e"
             ],
             [
              0.4444444444444444,
              "#bd3786"
             ],
             [
              0.5555555555555556,
              "#d8576b"
             ],
             [
              0.6666666666666666,
              "#ed7953"
             ],
             [
              0.7777777777777778,
              "#fb9f3a"
             ],
             [
              0.8888888888888888,
              "#fdca26"
             ],
             [
              1,
              "#f0f921"
             ]
            ],
            "type": "surface"
           }
          ],
          "table": [
           {
            "cells": {
             "fill": {
              "color": "#EBF0F8"
             },
             "line": {
              "color": "white"
             }
            },
            "header": {
             "fill": {
              "color": "#C8D4E3"
             },
             "line": {
              "color": "white"
             }
            },
            "type": "table"
           }
          ]
         },
         "layout": {
          "annotationdefaults": {
           "arrowcolor": "#2a3f5f",
           "arrowhead": 0,
           "arrowwidth": 1
          },
          "autotypenumbers": "strict",
          "coloraxis": {
           "colorbar": {
            "outlinewidth": 0,
            "ticks": ""
           }
          },
          "colorscale": {
           "diverging": [
            [
             0,
             "#8e0152"
            ],
            [
             0.1,
             "#c51b7d"
            ],
            [
             0.2,
             "#de77ae"
            ],
            [
             0.3,
             "#f1b6da"
            ],
            [
             0.4,
             "#fde0ef"
            ],
            [
             0.5,
             "#f7f7f7"
            ],
            [
             0.6,
             "#e6f5d0"
            ],
            [
             0.7,
             "#b8e186"
            ],
            [
             0.8,
             "#7fbc41"
            ],
            [
             0.9,
             "#4d9221"
            ],
            [
             1,
             "#276419"
            ]
           ],
           "sequential": [
            [
             0,
             "#0d0887"
            ],
            [
             0.1111111111111111,
             "#46039f"
            ],
            [
             0.2222222222222222,
             "#7201a8"
            ],
            [
             0.3333333333333333,
             "#9c179e"
            ],
            [
             0.4444444444444444,
             "#bd3786"
            ],
            [
             0.5555555555555556,
             "#d8576b"
            ],
            [
             0.6666666666666666,
             "#ed7953"
            ],
            [
             0.7777777777777778,
             "#fb9f3a"
            ],
            [
             0.8888888888888888,
             "#fdca26"
            ],
            [
             1,
             "#f0f921"
            ]
           ],
           "sequentialminus": [
            [
             0,
             "#0d0887"
            ],
            [
             0.1111111111111111,
             "#46039f"
            ],
            [
             0.2222222222222222,
             "#7201a8"
            ],
            [
             0.3333333333333333,
             "#9c179e"
            ],
            [
             0.4444444444444444,
             "#bd3786"
            ],
            [
             0.5555555555555556,
             "#d8576b"
            ],
            [
             0.6666666666666666,
             "#ed7953"
            ],
            [
             0.7777777777777778,
             "#fb9f3a"
            ],
            [
             0.8888888888888888,
             "#fdca26"
            ],
            [
             1,
             "#f0f921"
            ]
           ]
          },
          "colorway": [
           "#636efa",
           "#EF553B",
           "#00cc96",
           "#ab63fa",
           "#FFA15A",
           "#19d3f3",
           "#FF6692",
           "#B6E880",
           "#FF97FF",
           "#FECB52"
          ],
          "font": {
           "color": "#2a3f5f"
          },
          "geo": {
           "bgcolor": "white",
           "lakecolor": "white",
           "landcolor": "#E5ECF6",
           "showlakes": true,
           "showland": true,
           "subunitcolor": "white"
          },
          "hoverlabel": {
           "align": "left"
          },
          "hovermode": "closest",
          "mapbox": {
           "style": "light"
          },
          "paper_bgcolor": "white",
          "plot_bgcolor": "#E5ECF6",
          "polar": {
           "angularaxis": {
            "gridcolor": "white",
            "linecolor": "white",
            "ticks": ""
           },
           "bgcolor": "#E5ECF6",
           "radialaxis": {
            "gridcolor": "white",
            "linecolor": "white",
            "ticks": ""
           }
          },
          "scene": {
           "xaxis": {
            "backgroundcolor": "#E5ECF6",
            "gridcolor": "white",
            "gridwidth": 2,
            "linecolor": "white",
            "showbackground": true,
            "ticks": "",
            "zerolinecolor": "white"
           },
           "yaxis": {
            "backgroundcolor": "#E5ECF6",
            "gridcolor": "white",
            "gridwidth": 2,
            "linecolor": "white",
            "showbackground": true,
            "ticks": "",
            "zerolinecolor": "white"
           },
           "zaxis": {
            "backgroundcolor": "#E5ECF6",
            "gridcolor": "white",
            "gridwidth": 2,
            "linecolor": "white",
            "showbackground": true,
            "ticks": "",
            "zerolinecolor": "white"
           }
          },
          "shapedefaults": {
           "line": {
            "color": "#2a3f5f"
           }
          },
          "ternary": {
           "aaxis": {
            "gridcolor": "white",
            "linecolor": "white",
            "ticks": ""
           },
           "baxis": {
            "gridcolor": "white",
            "linecolor": "white",
            "ticks": ""
           },
           "bgcolor": "#E5ECF6",
           "caxis": {
            "gridcolor": "white",
            "linecolor": "white",
            "ticks": ""
           }
          },
          "title": {
           "x": 0.05
          },
          "xaxis": {
           "automargin": true,
           "gridcolor": "white",
           "linecolor": "white",
           "ticks": "",
           "title": {
            "standoff": 15
           },
           "zerolinecolor": "white",
           "zerolinewidth": 2
          },
          "yaxis": {
           "automargin": true,
           "gridcolor": "white",
           "linecolor": "white",
           "ticks": "",
           "title": {
            "standoff": 15
           },
           "zerolinecolor": "white",
           "zerolinewidth": 2
          }
         }
        },
        "title": {
         "text": "Matriz de Distância Cosseno"
        },
        "xaxis": {
         "title": {
          "text": "Frases"
         }
        },
        "yaxis": {
         "title": {
          "text": "Frases"
         }
        }
       }
      }
     },
     "metadata": {},
     "output_type": "display_data"
    }
   ],
   "source": [
    "# Criar uma figura do Plotly\n",
    "fig = go.Figure(data=go.Heatmap(\n",
    "    z=matriz_distancia,\n",
    "    x=frases,\n",
    "    y=frases,\n",
    "    colorscale=\"YlOrRd\"\n",
    "))\n",
    "\n",
    "# Definir título e rótulos dos eixos\n",
    "fig.update_layout(\n",
    "    title=\"Matriz de Distância Cosseno\",\n",
    "    xaxis_title=\"Frases\",\n",
    "    yaxis_title=\"Frases\"\n",
    ")\n",
    "\n",
    "# Mostrar o gráfico\n",
    "fig.show()"
   ]
  },
  {
   "cell_type": "markdown",
   "metadata": {},
   "source": [
    "**Exercício**: A frase `\"bom dia\"` é mais similar à frase `\"oi tudo bom?\"` ou à frase `\"foi horrível\"`?"
   ]
  },
  {
   "cell_type": "code",
   "execution_count": 30,
   "metadata": {},
   "outputs": [
    {
     "data": {
      "text/plain": [
       "'oi tudo bom?'"
      ]
     },
     "execution_count": 30,
     "metadata": {},
     "output_type": "execute_result"
    }
   ],
   "source": [
    "# Sua resposta aqui!\n",
    "\"oi tudo bom?\""
   ]
  },
  {
   "cell_type": "markdown",
   "metadata": {},
   "source": [
    "**Exercício**: Qual seria a representação vetorial da frase `\"olá tenham todos um dia horrível\"` considerando o mesmo dicionário do exemplo?\n",
    "\n",
    "<a href=\"#\" title=\"[0, 0, 1] pois apenas a palavra 'horrivel' está no dicionário e no texto!\">Passe o mouse aqui para conferir resposta.</a>"
   ]
  },
  {
   "cell_type": "code",
   "execution_count": 31,
   "metadata": {},
   "outputs": [
    {
     "data": {
      "text/plain": [
       "[0, 0, 1]"
      ]
     },
     "execution_count": 31,
     "metadata": {},
     "output_type": "execute_result"
    }
   ],
   "source": [
    "# Sua resposta aqui!\n",
    "[0, 0, 1]"
   ]
  },
  {
   "cell_type": "markdown",
   "metadata": {},
   "source": [
    "Outras alternativas incluem o uso de:\n",
    "\n",
    "- distância euclidiana:\n",
    "\n",
    "$$ d(A, B) = \\sqrt{\\sum_{i=1}^{n} (A_i - B_i)^2} $$\n",
    "\n",
    "- distância euclidiana ao quadrado ou norma L2 ao quadrado (equivalentes):\n",
    "\n",
    "$$d(\\mathbf{A}, \\mathbf{B})^2 = \\|\\mathbf{A} - \\mathbf{B}\\|_2^2 = \\sum_{i=1}^{n} (A_i - B_i)^2$$\n",
    "\n",
    "- produto interno:\n",
    "\n",
    "$$\\langle \\mathbf{A}, \\mathbf{B} \\rangle = 1 - \\sum_{i=1}^{n} A_i B_i$$\n",
    "\n",
    "**Atenção**: neste bloco, definimos as alternativas como funções de distância. Em busca por similaridade, a similaridade é maximizada, enquanto que a distância é minimizada (onde você normalmente procuraria alta similaridade, você vai querer baixa distância)."
   ]
  },
  {
   "cell_type": "markdown",
   "metadata": {},
   "source": [
    "## Indo além do BoW: Word Embeddings\n",
    "\n",
    "Embora seja simples e eficiente, o **BoW** tem várias limitações. Primeiramente, ele não captura a semântica das palavras. Por exemplo, as palavras `\"cão\"` e `\"cachorro\"` são sinônimos, mas no **BoW**, elas são tratadas como palavras completamente diferentes.\n",
    "\n",
    "Além disso, **BoW** também não considera a **ordem das palavras**, o que pode ser problemático para entender o contexto. Por exemplo, as frases `\"o gato mordeu o cachorro\"` e `\"o cachorro mordeu o gato\"` têm significados muito diferentes, mas no **BoW**, elas podem ser representadas da mesma forma se contiverem as mesmas palavras."
   ]
  },
  {
   "cell_type": "markdown",
   "metadata": {},
   "source": [
    "Esses problemas levam à necessidade de representações de texto mais avançadas, que capturam a semântica e o contexto das palavras. É aqui que os *embeddings* entram em cena. *Embeddings* são representações vetoriais densas onde **palavras com significados semelhantes têm representações semelhantes**.\n",
    "\n",
    "<img src=\"img/embedding.png\">\n",
    "\n",
    "\n",
    "Diferentemente do **BoW**, que representa cada palavra como um valor único em um vetor esparso, os *embeddings* mapeiam palavras para um espaço **vetorial contínuo** de relativa baixa dimensão. Isso permite que relações semânticas e contextuais sejam preservadas.\n",
    "\n",
    "Por exemplo, em um espaço de *embeddings*, as palavras `\"rei\"` e `\"rainha\"` estarão próximas uma da outra, refletindo sua semelhança semântica, enquanto estarão longe de uma palavra como `\"carro\"`.\n",
    "\n",
    "<style>\n",
    "    .image-container {\n",
    "        background-color: white;\n",
    "        display: inline-block;\n",
    "    }\n",
    "</style>\n",
    "\n",
    "<div class=\"image-container\">\n",
    "    <img src=\"img/emb_vectors.png\">\n",
    "</div>"
   ]
  },
  {
   "cell_type": "markdown",
   "metadata": {},
   "source": [
    "Os modelos utilizados para *embedding* são geralmente treinados em grandes corpora de texto. Esses modelos aprendem as representações vetoriais das palavras com base em seu contexto de uso nas frases, capturando assim **nuances semânticas** e **sintáticas** que **BoW** não consegue."
   ]
  },
  {
   "cell_type": "markdown",
   "metadata": {},
   "source": [
    "**Dica**: os modelos modernos de redes neurais em **NLP** processam **tokens** em vez de palavras. Um token é a menor unidade de texto que pode ser processada pelo modelo. Tokens podem ser palavras, caracteres, sinais de pontuação, símbolos ou partes de palavras.\n",
    "\n",
    "Acesse o link https://platform.openai.com/tokenizer e experimente o tokenizador online da OpenAI. Digite alguns textos, com pontuações, e observe os tokens gerados.\n",
    "\n",
    "<img src=\"img/openai_tokens.png\">"
   ]
  },
  {
   "cell_type": "markdown",
   "metadata": {},
   "source": [
    "### SentenceTransformers Embeddings\n",
    "\n",
    "Vamos utilizar a biblioteca [**SentenceTransformers**](https://sbert.net/) para obter o embedding de textos.\n",
    "\n",
    "Veja mais em https://sbert.net/\n",
    "\n",
    "Podemos especificar o modelo com (veja mais modelos em https://www.sbert.net/docs/sentence_transformer/pretrained_models.html):"
   ]
  },
  {
   "cell_type": "code",
   "execution_count": 32,
   "metadata": {},
   "outputs": [],
   "source": [
    "from sentence_transformers import SentenceTransformer\n",
    "\n",
    "embedding_model_name = \"multi-qa-MiniLM-L6-cos-v1\"\n",
    "embedding_model = SentenceTransformer(embedding_model_name)"
   ]
  },
  {
   "cell_type": "markdown",
   "metadata": {},
   "source": [
    "E utilizar para fazer o embedding de uma frase:"
   ]
  },
  {
   "cell_type": "code",
   "execution_count": 33,
   "metadata": {},
   "outputs": [],
   "source": [
    "vetor = embedding_model.encode(\"meu cachorro é muito fofo\")"
   ]
  },
  {
   "cell_type": "markdown",
   "metadata": {},
   "source": [
    "Conferindo o resultado:"
   ]
  },
  {
   "cell_type": "code",
   "execution_count": 34,
   "metadata": {},
   "outputs": [
    {
     "name": "stdout",
     "output_type": "stream",
     "text": [
      "O vetor tem 384 dimensões\n"
     ]
    }
   ],
   "source": [
    "print(f\"O vetor tem {len(vetor)} dimensões\")"
   ]
  },
  {
   "cell_type": "code",
   "execution_count": 35,
   "metadata": {},
   "outputs": [
    {
     "data": {
      "text/plain": [
       "array([-3.51005569e-02, -8.63294210e-03,  1.45162363e-02, -1.08098576e-03,\n",
       "       -1.89534370e-02, -1.32326018e-02,  1.51183426e-01,  3.72115001e-02,\n",
       "       -4.36554337e-03,  1.29401712e-02, -2.70885397e-02, -1.61787942e-01,\n",
       "       -1.72241416e-03,  2.98229679e-02, -6.25767186e-02,  1.56986807e-02,\n",
       "        8.10203850e-02, -4.34880927e-02, -9.78889409e-03, -1.77063420e-02,\n",
       "        3.41576412e-02,  4.09843726e-03, -5.16073331e-02,  3.36873941e-02,\n",
       "       -7.39732012e-02,  2.85558272e-02, -5.30630024e-03,  4.62772027e-02,\n",
       "       -6.50665984e-02, -1.20001979e-01,  7.91811850e-03,  4.42371964e-02,\n",
       "        9.64584500e-02, -1.18117128e-02,  1.90767497e-02,  1.69214401e-02,\n",
       "        6.86635682e-03, -3.02379057e-02,  4.60491925e-02,  5.05991373e-03,\n",
       "       -8.05164948e-02, -3.18694524e-02,  5.23832627e-02,  5.35883605e-02,\n",
       "        3.08352932e-02, -4.22245599e-02,  3.44336359e-03,  1.72899943e-02,\n",
       "        8.47037509e-02,  2.75640320e-02, -7.48745799e-02,  2.59381533e-03,\n",
       "       -3.50019820e-02,  9.15050432e-02,  3.92320864e-02, -1.13906153e-02,\n",
       "       -1.08976243e-02,  5.99299148e-02,  2.46115085e-02,  5.62389195e-02,\n",
       "       -4.56211977e-02,  1.62537042e-02,  4.43333238e-02,  5.79063520e-02,\n",
       "        4.09832485e-02, -1.16288168e-02,  7.95475487e-03, -9.78881121e-03,\n",
       "       -6.36035278e-02,  7.25999624e-02,  1.79446116e-02, -7.12711886e-02,\n",
       "        4.08203751e-02,  1.95360486e-03,  2.86854692e-02,  5.58645166e-02,\n",
       "       -4.09370102e-02, -2.86664385e-02,  6.36969358e-02, -3.22570978e-03,\n",
       "        1.53247658e-02, -1.14843220e-01,  1.16869714e-03, -1.00008927e-01,\n",
       "        1.09511577e-01,  2.56686285e-02, -2.93088872e-02, -4.02725078e-02,\n",
       "        3.54049914e-02, -6.39966130e-02, -2.38365848e-02, -5.27781360e-02,\n",
       "       -5.22572957e-02, -3.59477326e-02,  2.18762811e-02,  3.10234260e-02,\n",
       "       -3.32134888e-02, -4.33742208e-03, -6.83861151e-02,  7.54864141e-02,\n",
       "        1.53724132e-02,  5.15512340e-02,  3.19549651e-03,  4.88354964e-03,\n",
       "       -7.61416182e-02,  1.03994548e-01,  4.66370992e-02,  2.33312398e-02,\n",
       "        2.84295417e-02,  5.96702062e-02, -4.81486432e-02, -1.77990124e-02,\n",
       "       -1.97633542e-02, -4.21996275e-03,  1.40105663e-02,  1.16627611e-01,\n",
       "        8.10915828e-02,  1.35179041e-02, -1.46497758e-02, -9.53851864e-02,\n",
       "       -2.48147789e-02, -5.20110540e-02, -6.48070574e-02, -5.55660278e-02,\n",
       "       -2.10980028e-02,  1.61660742e-02,  1.74719803e-02, -8.81796793e-32,\n",
       "        8.55762162e-04, -6.84422702e-02, -1.11347134e-03,  9.24497377e-03,\n",
       "       -1.84103400e-02, -4.45290245e-02, -1.78477727e-02, -1.22384885e-02,\n",
       "       -1.16054855e-01, -5.15643731e-02,  2.35806201e-02, -5.31523190e-02,\n",
       "       -4.01121937e-02,  9.55631305e-03,  4.32213768e-02, -2.41783112e-02,\n",
       "        2.04836950e-02, -1.31842047e-01,  2.32958943e-02, -3.64213474e-02,\n",
       "        4.38836291e-02, -1.85418352e-02, -4.49239202e-02, -5.61392494e-02,\n",
       "        1.48294894e-02,  6.31533042e-02,  6.40101638e-03, -2.94595659e-02,\n",
       "       -5.59366271e-02,  7.87312612e-02, -2.55494844e-02,  1.02094568e-01,\n",
       "       -2.74841692e-02,  2.29791366e-03, -1.00419104e-01, -7.48732686e-02,\n",
       "       -5.06930016e-02,  1.21023189e-02,  2.16543730e-02,  1.09935431e-02,\n",
       "       -8.50722846e-03,  2.53811870e-02, -6.39596162e-03, -6.77212477e-02,\n",
       "       -2.88618486e-02,  2.49312562e-03,  7.82258138e-02,  3.61988991e-02,\n",
       "        1.23222478e-01,  3.86938490e-02, -3.46361026e-02, -6.74023181e-02,\n",
       "       -9.69146788e-02, -4.25535627e-02,  1.55572994e-02, -3.74627393e-03,\n",
       "       -8.38041380e-02,  5.42185679e-02,  6.64741322e-02,  9.63069778e-03,\n",
       "        6.41440079e-02,  1.66991111e-02, -4.86160628e-02,  6.95541427e-02,\n",
       "       -7.67072663e-02, -5.99733554e-02, -7.08030118e-03,  5.29966056e-02,\n",
       "        1.11977957e-01,  3.32969837e-02, -1.21000474e-02, -3.15144919e-02,\n",
       "       -2.55325343e-02, -6.69174921e-03, -6.98126806e-03,  2.20324360e-02,\n",
       "        9.17454138e-02, -5.74004613e-02, -4.97289514e-03,  3.58765991e-03,\n",
       "        2.37684939e-02, -1.25456005e-02, -2.49271072e-03,  4.58890572e-02,\n",
       "        8.06906726e-04,  8.66315141e-02,  1.08012751e-01,  3.95993106e-02,\n",
       "       -3.48518342e-02,  6.12754188e-02, -2.96806619e-02, -1.38869341e-02,\n",
       "        9.71423537e-02, -9.01802257e-02, -7.06071183e-02, -3.71135084e-33,\n",
       "        2.90524196e-02,  2.22503711e-02,  1.43455854e-02,  1.42744044e-02,\n",
       "       -3.76272611e-02, -2.29824893e-02,  6.54418692e-02,  3.60113643e-02,\n",
       "        5.49597433e-03, -5.28770611e-02, -4.28077728e-02, -3.81559990e-02,\n",
       "        5.37388660e-02, -2.88383048e-02, -4.78172069e-03,  3.78225930e-02,\n",
       "       -1.34087401e-02, -8.20906460e-02, -5.01012914e-02, -1.34513453e-02,\n",
       "       -2.06887349e-03,  1.50280055e-02,  6.37990609e-02, -4.22535464e-02,\n",
       "       -4.58147079e-02,  1.22441305e-02,  5.21056652e-02,  6.36009648e-02,\n",
       "        6.90156501e-03,  7.14734346e-02, -7.43376389e-02, -4.54250276e-02,\n",
       "       -3.42772380e-02,  3.24719585e-02, -2.12181285e-02,  2.99500991e-02,\n",
       "        1.58162825e-02, -2.66411304e-02, -1.78319011e-02,  3.86040509e-02,\n",
       "       -3.92424464e-02,  6.27430975e-02, -2.86965445e-02,  7.35945720e-03,\n",
       "       -3.14153247e-02, -4.42278013e-03,  2.11556088e-02, -6.97320551e-02,\n",
       "       -6.25460222e-02, -4.85889502e-02,  2.06003468e-02, -4.07341868e-02,\n",
       "       -2.82512791e-02, -9.47032997e-04, -4.60639186e-02,  8.88090134e-02,\n",
       "        3.81313376e-02, -9.09438506e-02, -1.08418509e-01, -4.43760119e-02,\n",
       "       -2.45666932e-02,  6.51663318e-02, -4.76051271e-02, -3.14234830e-02,\n",
       "        7.30077922e-02,  8.50675404e-02, -7.09719360e-02,  2.72565037e-02,\n",
       "       -1.83586311e-02,  2.91669760e-02,  2.00927071e-02, -1.14880070e-01,\n",
       "       -3.31585519e-02,  2.36179270e-02, -2.56921817e-02, -4.50399816e-02,\n",
       "       -1.17622152e-01,  7.90218562e-02, -2.57996451e-02,  2.02707015e-03,\n",
       "        4.44836468e-02,  1.90983899e-02, -8.46046358e-02,  8.78776517e-03,\n",
       "        6.18581567e-03, -3.36230397e-02, -7.05251768e-02, -6.45945966e-02,\n",
       "        1.45465165e-01,  4.16742340e-02, -3.47024389e-02,  1.08678818e-01,\n",
       "        2.77550844e-03,  7.24924449e-03,  5.26012592e-02,  9.91366844e-34,\n",
       "        7.96167552e-02, -1.12678260e-01,  6.07277304e-02,  5.94391823e-02,\n",
       "        2.20513847e-02, -3.13104987e-02, -6.55042082e-02, -7.52371848e-02,\n",
       "       -9.31813382e-03,  5.98939024e-02,  7.22501893e-04,  7.96825811e-02,\n",
       "       -4.23576646e-02, -2.87911966e-02, -7.57745188e-03,  3.71375941e-02,\n",
       "        8.53949413e-03,  3.73121761e-02, -3.70521620e-02, -2.29774155e-02,\n",
       "       -9.32571013e-03, -2.68760026e-02,  2.25808490e-02, -3.76890749e-02,\n",
       "       -9.04742330e-02,  2.46362146e-02, -4.35555428e-02, -9.28810798e-03,\n",
       "       -4.48692814e-02, -5.66898612e-03, -3.24904849e-03,  5.48210293e-02,\n",
       "       -5.02969734e-02, -7.70770833e-02, -4.85199206e-02,  4.42814380e-02,\n",
       "       -6.21979591e-03, -3.83082554e-02, -5.45541979e-02, -5.06960079e-02,\n",
       "        1.02238789e-01, -3.77544537e-02,  3.98790427e-02,  3.67914364e-02,\n",
       "        3.50967683e-02, -2.55709458e-02, -9.61133912e-02,  6.87864469e-03,\n",
       "        8.10521469e-02,  4.51670624e-02,  1.10092629e-02,  3.04973219e-02,\n",
       "        2.70021390e-02,  4.87841927e-02, -8.28258973e-03, -2.78839120e-03,\n",
       "        4.91361646e-03, -6.91580493e-03, -1.20683489e-02, -3.93737406e-02,\n",
       "        1.10535860e-01,  2.20605657e-02,  3.22697759e-02, -5.54103181e-02],\n",
       "      dtype=float32)"
      ]
     },
     "execution_count": 35,
     "metadata": {},
     "output_type": "execute_result"
    }
   ],
   "source": [
    "vetor"
   ]
  },
  {
   "cell_type": "markdown",
   "metadata": {},
   "source": [
    "Agora, vamos definir algumas frases:"
   ]
  },
  {
   "cell_type": "code",
   "execution_count": 36,
   "metadata": {},
   "outputs": [],
   "source": [
    "frases_novas = [\n",
    "    \"meu cachorro é muito fofo\",\n",
    "    \"iphone 15 pro max é muito caro\",\n",
    "    \"quero um pet que é amigo das crianças\",\n",
    "    \"smartphones estão focando em IA\",\n",
    "    \"apple encerra programa de carro autônomo\",\n",
    "]"
   ]
  },
  {
   "cell_type": "markdown",
   "metadata": {},
   "source": [
    "E fazer o embedding de cada frase:"
   ]
  },
  {
   "cell_type": "code",
   "execution_count": 37,
   "metadata": {},
   "outputs": [],
   "source": [
    "vetores_novos = embedding_model.encode(frases_novas)"
   ]
  },
  {
   "cell_type": "markdown",
   "metadata": {},
   "source": [
    "Obtemos como resultado:"
   ]
  },
  {
   "cell_type": "code",
   "execution_count": 38,
   "metadata": {},
   "outputs": [
    {
     "name": "stdout",
     "output_type": "stream",
     "text": [
      "A matriz possui 5 vetores\n",
      "Cada vetor possui 384 dimensões\n",
      "Ou seja, temos uma matriz 5x384\n"
     ]
    }
   ],
   "source": [
    "print(f\"A matriz possui {len(vetores_novos)} vetores\")\n",
    "print(f\"Cada vetor possui {len(vetores_novos[0])} dimensões\")\n",
    "print(f\"Ou seja, temos uma matriz {len(vetores_novos)}x{len(vetores_novos[0])}\")"
   ]
  },
  {
   "cell_type": "markdown",
   "metadata": {},
   "source": [
    "Vamos calcular a similaridade entre as frases pelo cálculo da similaridade cosseno entre os seus vetores:\n",
    "\n",
    "Confira quais frases são mais similares entre si."
   ]
  },
  {
   "cell_type": "code",
   "execution_count": 39,
   "metadata": {},
   "outputs": [
    {
     "data": {
      "application/vnd.plotly.v1+json": {
       "config": {
        "plotlyServerURL": "https://plot.ly"
       },
       "data": [
        {
         "coloraxis": "coloraxis",
         "hovertemplate": "Frases: %{x}<br>Frases: %{y}<br>Similaridade: %{z}<extra></extra>",
         "name": "0",
         "type": "heatmap",
         "x": [
          "meu cachorro é muito fofo",
          "iphone 15 pro max é muito caro",
          "quero um pet que é amigo das crianças",
          "smartphones estão focando em IA",
          "apple encerra programa de carro autônomo"
         ],
         "xaxis": "x",
         "y": [
          "meu cachorro é muito fofo",
          "iphone 15 pro max é muito caro",
          "quero um pet que é amigo das crianças",
          "smartphones estão focando em IA",
          "apple encerra programa de carro autônomo"
         ],
         "yaxis": "y",
         "z": {
          "bdata": "AQCAP9Li8z7Ekbo+NMC+PhqHrj7S4vM+AACAPzxUcz6oShQ/5dDKPsSRuj48VHM+//9/P9DWmD5/lYw+NMC+PqhKFD/Q1pg+AQCAP7QvvT4ah64+5dDKPn+VjD60L70+AQCAPw==",
          "dtype": "f4",
          "shape": "5, 5"
         }
        }
       ],
       "layout": {
        "coloraxis": {
         "colorbar": {
          "title": {
           "text": "Similaridade"
          }
         },
         "colorscale": [
          [
           0,
           "#440154"
          ],
          [
           0.1111111111111111,
           "#482878"
          ],
          [
           0.2222222222222222,
           "#3e4989"
          ],
          [
           0.3333333333333333,
           "#31688e"
          ],
          [
           0.4444444444444444,
           "#26828e"
          ],
          [
           0.5555555555555556,
           "#1f9e89"
          ],
          [
           0.6666666666666666,
           "#35b779"
          ],
          [
           0.7777777777777778,
           "#6ece58"
          ],
          [
           0.8888888888888888,
           "#b5de2b"
          ],
          [
           1,
           "#fde725"
          ]
         ]
        },
        "margin": {
         "t": 60
        },
        "template": {
         "data": {
          "bar": [
           {
            "error_x": {
             "color": "#2a3f5f"
            },
            "error_y": {
             "color": "#2a3f5f"
            },
            "marker": {
             "line": {
              "color": "#E5ECF6",
              "width": 0.5
             },
             "pattern": {
              "fillmode": "overlay",
              "size": 10,
              "solidity": 0.2
             }
            },
            "type": "bar"
           }
          ],
          "barpolar": [
           {
            "marker": {
             "line": {
              "color": "#E5ECF6",
              "width": 0.5
             },
             "pattern": {
              "fillmode": "overlay",
              "size": 10,
              "solidity": 0.2
             }
            },
            "type": "barpolar"
           }
          ],
          "carpet": [
           {
            "aaxis": {
             "endlinecolor": "#2a3f5f",
             "gridcolor": "white",
             "linecolor": "white",
             "minorgridcolor": "white",
             "startlinecolor": "#2a3f5f"
            },
            "baxis": {
             "endlinecolor": "#2a3f5f",
             "gridcolor": "white",
             "linecolor": "white",
             "minorgridcolor": "white",
             "startlinecolor": "#2a3f5f"
            },
            "type": "carpet"
           }
          ],
          "choropleth": [
           {
            "colorbar": {
             "outlinewidth": 0,
             "ticks": ""
            },
            "type": "choropleth"
           }
          ],
          "contour": [
           {
            "colorbar": {
             "outlinewidth": 0,
             "ticks": ""
            },
            "colorscale": [
             [
              0,
              "#0d0887"
             ],
             [
              0.1111111111111111,
              "#46039f"
             ],
             [
              0.2222222222222222,
              "#7201a8"
             ],
             [
              0.3333333333333333,
              "#9c179e"
             ],
             [
              0.4444444444444444,
              "#bd3786"
             ],
             [
              0.5555555555555556,
              "#d8576b"
             ],
             [
              0.6666666666666666,
              "#ed7953"
             ],
             [
              0.7777777777777778,
              "#fb9f3a"
             ],
             [
              0.8888888888888888,
              "#fdca26"
             ],
             [
              1,
              "#f0f921"
             ]
            ],
            "type": "contour"
           }
          ],
          "contourcarpet": [
           {
            "colorbar": {
             "outlinewidth": 0,
             "ticks": ""
            },
            "type": "contourcarpet"
           }
          ],
          "heatmap": [
           {
            "colorbar": {
             "outlinewidth": 0,
             "ticks": ""
            },
            "colorscale": [
             [
              0,
              "#0d0887"
             ],
             [
              0.1111111111111111,
              "#46039f"
             ],
             [
              0.2222222222222222,
              "#7201a8"
             ],
             [
              0.3333333333333333,
              "#9c179e"
             ],
             [
              0.4444444444444444,
              "#bd3786"
             ],
             [
              0.5555555555555556,
              "#d8576b"
             ],
             [
              0.6666666666666666,
              "#ed7953"
             ],
             [
              0.7777777777777778,
              "#fb9f3a"
             ],
             [
              0.8888888888888888,
              "#fdca26"
             ],
             [
              1,
              "#f0f921"
             ]
            ],
            "type": "heatmap"
           }
          ],
          "histogram": [
           {
            "marker": {
             "pattern": {
              "fillmode": "overlay",
              "size": 10,
              "solidity": 0.2
             }
            },
            "type": "histogram"
           }
          ],
          "histogram2d": [
           {
            "colorbar": {
             "outlinewidth": 0,
             "ticks": ""
            },
            "colorscale": [
             [
              0,
              "#0d0887"
             ],
             [
              0.1111111111111111,
              "#46039f"
             ],
             [
              0.2222222222222222,
              "#7201a8"
             ],
             [
              0.3333333333333333,
              "#9c179e"
             ],
             [
              0.4444444444444444,
              "#bd3786"
             ],
             [
              0.5555555555555556,
              "#d8576b"
             ],
             [
              0.6666666666666666,
              "#ed7953"
             ],
             [
              0.7777777777777778,
              "#fb9f3a"
             ],
             [
              0.8888888888888888,
              "#fdca26"
             ],
             [
              1,
              "#f0f921"
             ]
            ],
            "type": "histogram2d"
           }
          ],
          "histogram2dcontour": [
           {
            "colorbar": {
             "outlinewidth": 0,
             "ticks": ""
            },
            "colorscale": [
             [
              0,
              "#0d0887"
             ],
             [
              0.1111111111111111,
              "#46039f"
             ],
             [
              0.2222222222222222,
              "#7201a8"
             ],
             [
              0.3333333333333333,
              "#9c179e"
             ],
             [
              0.4444444444444444,
              "#bd3786"
             ],
             [
              0.5555555555555556,
              "#d8576b"
             ],
             [
              0.6666666666666666,
              "#ed7953"
             ],
             [
              0.7777777777777778,
              "#fb9f3a"
             ],
             [
              0.8888888888888888,
              "#fdca26"
             ],
             [
              1,
              "#f0f921"
             ]
            ],
            "type": "histogram2dcontour"
           }
          ],
          "mesh3d": [
           {
            "colorbar": {
             "outlinewidth": 0,
             "ticks": ""
            },
            "type": "mesh3d"
           }
          ],
          "parcoords": [
           {
            "line": {
             "colorbar": {
              "outlinewidth": 0,
              "ticks": ""
             }
            },
            "type": "parcoords"
           }
          ],
          "pie": [
           {
            "automargin": true,
            "type": "pie"
           }
          ],
          "scatter": [
           {
            "fillpattern": {
             "fillmode": "overlay",
             "size": 10,
             "solidity": 0.2
            },
            "type": "scatter"
           }
          ],
          "scatter3d": [
           {
            "line": {
             "colorbar": {
              "outlinewidth": 0,
              "ticks": ""
             }
            },
            "marker": {
             "colorbar": {
              "outlinewidth": 0,
              "ticks": ""
             }
            },
            "type": "scatter3d"
           }
          ],
          "scattercarpet": [
           {
            "marker": {
             "colorbar": {
              "outlinewidth": 0,
              "ticks": ""
             }
            },
            "type": "scattercarpet"
           }
          ],
          "scattergeo": [
           {
            "marker": {
             "colorbar": {
              "outlinewidth": 0,
              "ticks": ""
             }
            },
            "type": "scattergeo"
           }
          ],
          "scattergl": [
           {
            "marker": {
             "colorbar": {
              "outlinewidth": 0,
              "ticks": ""
             }
            },
            "type": "scattergl"
           }
          ],
          "scattermap": [
           {
            "marker": {
             "colorbar": {
              "outlinewidth": 0,
              "ticks": ""
             }
            },
            "type": "scattermap"
           }
          ],
          "scattermapbox": [
           {
            "marker": {
             "colorbar": {
              "outlinewidth": 0,
              "ticks": ""
             }
            },
            "type": "scattermapbox"
           }
          ],
          "scatterpolar": [
           {
            "marker": {
             "colorbar": {
              "outlinewidth": 0,
              "ticks": ""
             }
            },
            "type": "scatterpolar"
           }
          ],
          "scatterpolargl": [
           {
            "marker": {
             "colorbar": {
              "outlinewidth": 0,
              "ticks": ""
             }
            },
            "type": "scatterpolargl"
           }
          ],
          "scatterternary": [
           {
            "marker": {
             "colorbar": {
              "outlinewidth": 0,
              "ticks": ""
             }
            },
            "type": "scatterternary"
           }
          ],
          "surface": [
           {
            "colorbar": {
             "outlinewidth": 0,
             "ticks": ""
            },
            "colorscale": [
             [
              0,
              "#0d0887"
             ],
             [
              0.1111111111111111,
              "#46039f"
             ],
             [
              0.2222222222222222,
              "#7201a8"
             ],
             [
              0.3333333333333333,
              "#9c179e"
             ],
             [
              0.4444444444444444,
              "#bd3786"
             ],
             [
              0.5555555555555556,
              "#d8576b"
             ],
             [
              0.6666666666666666,
              "#ed7953"
             ],
             [
              0.7777777777777778,
              "#fb9f3a"
             ],
             [
              0.8888888888888888,
              "#fdca26"
             ],
             [
              1,
              "#f0f921"
             ]
            ],
            "type": "surface"
           }
          ],
          "table": [
           {
            "cells": {
             "fill": {
              "color": "#EBF0F8"
             },
             "line": {
              "color": "white"
             }
            },
            "header": {
             "fill": {
              "color": "#C8D4E3"
             },
             "line": {
              "color": "white"
             }
            },
            "type": "table"
           }
          ]
         },
         "layout": {
          "annotationdefaults": {
           "arrowcolor": "#2a3f5f",
           "arrowhead": 0,
           "arrowwidth": 1
          },
          "autotypenumbers": "strict",
          "coloraxis": {
           "colorbar": {
            "outlinewidth": 0,
            "ticks": ""
           }
          },
          "colorscale": {
           "diverging": [
            [
             0,
             "#8e0152"
            ],
            [
             0.1,
             "#c51b7d"
            ],
            [
             0.2,
             "#de77ae"
            ],
            [
             0.3,
             "#f1b6da"
            ],
            [
             0.4,
             "#fde0ef"
            ],
            [
             0.5,
             "#f7f7f7"
            ],
            [
             0.6,
             "#e6f5d0"
            ],
            [
             0.7,
             "#b8e186"
            ],
            [
             0.8,
             "#7fbc41"
            ],
            [
             0.9,
             "#4d9221"
            ],
            [
             1,
             "#276419"
            ]
           ],
           "sequential": [
            [
             0,
             "#0d0887"
            ],
            [
             0.1111111111111111,
             "#46039f"
            ],
            [
             0.2222222222222222,
             "#7201a8"
            ],
            [
             0.3333333333333333,
             "#9c179e"
            ],
            [
             0.4444444444444444,
             "#bd3786"
            ],
            [
             0.5555555555555556,
             "#d8576b"
            ],
            [
             0.6666666666666666,
             "#ed7953"
            ],
            [
             0.7777777777777778,
             "#fb9f3a"
            ],
            [
             0.8888888888888888,
             "#fdca26"
            ],
            [
             1,
             "#f0f921"
            ]
           ],
           "sequentialminus": [
            [
             0,
             "#0d0887"
            ],
            [
             0.1111111111111111,
             "#46039f"
            ],
            [
             0.2222222222222222,
             "#7201a8"
            ],
            [
             0.3333333333333333,
             "#9c179e"
            ],
            [
             0.4444444444444444,
             "#bd3786"
            ],
            [
             0.5555555555555556,
             "#d8576b"
            ],
            [
             0.6666666666666666,
             "#ed7953"
            ],
            [
             0.7777777777777778,
             "#fb9f3a"
            ],
            [
             0.8888888888888888,
             "#fdca26"
            ],
            [
             1,
             "#f0f921"
            ]
           ]
          },
          "colorway": [
           "#636efa",
           "#EF553B",
           "#00cc96",
           "#ab63fa",
           "#FFA15A",
           "#19d3f3",
           "#FF6692",
           "#B6E880",
           "#FF97FF",
           "#FECB52"
          ],
          "font": {
           "color": "#2a3f5f"
          },
          "geo": {
           "bgcolor": "white",
           "lakecolor": "white",
           "landcolor": "#E5ECF6",
           "showlakes": true,
           "showland": true,
           "subunitcolor": "white"
          },
          "hoverlabel": {
           "align": "left"
          },
          "hovermode": "closest",
          "mapbox": {
           "style": "light"
          },
          "paper_bgcolor": "white",
          "plot_bgcolor": "#E5ECF6",
          "polar": {
           "angularaxis": {
            "gridcolor": "white",
            "linecolor": "white",
            "ticks": ""
           },
           "bgcolor": "#E5ECF6",
           "radialaxis": {
            "gridcolor": "white",
            "linecolor": "white",
            "ticks": ""
           }
          },
          "scene": {
           "xaxis": {
            "backgroundcolor": "#E5ECF6",
            "gridcolor": "white",
            "gridwidth": 2,
            "linecolor": "white",
            "showbackground": true,
            "ticks": "",
            "zerolinecolor": "white"
           },
           "yaxis": {
            "backgroundcolor": "#E5ECF6",
            "gridcolor": "white",
            "gridwidth": 2,
            "linecolor": "white",
            "showbackground": true,
            "ticks": "",
            "zerolinecolor": "white"
           },
           "zaxis": {
            "backgroundcolor": "#E5ECF6",
            "gridcolor": "white",
            "gridwidth": 2,
            "linecolor": "white",
            "showbackground": true,
            "ticks": "",
            "zerolinecolor": "white"
           }
          },
          "shapedefaults": {
           "line": {
            "color": "#2a3f5f"
           }
          },
          "ternary": {
           "aaxis": {
            "gridcolor": "white",
            "linecolor": "white",
            "ticks": ""
           },
           "baxis": {
            "gridcolor": "white",
            "linecolor": "white",
            "ticks": ""
           },
           "bgcolor": "#E5ECF6",
           "caxis": {
            "gridcolor": "white",
            "linecolor": "white",
            "ticks": ""
           }
          },
          "title": {
           "x": 0.05
          },
          "xaxis": {
           "automargin": true,
           "gridcolor": "white",
           "linecolor": "white",
           "ticks": "",
           "title": {
            "standoff": 15
           },
           "zerolinecolor": "white",
           "zerolinewidth": 2
          },
          "yaxis": {
           "automargin": true,
           "gridcolor": "white",
           "linecolor": "white",
           "ticks": "",
           "title": {
            "standoff": 15
           },
           "zerolinecolor": "white",
           "zerolinewidth": 2
          }
         }
        },
        "title": {
         "text": "Heatmap de Similaridades Cosseno"
        },
        "xaxis": {
         "anchor": "y",
         "constrain": "domain",
         "domain": [
          0,
          1
         ],
         "scaleanchor": "y",
         "title": {
          "text": "Frases"
         }
        },
        "yaxis": {
         "anchor": "x",
         "autorange": "reversed",
         "constrain": "domain",
         "domain": [
          0,
          1
         ],
         "title": {
          "text": "Frases"
         }
        }
       }
      }
     },
     "metadata": {},
     "output_type": "display_data"
    }
   ],
   "source": [
    "from sklearn.metrics.pairwise import cosine_similarity\n",
    "import pandas as pd\n",
    "import plotly.express as px\n",
    "\n",
    "similarity_matrix = cosine_similarity(vetores_novos)\n",
    "\n",
    "fig = px.imshow(similarity_matrix, \n",
    "                x=frases_novas, \n",
    "                y=frases_novas, \n",
    "                color_continuous_scale=\"Viridis\",\n",
    "                labels={\"x\": \"Frases\", \"y\": \"Frases\", \"color\": \"Similaridade\"})\n",
    "fig.update_layout(title=\"Heatmap de Similaridades Cosseno\")\n",
    "fig.show()"
   ]
  },
  {
   "cell_type": "markdown",
   "metadata": {},
   "source": [
    "## Busca\n",
    "\n",
    "Vamos supor que possuímos muitos textos representados de forma vetorial. Os textos poderiam ser parágrafos de diversos livros ou notícias. Se o usuário tiver alguma questão e desejar encontrar os vetores mais semelhantes à sua pergunta. Por exemplo:\n",
    "\n",
    "```python\n",
    "\"Quais são os objetivos da área de tecnologia em 2024?\"\n",
    "```\n",
    "\n",
    "Como isto poderia ser feito?\n",
    "\n",
    "**Exercício**: Como você faria para realizar esta busca? Quais seriam os passos?\n",
    "\n",
    "<a href=\"#\" title=\"1) fazer embedding do texto da pergunta 2) calcular a distância entre o vetor do texto da pergunta e todos os vetores armazenados 3) retornar os mais semelhantes.\">Pare o mouse aqui para conferir resposta.</a>"
   ]
  },
  {
   "cell_type": "code",
   "execution_count": 40,
   "metadata": {},
   "outputs": [
    {
     "data": {
      "text/plain": [
       "'\\n1) Faria o embedding de todas as frases\\n2) Calcularia a distancia cosseno\\n3) retornaria as mais similares\\n'"
      ]
     },
     "execution_count": 40,
     "metadata": {},
     "output_type": "execute_result"
    }
   ],
   "source": [
    "# Sua resposta AQUI\n",
    "\n",
    "'''\n",
    "1) Faria o embedding de todas as frases\n",
    "2) Calcularia a distancia cosseno\n",
    "3) retornaria as mais similares\n",
    "'''"
   ]
  },
  {
   "cell_type": "markdown",
   "metadata": {},
   "source": [
    "**Exercício**: Comparar o vetor da pergunta com todos os vetores é eficiente de um ponto de vista computacional?\n",
    "\n",
    "<a href=\"#\" title=\"Não! Pois seria O(kn), onde k é o tamanho do vetor e n é a quantidade de vetores. Apesar de ser linear no número de vetores, seria ineficiente ao considerar um número elevado de vetores.\">Pare o mouse aqui para conferir resposta.</a>"
   ]
  },
  {
   "cell_type": "code",
   "execution_count": 41,
   "metadata": {},
   "outputs": [
    {
     "data": {
      "text/plain": [
       "'\\nNao, eh bastante ineficiente, resultaria num algoritmo O(kn)\\n'"
      ]
     },
     "execution_count": 41,
     "metadata": {},
     "output_type": "execute_result"
    }
   ],
   "source": [
    "# Sua resposta AQUI\n",
    "\n",
    "'''\n",
    "Nao, eh bastante ineficiente, resultaria num algoritmo O(kn)\n",
    "'''"
   ]
  },
  {
   "cell_type": "markdown",
   "metadata": {},
   "source": [
    "**Exercício**: Utilizar um SGBD relacional poderia ajudar? Pense em como um SGBD realiza buscas e qual seria o impacto nesta situação"
   ]
  },
  {
   "cell_type": "code",
   "execution_count": 42,
   "metadata": {},
   "outputs": [
    {
     "data": {
      "text/plain": [
       "'\\nRelacional nao, pois os dados nao podem ser indexados da mesma forma que sao em SGBDs relacionais\\n'"
      ]
     },
     "execution_count": 42,
     "metadata": {},
     "output_type": "execute_result"
    }
   ],
   "source": [
    "# Sua resposta AQUI\n",
    "'''\n",
    "Relacional nao, pois os dados nao podem ser indexados da mesma forma que sao em SGBDs relacionais\n",
    "'''"
   ]
  },
  {
   "cell_type": "markdown",
   "metadata": {},
   "source": [
    "## ChromaDB\n",
    "\n",
    "Da mesma maneira que **SGBDs** como o **MySQL** implementam uma série de recursos para trabalhar com dados segundo o modelo relacional, também temos opções para bancos de dados vetoriais.\n",
    "\n",
    "Nesta aula, iremos utilizar o [**Chroma DB**](https://www.trychroma.com/), mas temos outras opções comumente utilizadas:\n",
    "\n",
    "- Pinecone (cloud)\n",
    "- Milvus\n",
    "- Qdrant\n",
    "- PostgreSQL (um SGBD com módulo pgVector para vector DB)\n",
    "\n",
    "<img src=\"img/chroma.svg\">"
   ]
  },
  {
   "cell_type": "markdown",
   "metadata": {},
   "source": [
    "Como exemplo, vamos utilizar o livro da Alice no País das Maravilhas (`data/alice.txt`).\n",
    "\n",
    "Vamos dividir o livro em pedaços ou *chunks*:"
   ]
  },
  {
   "cell_type": "code",
   "execution_count": 43,
   "metadata": {},
   "outputs": [
    {
     "name": "stderr",
     "output_type": "stream",
     "text": [
      "Created a chunk of size 321, which is longer than the specified 300\n",
      "Created a chunk of size 702, which is longer than the specified 300\n",
      "Created a chunk of size 729, which is longer than the specified 300\n",
      "Created a chunk of size 424, which is longer than the specified 300\n",
      "Created a chunk of size 726, which is longer than the specified 300\n",
      "Created a chunk of size 520, which is longer than the specified 300\n",
      "Created a chunk of size 427, which is longer than the specified 300\n",
      "Created a chunk of size 626, which is longer than the specified 300\n",
      "Created a chunk of size 573, which is longer than the specified 300\n",
      "Created a chunk of size 478, which is longer than the specified 300\n",
      "Created a chunk of size 664, which is longer than the specified 300\n",
      "Created a chunk of size 304, which is longer than the specified 300\n",
      "Created a chunk of size 597, which is longer than the specified 300\n",
      "Created a chunk of size 429, which is longer than the specified 300\n",
      "Created a chunk of size 476, which is longer than the specified 300\n",
      "Created a chunk of size 400, which is longer than the specified 300\n",
      "Created a chunk of size 453, which is longer than the specified 300\n",
      "Created a chunk of size 400, which is longer than the specified 300\n",
      "Created a chunk of size 348, which is longer than the specified 300\n",
      "Created a chunk of size 331, which is longer than the specified 300\n",
      "Created a chunk of size 424, which is longer than the specified 300\n",
      "Created a chunk of size 465, which is longer than the specified 300\n",
      "Created a chunk of size 866, which is longer than the specified 300\n",
      "Created a chunk of size 368, which is longer than the specified 300\n",
      "Created a chunk of size 338, which is longer than the specified 300\n",
      "Created a chunk of size 444, which is longer than the specified 300\n",
      "Created a chunk of size 345, which is longer than the specified 300\n",
      "Created a chunk of size 636, which is longer than the specified 300\n",
      "Created a chunk of size 570, which is longer than the specified 300\n",
      "Created a chunk of size 437, which is longer than the specified 300\n",
      "Created a chunk of size 337, which is longer than the specified 300\n",
      "Created a chunk of size 603, which is longer than the specified 300\n",
      "Created a chunk of size 601, which is longer than the specified 300\n",
      "Created a chunk of size 580, which is longer than the specified 300\n",
      "Created a chunk of size 321, which is longer than the specified 300\n",
      "Created a chunk of size 350, which is longer than the specified 300\n",
      "Created a chunk of size 313, which is longer than the specified 300\n",
      "Created a chunk of size 499, which is longer than the specified 300\n",
      "Created a chunk of size 326, which is longer than the specified 300\n",
      "Created a chunk of size 305, which is longer than the specified 300\n",
      "Created a chunk of size 544, which is longer than the specified 300\n",
      "Created a chunk of size 329, which is longer than the specified 300\n",
      "Created a chunk of size 348, which is longer than the specified 300\n",
      "Created a chunk of size 464, which is longer than the specified 300\n",
      "Created a chunk of size 458, which is longer than the specified 300\n",
      "Created a chunk of size 446, which is longer than the specified 300\n",
      "Created a chunk of size 499, which is longer than the specified 300\n",
      "Created a chunk of size 599, which is longer than the specified 300\n",
      "Created a chunk of size 320, which is longer than the specified 300\n",
      "Created a chunk of size 362, which is longer than the specified 300\n",
      "Created a chunk of size 323, which is longer than the specified 300\n",
      "Created a chunk of size 354, which is longer than the specified 300\n",
      "Created a chunk of size 418, which is longer than the specified 300\n",
      "Created a chunk of size 306, which is longer than the specified 300\n",
      "Created a chunk of size 511, which is longer than the specified 300\n",
      "Created a chunk of size 307, which is longer than the specified 300\n",
      "Created a chunk of size 842, which is longer than the specified 300\n",
      "Created a chunk of size 421, which is longer than the specified 300\n",
      "Created a chunk of size 390, which is longer than the specified 300\n",
      "Created a chunk of size 333, which is longer than the specified 300\n",
      "Created a chunk of size 333, which is longer than the specified 300\n",
      "Created a chunk of size 334, which is longer than the specified 300\n",
      "Created a chunk of size 362, which is longer than the specified 300\n",
      "Created a chunk of size 364, which is longer than the specified 300\n",
      "Created a chunk of size 545, which is longer than the specified 300\n",
      "Created a chunk of size 302, which is longer than the specified 300\n",
      "Created a chunk of size 513, which is longer than the specified 300\n",
      "Created a chunk of size 483, which is longer than the specified 300\n",
      "Created a chunk of size 652, which is longer than the specified 300\n",
      "Created a chunk of size 367, which is longer than the specified 300\n",
      "Created a chunk of size 326, which is longer than the specified 300\n",
      "Created a chunk of size 322, which is longer than the specified 300\n",
      "Created a chunk of size 534, which is longer than the specified 300\n",
      "Created a chunk of size 316, which is longer than the specified 300\n",
      "Created a chunk of size 431, which is longer than the specified 300\n",
      "Created a chunk of size 356, which is longer than the specified 300\n",
      "Created a chunk of size 466, which is longer than the specified 300\n",
      "Created a chunk of size 371, which is longer than the specified 300\n",
      "Created a chunk of size 528, which is longer than the specified 300\n",
      "Created a chunk of size 508, which is longer than the specified 300\n",
      "Created a chunk of size 555, which is longer than the specified 300\n",
      "Created a chunk of size 387, which is longer than the specified 300\n",
      "Created a chunk of size 394, which is longer than the specified 300\n",
      "Created a chunk of size 328, which is longer than the specified 300\n",
      "Created a chunk of size 413, which is longer than the specified 300\n",
      "Created a chunk of size 384, which is longer than the specified 300\n",
      "Created a chunk of size 515, which is longer than the specified 300\n",
      "Created a chunk of size 312, which is longer than the specified 300\n",
      "Created a chunk of size 827, which is longer than the specified 300\n",
      "Created a chunk of size 329, which is longer than the specified 300\n",
      "Created a chunk of size 346, which is longer than the specified 300\n",
      "Created a chunk of size 780, which is longer than the specified 300\n",
      "Created a chunk of size 323, which is longer than the specified 300\n",
      "Created a chunk of size 332, which is longer than the specified 300\n",
      "Created a chunk of size 338, which is longer than the specified 300\n",
      "Created a chunk of size 534, which is longer than the specified 300\n",
      "Created a chunk of size 380, which is longer than the specified 300\n",
      "Created a chunk of size 301, which is longer than the specified 300\n",
      "Created a chunk of size 395, which is longer than the specified 300\n",
      "Created a chunk of size 539, which is longer than the specified 300\n",
      "Created a chunk of size 345, which is longer than the specified 300\n",
      "Created a chunk of size 310, which is longer than the specified 300\n",
      "Created a chunk of size 483, which is longer than the specified 300\n",
      "Created a chunk of size 388, which is longer than the specified 300\n",
      "Created a chunk of size 302, which is longer than the specified 300\n",
      "Created a chunk of size 338, which is longer than the specified 300\n",
      "Created a chunk of size 307, which is longer than the specified 300\n",
      "Created a chunk of size 540, which is longer than the specified 300\n",
      "Created a chunk of size 318, which is longer than the specified 300\n",
      "Created a chunk of size 702, which is longer than the specified 300\n",
      "Created a chunk of size 474, which is longer than the specified 300\n",
      "Created a chunk of size 368, which is longer than the specified 300\n",
      "Created a chunk of size 462, which is longer than the specified 300\n",
      "Created a chunk of size 376, which is longer than the specified 300\n",
      "Created a chunk of size 354, which is longer than the specified 300\n",
      "Created a chunk of size 386, which is longer than the specified 300\n",
      "Created a chunk of size 332, which is longer than the specified 300\n",
      "Created a chunk of size 386, which is longer than the specified 300\n",
      "Created a chunk of size 351, which is longer than the specified 300\n",
      "Created a chunk of size 321, which is longer than the specified 300\n",
      "Created a chunk of size 310, which is longer than the specified 300\n",
      "Created a chunk of size 326, which is longer than the specified 300\n",
      "Created a chunk of size 483, which is longer than the specified 300\n",
      "Created a chunk of size 634, which is longer than the specified 300\n",
      "Created a chunk of size 686, which is longer than the specified 300\n",
      "Created a chunk of size 567, which is longer than the specified 300\n"
     ]
    }
   ],
   "source": [
    "from langchain_community.document_loaders import TextLoader\n",
    "from langchain_text_splitters import CharacterTextSplitter\n",
    "\n",
    "chunk_size = 300\n",
    "\n",
    "raw_documents = TextLoader(\"data/alice.txt\").load()\n",
    "text_splitter = CharacterTextSplitter(chunk_size=chunk_size, chunk_overlap=0, separator=\"\\n\")\n",
    "documents = text_splitter.split_documents(raw_documents)"
   ]
  },
  {
   "cell_type": "markdown",
   "metadata": {},
   "source": [
    "Veja um documento gerado:"
   ]
  },
  {
   "cell_type": "code",
   "execution_count": 44,
   "metadata": {},
   "outputs": [
    {
     "data": {
      "text/plain": [
       "Document(metadata={'source': 'data/alice.txt'}, page_content='capa\\neBookLibris\\nLewis Carroll\\nALICE NO PAÍS DAS MARAVILHAS\\nTradução de Clélia Regina Ramos\\nEditorial Arara Azul\\n \\nAlice no País das Maravilhas\\nLewis Carroll\\n(Charles Lutwidge Dodgson 1832-1898)\\nIlustrações\\nSir John Tenniel (1820-1914)\\nTradução\\nClélia Regina Ramos\\nmamalag@uol.com.br')"
      ]
     },
     "execution_count": 44,
     "metadata": {},
     "output_type": "execute_result"
    }
   ],
   "source": [
    "documents[0]"
   ]
  },
  {
   "cell_type": "markdown",
   "metadata": {},
   "source": [
    "Então, criamos o banco de dados. Observe que iremos aplicar o `embedding_model`, que irá requerer chamadas à SentenceTransformers. Ainda, será criada uma pasta `alice_chroma_*`.\n",
    "\n",
    "Mas antes, criaremos uma classe para possibilitar que o LangChain consiga trabalhar com a SentenceTransformers:"
   ]
  },
  {
   "cell_type": "code",
   "execution_count": null,
   "metadata": {},
   "outputs": [],
   "source": [
    "from langchain.embeddings.base import Embeddings\n",
    "from sentence_transformers import SentenceTransformer\n",
    "from typing import List\n",
    "\n",
    "class SentenceTransformerEmbeddings(Embeddings):\n",
    "    def __init__(self, model_name: str):\n",
    "        self.model = SentenceTransformer(model_name)\n",
    "\n",
    "    def embed_documents(self, documents: List[str]) -> List[List[float]]:\n",
    "        return self.model.encode(documents)\n",
    "\n",
    "    def embed_query(self, query: str) -> List[float]:\n",
    "        return self.model.encode([query])[0]"
   ]
  },
  {
   "cell_type": "markdown",
   "metadata": {},
   "source": [
    "Finalmente, criamos nossa *VectorStore* com os embeddings e os documentos."
   ]
  },
  {
   "cell_type": "code",
   "execution_count": null,
   "metadata": {},
   "outputs": [],
   "source": [
    "from langchain_chroma import Chroma\n",
    "\n",
    "chroma_embedding_model = SentenceTransformerEmbeddings(model_name=embedding_model_name)\n",
    "data_path = f\"./alice_chroma_{embedding_model_name.lower()}\"\n",
    "\n",
    "# Alterando função: `l2` (norma l2 ao quadrado), `cosine` (similaridade cosseno), `ip` (inner product: produto interno)\n",
    "# https://docs.trychroma.com/docs/collections/configure\n",
    "collection_metadata = {\"hnsw:space\": \"cosine\"}\n",
    "\n",
    "db = Chroma.from_documents(\n",
    "    documents,\n",
    "    chroma_embedding_model,\n",
    "    persist_directory=data_path,\n",
    "    collection_metadata=collection_metadata,\n",
    ")"
   ]
  },
  {
   "cell_type": "markdown",
   "metadata": {},
   "source": [
    "Após executar uma vez, comente a célula acima que cria o `db` (uma vez que ele já existe). Então, vamos passar a abrir direto do arquivo (VectorStore)!"
   ]
  },
  {
   "cell_type": "code",
   "execution_count": null,
   "metadata": {},
   "outputs": [],
   "source": [
    "from langchain_chroma import Chroma\n",
    "\n",
    "db = Chroma(\n",
    "    embedding_function=chroma_embedding_model, persist_directory=data_path\n",
    ")"
   ]
  },
  {
   "cell_type": "markdown",
   "metadata": {},
   "source": [
    "Agora, podemos utilizar o `db` para recuperar textos cujos vetores sejam mais similares à determinada pergunta:"
   ]
  },
  {
   "cell_type": "code",
   "execution_count": null,
   "metadata": {},
   "outputs": [],
   "source": [
    "pergunta = \"O que a lagarta tirou da boca?\""
   ]
  },
  {
   "cell_type": "markdown",
   "metadata": {},
   "source": [
    "Para isto, será necessário calcular o vetor da pergunta (utilizando o mesmo modelo de *embedding* aplicado aos dados)."
   ]
  },
  {
   "cell_type": "code",
   "execution_count": null,
   "metadata": {},
   "outputs": [],
   "source": [
    "embedding_pergunta = chroma_embedding_model.embed_query(pergunta)\n",
    "\n",
    "print(f\"O vetor da pergunta tem dimensão {len(embedding_pergunta)}.\")"
   ]
  },
  {
   "cell_type": "markdown",
   "metadata": {},
   "source": [
    "Então, podemos encontrar os `k` vetores mais similares:"
   ]
  },
  {
   "cell_type": "code",
   "execution_count": null,
   "metadata": {},
   "outputs": [],
   "source": [
    "docs_resposta = db.similarity_search_by_vector(embedding_pergunta, k=5)\n",
    "\n",
    "for doc in docs_resposta:\n",
    "    # Exibir até 150 primeiros caracteres do conteúdo\n",
    "    print(f\"{doc.page_content[:150]}...\")\n",
    "    print(\"-\"*50)"
   ]
  },
  {
   "cell_type": "markdown",
   "metadata": {},
   "source": [
    "**Exercício**: teste com outras perguntas! Confira no arquivo `data/alice.txt` se as respostas fazem sentido."
   ]
  },
  {
   "cell_type": "code",
   "execution_count": null,
   "metadata": {},
   "outputs": [],
   "source": [
    "# Sua resposta AQUI!"
   ]
  },
  {
   "cell_type": "markdown",
   "metadata": {},
   "source": [
    "**Exercício**: Como o Chroma encontra os vetores mais similares sem precisar comparar o vetor da pergunta com todos os vetores presentes na VectorStore? Procure por *Hierarchical Navigable Small Worlds (HNSW)* e explique como o *HNSW* indexa vetores e realiza busca por similaridade."
   ]
  },
  {
   "cell_type": "code",
   "execution_count": null,
   "metadata": {},
   "outputs": [],
   "source": [
    "# Sua resposta AQUI!"
   ]
  },
  {
   "cell_type": "markdown",
   "metadata": {},
   "source": [
    "Por enquanto apenas retornamos os textos cujos vetores são mais semelhantes à pergunta. O texto é um recorte do texto original e o usuário precisa ler os textos e procurar a resposta."
   ]
  },
  {
   "cell_type": "markdown",
   "metadata": {},
   "source": [
    "## RAG\n",
    "\n",
    "**RAG** (**Retrieval Augmented Generation**), é uma técnica que combina **recuperação de informações** com um modelo **LLM** de geração de texto para melhorar os resultados. Este método fornece ao modelo informações que podem estar mais atualizadas do que o conjunto de dados usado no treinamento.\n",
    "\n",
    "Ainda, pode prover informações específicas de um contexto, por exemplo, quando queremos respostas envolvendo apenas os dados de um PDF empresarial privado.\n",
    "\n",
    "A estrutura de uma solução RAG envolve três etapas principais:\n",
    "\n",
    "1) Identificação de documentos relevantes que refletem o contexto da pergunta\n",
    "2) Combinação desse contexto com um prompt que contém instruções específicas\n",
    "3) geração do texto utilizando um LLM."
   ]
  },
  {
   "cell_type": "markdown",
   "metadata": {},
   "source": [
    "Nosso prompt será construído com:"
   ]
  },
  {
   "cell_type": "code",
   "execution_count": null,
   "metadata": {},
   "outputs": [],
   "source": [
    "from langchain.prompts import PromptTemplate\n",
    "\n",
    "prompt_template = \"\"\"\n",
    "Você é um assistente para tarefas de resposta a perguntas. Use as seguintes partes do contexto recuperado para responder à pergunta. Se você não sabe a resposta, basta dizer que não sabe. Use no máximo três frases e mantenha a resposta concisa.\n",
    "\n",
    "Pergunta: {question} \n",
    "\n",
    "Contexto: {context} \n",
    "\n",
    "Resposta:\n",
    "\"\"\"\n",
    "\n",
    "prompt = PromptTemplate(\n",
    "    template=prompt_template,\n",
    "    input_variables=[\"question\", \"context\"]\n",
    ")"
   ]
  },
  {
   "cell_type": "markdown",
   "metadata": {},
   "source": [
    "Vamos especificar onde os textos de contexto são recuperados. Iremos utilizar o `db` (Chroma DB construído anteriormente)."
   ]
  },
  {
   "cell_type": "code",
   "execution_count": null,
   "metadata": {},
   "outputs": [],
   "source": [
    "retriever = db.as_retriever()"
   ]
  },
  {
   "cell_type": "markdown",
   "metadata": {},
   "source": [
    "Como **LLM**, iremos utilizar o modelo `gpt-4.1-nano`."
   ]
  },
  {
   "cell_type": "code",
   "execution_count": null,
   "metadata": {},
   "outputs": [],
   "source": [
    "from langchain_openai import AzureChatOpenAI\n",
    "\n",
    "llm = AzureChatOpenAI(\n",
    "    azure_deployment=\"gpt-4o_MacielVidal_Chave1\",\n",
    "    api_version=\"2025-01-01-preview\",\n",
    "    temperature=0,\n",
    "    max_tokens=1000,\n",
    "    timeout=30,\n",
    "    max_retries=2,\n",
    "    model=\"gpt-4.1-nano\",\n",
    ")"
   ]
  },
  {
   "cell_type": "markdown",
   "metadata": {},
   "source": [
    "E criar uma *RAG chain* com:"
   ]
  },
  {
   "cell_type": "code",
   "execution_count": null,
   "metadata": {},
   "outputs": [],
   "source": [
    "from langchain_core.runnables import RunnablePassthrough\n",
    "from langchain_core.output_parsers import StrOutputParser\n",
    "\n",
    "\n",
    "def format_docs(docs):\n",
    "    return \"\\n\\n\".join(doc.page_content for doc in docs)\n",
    "\n",
    "\n",
    "rag_chain = (\n",
    "    {\n",
    "        \"context\": retriever | format_docs,\n",
    "        \"question\": RunnablePassthrough(),\n",
    "    }\n",
    "    | prompt\n",
    "    | llm\n",
    "    | StrOutputParser()\n",
    ")\n"
   ]
  },
  {
   "cell_type": "markdown",
   "metadata": {},
   "source": [
    "Então, podemos fazer nossas perguntas, que serão respondidas utilizando o texto da Alice como referência."
   ]
  },
  {
   "cell_type": "code",
   "execution_count": null,
   "metadata": {},
   "outputs": [],
   "source": [
    "rag_chain.invoke(\"Qual o título do livro? E do terceiro capítulo?\")"
   ]
  },
  {
   "cell_type": "code",
   "execution_count": null,
   "metadata": {},
   "outputs": [],
   "source": [
    "rag_chain.invoke(\"Quem é o coelho?\")"
   ]
  },
  {
   "cell_type": "code",
   "execution_count": null,
   "metadata": {},
   "outputs": [],
   "source": [
    "rag_chain.invoke(\"O que a lagarta tirou da boca? Com quem a lagarta estava? O que ela disse?\")"
   ]
  },
  {
   "cell_type": "markdown",
   "metadata": {},
   "source": [
    "Para verificar que de fato o contexto é importante, vamos criar um *retriever* vazio e tentar repetir a pergunta. Perceba que, como não temos os dados do livro da Alice, a API do ChatGPT não irá responder corretamente (faltou contexto)."
   ]
  },
  {
   "cell_type": "code",
   "execution_count": null,
   "metadata": {},
   "outputs": [],
   "source": [
    "empty_retriever = Chroma(embedding_function=chroma_embedding_model).as_retriever()\n",
    "\n",
    "rag_chain_no_retriever = (\n",
    "    {\n",
    "        \"context\": empty_retriever | format_docs,\n",
    "        \"question\": RunnablePassthrough(),\n",
    "    }\n",
    "    | prompt\n",
    "    | llm\n",
    "    | StrOutputParser()\n",
    ")\n",
    "\n",
    "rag_chain_no_retriever.invoke(\"O que a lagarta tirou da boca? Com quem a lagarta estava? O que ela disse?\")"
   ]
  },
  {
   "cell_type": "markdown",
   "metadata": {},
   "source": [
    "**Dica:** Os prompts podem ser obtidos direto do *hub* langchain:\n",
    "\n",
    "```python\n",
    "from langchain import hub\n",
    "\n",
    "prompt = hub.pull(\"rlm/rag-prompt\")\n",
    "```\n",
    "\n",
    "Veja mais em https://smith.langchain.com/hub/rlm/rag-prompt e https://smith.langchain.com/hub/rlm"
   ]
  },
  {
   "cell_type": "markdown",
   "metadata": {},
   "source": [
    "## Chainlit\n",
    "\n",
    "Vamos criar um *app* para conversar com o livro da Alice utilizando o *chainlit* https://docs.chainlit.io/.\n",
    "\n",
    "Rode a célula abaixo para criar um arquivo `app.py`:"
   ]
  },
  {
   "cell_type": "code",
   "execution_count": null,
   "metadata": {},
   "outputs": [],
   "source": [
    "%%writefile app.py\n",
    "\"\"\"Alice no País das Maravilhas - RAG\n",
    "This is a simple RAG (Retrieval-Augmented Generation) application that uses LangChain and\n",
    "Azure OpenAI to answer questions about the book \"Alice in Wonderland\".\n",
    "It uses Chroma as the vector database and SentenceTransformer for embeddings.\n",
    "It is designed to be run in a Chainlit app.\n",
    "\"\"\"\n",
    "\n",
    "import os\n",
    "from typing import List\n",
    "import chainlit as cl\n",
    "from chromadb.config import Settings\n",
    "from dotenv import load_dotenv\n",
    "from langchain.embeddings.base import Embeddings\n",
    "from langchain.prompts import PromptTemplate\n",
    "from langchain_chroma import Chroma\n",
    "from langchain_openai import AzureChatOpenAI\n",
    "from langchain_core.runnables import RunnablePassthrough\n",
    "from langchain_core.output_parsers import StrOutputParser\n",
    "from sentence_transformers import SentenceTransformer\n",
    "\n",
    "load_dotenv(override=True)\n",
    "\n",
    "\n",
    "class SentenceTransformerEmbeddings(Embeddings):\n",
    "    \"\"\"Wrapper around SentenceTransformer to use with LangChain.\"\"\"\n",
    "\n",
    "    def __init__(self, model_name: str):\n",
    "        self.model = SentenceTransformer(model_name)\n",
    "\n",
    "    def embed_documents(self, texts: List[str]) -> List[List[float]]:\n",
    "        \"\"\"Embed a list of documents.\"\"\"\n",
    "        return self.model.encode(texts)\n",
    "\n",
    "    def embed_query(self, text: str) -> List[float]:\n",
    "        \"\"\"Embed a query.\"\"\"\n",
    "        return self.model.encode([text])[0]\n",
    "\n",
    "\n",
    "def singleton(cls):\n",
    "    \"\"\"Decorator to make a class a singleton.\n",
    "    This decorator ensures that a class has only one instance\n",
    "    and provides a global point of access to it.\n",
    "    \"\"\"\n",
    "    instances = {}\n",
    "\n",
    "    def get_instance(*args, **kwargs):\n",
    "        if cls not in instances:\n",
    "            instances[cls] = cls(*args, **kwargs)\n",
    "        return instances[cls]\n",
    "\n",
    "    return get_instance\n",
    "\n",
    "\n",
    "@singleton\n",
    "class MyRAG:\n",
    "    \"\"\"Singleton class for the RAG chain.\"\"\"\n",
    "\n",
    "    def __init__(self):\n",
    "\n",
    "        def get_prompt():\n",
    "            \"\"\"Get the prompt template.\"\"\"\n",
    "            prompt_template = \"\"\"\n",
    "Você é um assistente para tarefas de resposta a perguntas. Use as seguintes partes do contexto recuperado para responder à pergunta. Se você não sabe a resposta, basta dizer que não sabe. Use no máximo três frases e mantenha a resposta concisa. Negue qualquer informação que não esteja no contexto recuperado.\n",
    "Pergunta: {question} \n",
    "\n",
    "Contexto: {context} \n",
    "\n",
    "Resposta:\n",
    "\"\"\"\n",
    "\n",
    "            prompt = PromptTemplate(\n",
    "                template=prompt_template, input_variables=[\"question\", \"context\"]\n",
    "            )\n",
    "\n",
    "            return prompt\n",
    "\n",
    "        def get_llm():\n",
    "            \"\"\"Get the LLM. Use Azure OpenAI.\"\"\"\n",
    "            llm = AzureChatOpenAI(\n",
    "                azure_deployment=os.getenv(\"AZURE_OPENAI_DEPLOYMENT\"),\n",
    "                api_version=os.getenv(\"AZURE_OPENAI_API_VERSION\"),\n",
    "                temperature=0,\n",
    "                max_tokens=int(os.getenv(\"MAX_TOKENS\", \"1000\")),\n",
    "                timeout=int(os.getenv(\"TIMEOUT\", \"30\")),\n",
    "                max_retries=2,\n",
    "                model=os.getenv(\"LLM_MODEL\"),\n",
    "            )\n",
    "            return llm\n",
    "\n",
    "        def format_docs(docs):\n",
    "            return \"\\n\\n\".join(doc.page_content for doc in docs)\n",
    "\n",
    "        def get_chroma_settings():\n",
    "            \"\"\"Get Chroma settings. Opt out of telemetry.\"\"\"\n",
    "            return Settings(anonymized_telemetry=False)\n",
    "\n",
    "        def get_retriever():\n",
    "            embedding_model_name = os.getenv(\"EMBEDDING_MODEL\")\n",
    "            embedding_model = SentenceTransformerEmbeddings(\n",
    "                model_name=embedding_model_name\n",
    "            )\n",
    "\n",
    "            num_vectors = int(os.getenv(\"NUM_VECTORS\"))\n",
    "\n",
    "            vector_db_dir = os.getenv(\"VECTOR_DB_DIR\")\n",
    "\n",
    "            retriever = Chroma(\n",
    "                embedding_function=embedding_model,\n",
    "                persist_directory=vector_db_dir,\n",
    "                client_settings=get_chroma_settings(),\n",
    "            ).as_retriever(num_vectors=num_vectors)\n",
    "\n",
    "            return retriever\n",
    "\n",
    "        self.rag_chain = (\n",
    "            {\n",
    "                \"context\": get_retriever() | format_docs,\n",
    "                \"question\": RunnablePassthrough(),\n",
    "            }\n",
    "            | get_prompt()\n",
    "            | get_llm()\n",
    "            | StrOutputParser()\n",
    "        )\n",
    "\n",
    "    def invoke(self, pergunta):\n",
    "        \"\"\"Invoke the RAG chain with the given question.\"\"\"\n",
    "        try:\n",
    "            return self.rag_chain.invoke(pergunta)\n",
    "        except Exception as e:\n",
    "            return f\"Erro: {e}\"\n",
    "\n",
    "\n",
    "@cl.on_chat_start\n",
    "async def on_chat_start():\n",
    "    \"\"\"Send a welcome message when the chat starts.\"\"\"\n",
    "    await cl.Message(\n",
    "        content=\"\"\"Oi!\n",
    "Sou a assistente virtual da Alice no País das Maravilhas!\n",
    "Me faça perguntas sobre o livro!\"\"\"\n",
    "    ).send()\n",
    "\n",
    "\n",
    "@cl.on_message\n",
    "async def main(message: cl.Message):\n",
    "    \"\"\"Handle incoming messages.\"\"\"\n",
    "    resp = MyRAG().invoke(message.content)\n",
    "    await cl.Message(content=resp).send()\n"
   ]
  },
  {
   "cell_type": "markdown",
   "metadata": {},
   "source": [
    "Preencha o arquivo `.env` a partir do `.env.example` (faça uma cópia).\n",
    "\n",
    "Então, no terminal, inicialize a aplicação chainlit com:"
   ]
  },
  {
   "cell_type": "markdown",
   "metadata": {},
   "source": [
    "```console\n",
    "chainlit run app.py\n",
    "```"
   ]
  },
  {
   "cell_type": "markdown",
   "metadata": {},
   "source": [
    "Acesse, em seu navegador, a URL fornecida, provavelmente http://localhost:8000\n",
    "\n",
    "Pronto, você criou uma aplicação RAG!"
   ]
  },
  {
   "cell_type": "markdown",
   "metadata": {},
   "source": [
    "## Referências\n",
    "\n",
    "- https://en.wikipedia.org/wiki/Vector_database\n",
    "- https://platform.openai.com/docs/guides/embeddings\n",
    "- https://platform.openai.com/tokenizer\n",
    "- https://python.langchain.com/v0.1/docs/use_cases/question_answering/sources/\n",
    "- https://semaphoreci.com/blog/word-embeddings\n",
    "- https://python.langchain.com/v0.1/docs/modules/data_connection/document_transformers/\n",
    "- Imagens:\n",
    "    - https://docs.trychroma.com/img/hrm4.svg\n",
    "    - https://storage.googleapis.com/gweb-cloudblog-publish/images/image4_fUvNRO7.max-800x800.png\n",
    "- Livro: http://www.ebooksbrasil.org/eLibris/alicep.html autorizado para uso didático conforme http://www.ebooksbrasil.org/\n",
    "- https://python.langchain.com/api_reference/openai/llms/langchain_openai.llms.azure.AzureOpenAI.html\n",
    "- https://python.langchain.com/api_reference/openai/chat_models/langchain_openai.chat_models.azure.AzureChatOpenAI.html\n",
    "- https://sbert.net/\n",
    "- https://www.sbert.net/docs/sentence_transformer/pretrained_models.html\n",
    "- https://huggingface.co/sentence-transformers\n",
    "- https://github.com/langchain-ai/langchain/discussions/7818"
   ]
  }
 ],
 "metadata": {
  "kernelspec": {
   "display_name": "vector_env",
   "language": "python",
   "name": "python3"
  },
  "language_info": {
   "codemirror_mode": {
    "name": "ipython",
    "version": 3
   },
   "file_extension": ".py",
   "mimetype": "text/x-python",
   "name": "python",
   "nbconvert_exporter": "python",
   "pygments_lexer": "ipython3",
   "version": "3.13.1"
  }
 },
 "nbformat": 4,
 "nbformat_minor": 2
}
