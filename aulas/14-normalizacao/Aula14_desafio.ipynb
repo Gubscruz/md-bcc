{
 "cells": [
  {
   "cell_type": "markdown",
   "id": "8a630554",
   "metadata": {},
   "source": [
    "# SQL: Desafio\n",
    "\n",
    "Nesta aula teremos um desafio de **SQL**. Veja se consegue solucionar todas as questões.\n",
    "\n",
    "## Instalação da base\n",
    "\n",
    "Vamos utilizar uma base de dados chamada **\"faculdade\"**. Execute o script `scripts/faculdade.sql` para gerar a base de dados.\n",
    "\n",
    "## Como resolver os exercícios?\n",
    "\n",
    "Indicamos que crie uma cópia da base de dados em sua máquina (passo anterior). Utilize o MySQL Workbench ou o conector para testar as queries. Quando estiver bastante certo de que a resposta está correta, faça a submissão para o servidor.\n",
    "\n",
    "## Import das bibliotecas\n",
    "\n",
    "Vamos realizar o import das bibliotecas."
   ]
  },
  {
   "cell_type": "code",
   "execution_count": 1,
   "id": "b2f1597a",
   "metadata": {},
   "outputs": [],
   "source": [
    "import mysql.connector\n",
    "from functools import partial\n",
    "import os\n",
    "import insperautograder.jupyter as ia\n",
    "from dotenv import load_dotenv"
   ]
  },
  {
   "cell_type": "markdown",
   "id": "33eefa0d",
   "metadata": {},
   "source": [
    "E vamos criar nosso HELPER de conexão com o banco! Perceba que, uma vez configurado o `.env` não precisaremos mais informar usuários, senhas e URLs!"
   ]
  },
  {
   "cell_type": "code",
   "execution_count": 3,
   "id": "f5147533",
   "metadata": {},
   "outputs": [],
   "source": [
    "load_dotenv(override=True)\n",
    "\n",
    "def get_connection_helper():\n",
    "\n",
    "    def run_db_query(connection, query, args=None):\n",
    "        with connection.cursor() as cursor:\n",
    "            print(\"Executando query:\")\n",
    "            cursor.execute(query, args)\n",
    "            for result in cursor:\n",
    "                print(result)\n",
    "\n",
    "    connection = mysql.connector.connect(\n",
    "        host=os.getenv(\"MD_DB_SERVER\"),\n",
    "        user=os.getenv(\"MD_DB_USERNAME\"),\n",
    "        password=os.getenv(\"MD_DB_PASSWORD\"),\n",
    "        database=\"faculdade\",\n",
    "    )\n",
    "    return connection, partial(run_db_query, connection)\n",
    "\n",
    "\n",
    "connection, db = get_connection_helper()"
   ]
  },
  {
   "cell_type": "markdown",
   "id": "86e481dc",
   "metadata": {},
   "source": [
    "### Tarefas e Notas\n",
    "Vamos conferir as tarefas e notas"
   ]
  },
  {
   "cell_type": "code",
   "execution_count": 4,
   "id": "47c6bae1",
   "metadata": {},
   "outputs": [
    {
     "data": {
      "text/markdown": [
       "|    | Atividade            | De                  | Até                 |\n",
       "|---:|:---------------------|:--------------------|:--------------------|\n",
       "|  0 | newborn              | 2025-02-01 00:00:00 | 2025-05-30 00:00:00 |\n",
       "|  1 | select01             | 2025-02-06 16:00:00 | 2025-02-15 23:59:59 |\n",
       "|  2 | ddl                  | 2025-02-20 00:00:00 | 2025-02-27 23:59:59 |\n",
       "|  3 | dml                  | 2025-02-24 00:00:00 | 2025-03-06 15:45:59 |\n",
       "|  4 | agg_join             | 2025-02-26 00:00:00 | 2025-03-09 23:59:59 |\n",
       "|  5 | group_having         | 2025-03-06 00:00:00 | 2025-03-13 23:59:59 |\n",
       "|  6 | views                | 2025-03-10 00:00:00 | 2025-03-16 23:59:59 |\n",
       "|  7 | sql_review1          | 2025-03-13 00:00:00 | 2025-03-20 23:59:59 |\n",
       "|  8 | permissions          | 2025-03-20 00:00:00 | 2025-04-07 23:59:59 |\n",
       "|  9 | ai_md_23_1           | 2025-03-23 00:00:00 | 2025-03-30 23:59:59 |\n",
       "| 10 | ai_md_23_2           | 2025-03-23 00:00:00 | 2025-03-30 23:59:59 |\n",
       "| 11 | ai_md_25_1           | 2025-03-31 00:00:00 | 2025-03-31 10:05:00 |\n",
       "| 12 | desafio_normalizacao | 2025-04-07 00:00:00 | 2025-05-30 00:00:00 |"
      ],
      "text/plain": [
       "<IPython.core.display.Markdown object>"
      ]
     },
     "metadata": {},
     "output_type": "display_data"
    }
   ],
   "source": [
    "ia.tasks()"
   ]
  },
  {
   "cell_type": "code",
   "execution_count": 5,
   "id": "bfbfcd1f-8d59-4820-880d-5ec881598472",
   "metadata": {},
   "outputs": [
    {
     "data": {
      "text/markdown": [
       "|    | Tarefa               |   Nota |\n",
       "|---:|:---------------------|-------:|\n",
       "|  0 | agg_join             |   0    |\n",
       "|  1 | ai_md_23_1           |  10    |\n",
       "|  2 | ai_md_23_2           |   0    |\n",
       "|  3 | ai_md_25_1           |   6    |\n",
       "|  4 | ddl                  |  10    |\n",
       "|  5 | desafio_normalizacao |   0    |\n",
       "|  6 | dml                  |   6.67 |\n",
       "|  7 | group_having         |  10    |\n",
       "|  8 | newborn              |   0    |\n",
       "|  9 | permissions          |   0    |\n",
       "| 10 | select01             |   0    |\n",
       "| 11 | sql_review1          |   0    |\n",
       "| 12 | views                |  10    |"
      ],
      "text/plain": [
       "<IPython.core.display.Markdown object>"
      ]
     },
     "metadata": {},
     "output_type": "display_data"
    }
   ],
   "source": [
    "ia.grades(by=\"task\")"
   ]
  },
  {
   "cell_type": "code",
   "execution_count": 6,
   "id": "9d0c9a82",
   "metadata": {},
   "outputs": [
    {
     "data": {
      "text/markdown": [
       "|    | Atividade            | Exercício   |   Peso |   Nota |\n",
       "|---:|:---------------------|:------------|-------:|-------:|\n",
       "|  0 | desafio_normalizacao | ex01        |      1 |      0 |\n",
       "|  1 | desafio_normalizacao | ex02        |      1 |      0 |\n",
       "|  2 | desafio_normalizacao | ex03        |      1 |      0 |\n",
       "|  3 | desafio_normalizacao | ex04        |      1 |      0 |\n",
       "|  4 | desafio_normalizacao | ex05        |      1 |      0 |"
      ],
      "text/plain": [
       "<IPython.core.display.Markdown object>"
      ]
     },
     "metadata": {},
     "output_type": "display_data"
    }
   ],
   "source": [
    "ia.grades(task=\"desafio_normalizacao\")"
   ]
  },
  {
   "cell_type": "markdown",
   "id": "c167b70e",
   "metadata": {},
   "source": [
    "**Exercício 1**: Crie uma query que retorne o id e o nome dos alunos que tenham dois endereços na *CIDADE* de São Paulo ordenado pelo id do aluno."
   ]
  },
  {
   "cell_type": "code",
   "execution_count": 8,
   "id": "0203756a",
   "metadata": {},
   "outputs": [
    {
     "name": "stdout",
     "output_type": "stream",
     "text": [
      "Executando query:\n",
      "(91, 'LOIS BUTLER')\n",
      "(107, 'FLORENCE WOODS')\n",
      "(130, 'CHARLOTTE HUNTER')\n",
      "(281, 'LEONA OBRIEN')\n",
      "(431, 'JOEL FRANCISCO')\n",
      "(463, 'DARRELL POWER')\n",
      "(515, 'ANDRE RAPP')\n"
     ]
    }
   ],
   "source": [
    "sql_ex01 = \"\"\"\n",
    "select\n",
    "    id_aluno,\n",
    "    nome\n",
    "from\n",
    "    alunos\n",
    "where\n",
    "    endereco1 like \"%São Paulo%São Paulo%\"\n",
    "    and endereco2 like \"%São Paulo%São Paulo%\"\n",
    "order by\n",
    "    id_aluno\n",
    "\"\"\"\n",
    "\n",
    "db(sql_ex01)"
   ]
  },
  {
   "cell_type": "markdown",
   "id": "ed653f31",
   "metadata": {},
   "source": [
    "Após testar localmente e considerar sua solução correta, faça o envio clicando no botão abaixo!"
   ]
  },
  {
   "cell_type": "code",
   "execution_count": 9,
   "id": "b38f883b",
   "metadata": {},
   "outputs": [
    {
     "data": {
      "application/vnd.jupyter.widget-view+json": {
       "model_id": "8e67ee59c91b4ce895e85b66d5d01a2d",
       "version_major": 2,
       "version_minor": 0
      },
      "text/plain": [
       "interactive(children=(Button(description='Enviar ex01', style=ButtonStyle()), Output()), _dom_classes=('widget…"
      ]
     },
     "metadata": {},
     "output_type": "display_data"
    }
   ],
   "source": [
    "ia.sender(answer=\"sql_ex01\", task=\"desafio_normalizacao\", question=\"ex01\", answer_type=\"pyvar\")"
   ]
  },
  {
   "cell_type": "markdown",
   "id": "4799a2b3",
   "metadata": {},
   "source": [
    "**Exercício 2**: Uma pesquisa interna revelou que existe um professor na faculdade que causa um aumento na taxa de felicidade dos alunos. Para identificar os alunos mais felizes, escreva uma query que retorne o id e o nome dos alunos que cursam ao mesmo tempo as disciplinas de Megadados e Big Data ou que cursam ao mesmo tempo as disciplinas de Megadados e MLOps. Ordene pelo id do aluno.\n",
    "\n",
    "**Disclaimer**: exercício criado pelo prof. Márcio, não sou tão convencido assim!"
   ]
  },
  {
   "cell_type": "code",
   "execution_count": 13,
   "id": "3be41b9a",
   "metadata": {
    "scrolled": true
   },
   "outputs": [
    {
     "name": "stdout",
     "output_type": "stream",
     "text": [
      "Executando query:\n",
      "(24, 'KIMBERLY LEE')\n",
      "(64, 'JUDITH COX')\n",
      "(77, 'JANE BENNETT')\n",
      "(126, 'ELLEN SIMPSON')\n",
      "(129, 'CARRIE PORTER')\n",
      "(168, 'REGINA BERRY')\n",
      "(176, 'JUNE CARROLL')\n",
      "(206, 'TERRI VASQUEZ')\n",
      "(211, 'STACEY MONTGOMERY')\n",
      "(216, 'NATALIE MEYER')\n",
      "(228, 'ALLISON STANLEY')\n",
      "(254, 'MAXINE SILVA')\n",
      "(260, 'CHRISTY VARGAS')\n",
      "(267, 'MARGIE WADE')\n",
      "(283, 'FELICIA SUTTON')\n",
      "(307, 'JOSEPH JOY')\n",
      "(313, 'DONALD MAHON')\n",
      "(320, 'ANTHONY SCHWAB')\n",
      "(322, 'JASON MORRISSEY')\n",
      "(325, 'TIMOTHY BUNN')\n",
      "(329, 'FRANK WAGGONER')\n",
      "(332, 'STEPHEN QUALLS')\n",
      "(333, 'ANDREW PURDY')\n",
      "(334, 'RAYMOND MCWHORTER')\n",
      "(361, 'LAWRENCE LAWTON')\n",
      "(362, 'NICHOLAS BARFIELD')\n",
      "(389, 'ALAN KAHN')\n",
      "(405, 'LEONARD SCHOFIELD')\n",
      "(422, 'MELVIN ELLINGTON')\n",
      "(436, 'TROY QUIGLEY')\n",
      "(443, 'FRANCISCO SKIDMORE')\n",
      "(445, 'MICHEAL FORMAN')\n",
      "(463, 'DARRELL POWER')\n",
      "(495, 'CHARLIE BESS')\n",
      "(527, 'CORY MEEHAN')\n",
      "(538, 'TED BREAUX')\n",
      "(552, 'HUGH WALDROP')\n",
      "(585, 'PERRY SWAFFORD')\n",
      "(594, 'EDUARDO HIATT')\n"
     ]
    }
   ],
   "source": [
    "sql_ex02 = \"\"\"\n",
    "select\n",
    "    id_aluno,\n",
    "    nome\n",
    "from\n",
    "    alunos\n",
    "where\n",
    "    (\n",
    "        disciplinas LIKE \"%Megadados%\"\n",
    "        AND disciplinas LIKE \"%Big Data%\"\n",
    "    )\n",
    "    OR\n",
    "    (\n",
    "        disciplinas LIKE \"%Megadados%\"\n",
    "        AND disciplinas LIKE \"%MlOps%\"\n",
    "    )\n",
    "\"\"\"\n",
    "\n",
    "db(sql_ex02)"
   ]
  },
  {
   "cell_type": "markdown",
   "id": "b5a7c345",
   "metadata": {},
   "source": [
    "Após testar localmente e considerar sua solução correta, faça o envio clicando no botão abaixo!"
   ]
  },
  {
   "cell_type": "code",
   "execution_count": 14,
   "id": "9046bc51",
   "metadata": {},
   "outputs": [
    {
     "data": {
      "application/vnd.jupyter.widget-view+json": {
       "model_id": "4619ea88155b4f6198bf0f411ee50e8f",
       "version_major": 2,
       "version_minor": 0
      },
      "text/plain": [
       "interactive(children=(Button(description='Enviar ex02', style=ButtonStyle()), Output()), _dom_classes=('widget…"
      ]
     },
     "metadata": {},
     "output_type": "display_data"
    }
   ],
   "source": [
    "ia.sender(answer=\"sql_ex02\", task=\"desafio_normalizacao\", question=\"ex02\", answer_type=\"pyvar\")"
   ]
  },
  {
   "cell_type": "markdown",
   "id": "01da05ca",
   "metadata": {},
   "source": [
    "**Exercício 3**: A \"Avenida Marginal\" na cidade de Anápolis mudou de nome para \"Avenida Ribeirinha\". Escreva uma query que atualize o nome da rua para todos os endereços que possuem o nome \"Avenida Marginal\" nesta cidade.\n",
    "\n",
    "**Obs**: considere apeans o `endereco1`."
   ]
  },
  {
   "cell_type": "code",
   "execution_count": 18,
   "id": "261f49cb",
   "metadata": {
    "scrolled": true
   },
   "outputs": [
    {
     "name": "stdout",
     "output_type": "stream",
     "text": [
      "Executando query:\n"
     ]
    }
   ],
   "source": [
    "sql_ex03 = \"\"\"\n",
    "UPDATE alunos\n",
    "SET endereco1 = replace(endereco1, \"Avenida Marginal\", \"Avenida Ribeirinha\")\n",
    "WHERE\n",
    "    endereco1 LIKE \"%Anápolis%\" AND endereco1 LIKE \"%Avenida Marginal%\"\n",
    "\"\"\"\n",
    "\n",
    "db(sql_ex03)"
   ]
  },
  {
   "cell_type": "markdown",
   "id": "7c1caa11",
   "metadata": {},
   "source": [
    "Após testar localmente e considerar sua solução correta, faça o envio clicando no botão abaixo!"
   ]
  },
  {
   "cell_type": "code",
   "execution_count": 19,
   "id": "9439ee14",
   "metadata": {},
   "outputs": [
    {
     "data": {
      "application/vnd.jupyter.widget-view+json": {
       "model_id": "bcdf665ff0564293ace5580e1025a426",
       "version_major": 2,
       "version_minor": 0
      },
      "text/plain": [
       "interactive(children=(Button(description='Enviar ex03', style=ButtonStyle()), Output()), _dom_classes=('widget…"
      ]
     },
     "metadata": {},
     "output_type": "display_data"
    }
   ],
   "source": [
    "ia.sender(answer=\"sql_ex03\", task=\"desafio_normalizacao\", question=\"ex03\", answer_type=\"pyvar\")"
   ]
  },
  {
   "cell_type": "markdown",
   "id": "caeec0a6",
   "metadata": {},
   "source": [
    "**Exercício 4**: Crie uma query que retorne o **Nome** de todas as disciplinas presentes no banco de dados. Ordene pelo nome da disciplina."
   ]
  },
  {
   "cell_type": "code",
   "execution_count": 20,
   "id": "b757e995",
   "metadata": {
    "scrolled": true
   },
   "outputs": [
    {
     "name": "stdout",
     "output_type": "stream",
     "text": [
      "Executando query:\n"
     ]
    },
    {
     "ename": "ProgrammingError",
     "evalue": "1065 (42000): Query was empty",
     "output_type": "error",
     "traceback": [
      "\u001b[0;31m---------------------------------------------------------------------------\u001b[0m",
      "\u001b[0;31mMySQLInterfaceError\u001b[0m                       Traceback (most recent call last)",
      "File \u001b[0;32m~/INSPER/5_PERIODO/megadados/md-bcc/md_env/lib/python3.13/site-packages/mysql/connector/connection_cext.py:755\u001b[0m, in \u001b[0;36mCMySQLConnection.cmd_query\u001b[0;34m(self, query, raw, buffered, raw_as_string, **kwargs)\u001b[0m\n\u001b[1;32m    754\u001b[0m         query \u001b[38;5;241m=\u001b[39m query\u001b[38;5;241m.\u001b[39mencode(\u001b[38;5;124m\"\u001b[39m\u001b[38;5;124mutf-8\u001b[39m\u001b[38;5;124m\"\u001b[39m)\n\u001b[0;32m--> 755\u001b[0m     \u001b[38;5;28;43mself\u001b[39;49m\u001b[38;5;241;43m.\u001b[39;49m\u001b[43m_cmysql\u001b[49m\u001b[38;5;241;43m.\u001b[39;49m\u001b[43mquery\u001b[49m\u001b[43m(\u001b[49m\n\u001b[1;32m    756\u001b[0m \u001b[43m        \u001b[49m\u001b[43mquery\u001b[49m\u001b[43m,\u001b[49m\n\u001b[1;32m    757\u001b[0m \u001b[43m        \u001b[49m\u001b[43mraw\u001b[49m\u001b[38;5;241;43m=\u001b[39;49m\u001b[43mraw\u001b[49m\u001b[43m,\u001b[49m\n\u001b[1;32m    758\u001b[0m \u001b[43m        \u001b[49m\u001b[43mbuffered\u001b[49m\u001b[38;5;241;43m=\u001b[39;49m\u001b[43mbuffered\u001b[49m\u001b[43m,\u001b[49m\n\u001b[1;32m    759\u001b[0m \u001b[43m        \u001b[49m\u001b[43mraw_as_string\u001b[49m\u001b[38;5;241;43m=\u001b[39;49m\u001b[43mraw_as_string\u001b[49m\u001b[43m,\u001b[49m\n\u001b[1;32m    760\u001b[0m \u001b[43m        \u001b[49m\u001b[43mquery_attrs\u001b[49m\u001b[38;5;241;43m=\u001b[39;49m\u001b[38;5;28;43mself\u001b[39;49m\u001b[38;5;241;43m.\u001b[39;49m\u001b[43mquery_attrs\u001b[49m\u001b[43m,\u001b[49m\n\u001b[1;32m    761\u001b[0m \u001b[43m    \u001b[49m\u001b[43m)\u001b[49m\n\u001b[1;32m    762\u001b[0m \u001b[38;5;28;01mexcept\u001b[39;00m MySQLInterfaceError \u001b[38;5;28;01mas\u001b[39;00m err:\n",
      "\u001b[0;31mMySQLInterfaceError\u001b[0m: Query was empty",
      "\nThe above exception was the direct cause of the following exception:\n",
      "\u001b[0;31mProgrammingError\u001b[0m                          Traceback (most recent call last)",
      "Cell \u001b[0;32mIn[20], line 5\u001b[0m\n\u001b[1;32m      1\u001b[0m sql_ex04 \u001b[38;5;241m=\u001b[39m \u001b[38;5;124m\"\"\"\u001b[39m\n\u001b[1;32m      2\u001b[0m \n\u001b[1;32m      3\u001b[0m \u001b[38;5;124m\"\"\"\u001b[39m\n\u001b[0;32m----> 5\u001b[0m \u001b[43mdb\u001b[49m\u001b[43m(\u001b[49m\u001b[43msql_ex04\u001b[49m\u001b[43m)\u001b[49m\n",
      "Cell \u001b[0;32mIn[3], line 8\u001b[0m, in \u001b[0;36mget_connection_helper.<locals>.run_db_query\u001b[0;34m(connection, query, args)\u001b[0m\n\u001b[1;32m      6\u001b[0m \u001b[38;5;28;01mwith\u001b[39;00m connection\u001b[38;5;241m.\u001b[39mcursor() \u001b[38;5;28;01mas\u001b[39;00m cursor:\n\u001b[1;32m      7\u001b[0m     \u001b[38;5;28mprint\u001b[39m(\u001b[38;5;124m\"\u001b[39m\u001b[38;5;124mExecutando query:\u001b[39m\u001b[38;5;124m\"\u001b[39m)\n\u001b[0;32m----> 8\u001b[0m     \u001b[43mcursor\u001b[49m\u001b[38;5;241;43m.\u001b[39;49m\u001b[43mexecute\u001b[49m\u001b[43m(\u001b[49m\u001b[43mquery\u001b[49m\u001b[43m,\u001b[49m\u001b[43m \u001b[49m\u001b[43margs\u001b[49m\u001b[43m)\u001b[49m\n\u001b[1;32m      9\u001b[0m     \u001b[38;5;28;01mfor\u001b[39;00m result \u001b[38;5;129;01min\u001b[39;00m cursor:\n\u001b[1;32m     10\u001b[0m         \u001b[38;5;28mprint\u001b[39m(result)\n",
      "File \u001b[0;32m~/INSPER/5_PERIODO/megadados/md-bcc/md_env/lib/python3.13/site-packages/mysql/connector/cursor_cext.py:351\u001b[0m, in \u001b[0;36mCMySQLCursor.execute\u001b[0;34m(self, operation, params, map_results)\u001b[0m\n\u001b[1;32m    343\u001b[0m \u001b[38;5;28mself\u001b[39m\u001b[38;5;241m.\u001b[39m_executed \u001b[38;5;241m=\u001b[39m (\n\u001b[1;32m    344\u001b[0m     \u001b[38;5;28mself\u001b[39m\u001b[38;5;241m.\u001b[39m_stmt_partition[\u001b[38;5;124m\"\u001b[39m\u001b[38;5;124msingle_stmts\u001b[39m\u001b[38;5;124m\"\u001b[39m]\u001b[38;5;241m.\u001b[39mpopleft()\n\u001b[1;32m    345\u001b[0m     \u001b[38;5;28;01mif\u001b[39;00m map_results\n\u001b[1;32m    346\u001b[0m     \u001b[38;5;28;01melse\u001b[39;00m \u001b[38;5;28mself\u001b[39m\u001b[38;5;241m.\u001b[39m_stmt_partition[\u001b[38;5;124m\"\u001b[39m\u001b[38;5;124mmappable_stmt\u001b[39m\u001b[38;5;124m\"\u001b[39m]\n\u001b[1;32m    347\u001b[0m )\n\u001b[1;32m    349\u001b[0m \u001b[38;5;28;01mtry\u001b[39;00m:\n\u001b[1;32m    350\u001b[0m     \u001b[38;5;28mself\u001b[39m\u001b[38;5;241m.\u001b[39m_handle_result(\n\u001b[0;32m--> 351\u001b[0m         \u001b[38;5;28;43mself\u001b[39;49m\u001b[38;5;241;43m.\u001b[39;49m\u001b[43m_connection\u001b[49m\u001b[38;5;241;43m.\u001b[39;49m\u001b[43mcmd_query\u001b[49m\u001b[43m(\u001b[49m\n\u001b[1;32m    352\u001b[0m \u001b[43m            \u001b[49m\u001b[38;5;28;43mself\u001b[39;49m\u001b[38;5;241;43m.\u001b[39;49m\u001b[43m_stmt_partition\u001b[49m\u001b[43m[\u001b[49m\u001b[38;5;124;43m\"\u001b[39;49m\u001b[38;5;124;43mmappable_stmt\u001b[39;49m\u001b[38;5;124;43m\"\u001b[39;49m\u001b[43m]\u001b[49m\u001b[43m,\u001b[49m\n\u001b[1;32m    353\u001b[0m \u001b[43m            \u001b[49m\u001b[43mraw\u001b[49m\u001b[38;5;241;43m=\u001b[39;49m\u001b[38;5;28;43mself\u001b[39;49m\u001b[38;5;241;43m.\u001b[39;49m\u001b[43m_raw\u001b[49m\u001b[43m,\u001b[49m\n\u001b[1;32m    354\u001b[0m \u001b[43m            \u001b[49m\u001b[43mbuffered\u001b[49m\u001b[38;5;241;43m=\u001b[39;49m\u001b[38;5;28;43mself\u001b[39;49m\u001b[38;5;241;43m.\u001b[39;49m\u001b[43m_buffered\u001b[49m\u001b[43m,\u001b[49m\n\u001b[1;32m    355\u001b[0m \u001b[43m            \u001b[49m\u001b[43mraw_as_string\u001b[49m\u001b[38;5;241;43m=\u001b[39;49m\u001b[38;5;28;43mself\u001b[39;49m\u001b[38;5;241;43m.\u001b[39;49m\u001b[43m_raw_as_string\u001b[49m\u001b[43m,\u001b[49m\n\u001b[1;32m    356\u001b[0m \u001b[43m        \u001b[49m\u001b[43m)\u001b[49m\n\u001b[1;32m    357\u001b[0m     )\n\u001b[1;32m    358\u001b[0m \u001b[38;5;28;01mexcept\u001b[39;00m MySQLInterfaceError \u001b[38;5;28;01mas\u001b[39;00m err:\n\u001b[1;32m    359\u001b[0m     \u001b[38;5;28;01mraise\u001b[39;00m get_mysql_exception(\n\u001b[1;32m    360\u001b[0m         msg\u001b[38;5;241m=\u001b[39merr\u001b[38;5;241m.\u001b[39mmsg, errno\u001b[38;5;241m=\u001b[39merr\u001b[38;5;241m.\u001b[39merrno, sqlstate\u001b[38;5;241m=\u001b[39merr\u001b[38;5;241m.\u001b[39msqlstate\n\u001b[1;32m    361\u001b[0m     ) \u001b[38;5;28;01mfrom\u001b[39;00m\u001b[38;5;250m \u001b[39m\u001b[38;5;21;01merr\u001b[39;00m\n",
      "File \u001b[0;32m~/INSPER/5_PERIODO/megadados/md-bcc/md_env/lib/python3.13/site-packages/mysql/connector/opentelemetry/context_propagation.py:97\u001b[0m, in \u001b[0;36mwith_context_propagation.<locals>.wrapper\u001b[0;34m(cnx, *args, **kwargs)\u001b[0m\n\u001b[1;32m     95\u001b[0m \u001b[38;5;66;03m# pylint: disable=possibly-used-before-assignment\u001b[39;00m\n\u001b[1;32m     96\u001b[0m \u001b[38;5;28;01mif\u001b[39;00m \u001b[38;5;129;01mnot\u001b[39;00m OTEL_ENABLED \u001b[38;5;129;01mor\u001b[39;00m \u001b[38;5;129;01mnot\u001b[39;00m cnx\u001b[38;5;241m.\u001b[39motel_context_propagation:\n\u001b[0;32m---> 97\u001b[0m     \u001b[38;5;28;01mreturn\u001b[39;00m \u001b[43mmethod\u001b[49m\u001b[43m(\u001b[49m\u001b[43mcnx\u001b[49m\u001b[43m,\u001b[49m\u001b[43m \u001b[49m\u001b[38;5;241;43m*\u001b[39;49m\u001b[43margs\u001b[49m\u001b[43m,\u001b[49m\u001b[43m \u001b[49m\u001b[38;5;241;43m*\u001b[39;49m\u001b[38;5;241;43m*\u001b[39;49m\u001b[43mkwargs\u001b[49m\u001b[43m)\u001b[49m\n\u001b[1;32m     99\u001b[0m current_span \u001b[38;5;241m=\u001b[39m trace\u001b[38;5;241m.\u001b[39mget_current_span()\n\u001b[1;32m    100\u001b[0m tp_header \u001b[38;5;241m=\u001b[39m \u001b[38;5;28;01mNone\u001b[39;00m\n",
      "File \u001b[0;32m~/INSPER/5_PERIODO/megadados/md-bcc/md_env/lib/python3.13/site-packages/mysql/connector/connection_cext.py:763\u001b[0m, in \u001b[0;36mCMySQLConnection.cmd_query\u001b[0;34m(self, query, raw, buffered, raw_as_string, **kwargs)\u001b[0m\n\u001b[1;32m    755\u001b[0m     \u001b[38;5;28mself\u001b[39m\u001b[38;5;241m.\u001b[39m_cmysql\u001b[38;5;241m.\u001b[39mquery(\n\u001b[1;32m    756\u001b[0m         query,\n\u001b[1;32m    757\u001b[0m         raw\u001b[38;5;241m=\u001b[39mraw,\n\u001b[0;32m   (...)\u001b[0m\n\u001b[1;32m    760\u001b[0m         query_attrs\u001b[38;5;241m=\u001b[39m\u001b[38;5;28mself\u001b[39m\u001b[38;5;241m.\u001b[39mquery_attrs,\n\u001b[1;32m    761\u001b[0m     )\n\u001b[1;32m    762\u001b[0m \u001b[38;5;28;01mexcept\u001b[39;00m MySQLInterfaceError \u001b[38;5;28;01mas\u001b[39;00m err:\n\u001b[0;32m--> 763\u001b[0m     \u001b[38;5;28;01mraise\u001b[39;00m get_mysql_exception(\n\u001b[1;32m    764\u001b[0m         err\u001b[38;5;241m.\u001b[39merrno, msg\u001b[38;5;241m=\u001b[39merr\u001b[38;5;241m.\u001b[39mmsg, sqlstate\u001b[38;5;241m=\u001b[39merr\u001b[38;5;241m.\u001b[39msqlstate\n\u001b[1;32m    765\u001b[0m     ) \u001b[38;5;28;01mfrom\u001b[39;00m\u001b[38;5;250m \u001b[39m\u001b[38;5;21;01merr\u001b[39;00m\n\u001b[1;32m    766\u001b[0m \u001b[38;5;28;01mexcept\u001b[39;00m \u001b[38;5;167;01mAttributeError\u001b[39;00m \u001b[38;5;28;01mas\u001b[39;00m err:\n\u001b[1;32m    767\u001b[0m     addr \u001b[38;5;241m=\u001b[39m (\n\u001b[1;32m    768\u001b[0m         \u001b[38;5;28mself\u001b[39m\u001b[38;5;241m.\u001b[39m_unix_socket \u001b[38;5;28;01mif\u001b[39;00m \u001b[38;5;28mself\u001b[39m\u001b[38;5;241m.\u001b[39m_unix_socket \u001b[38;5;28;01melse\u001b[39;00m \u001b[38;5;124mf\u001b[39m\u001b[38;5;124m\"\u001b[39m\u001b[38;5;132;01m{\u001b[39;00m\u001b[38;5;28mself\u001b[39m\u001b[38;5;241m.\u001b[39m_host\u001b[38;5;132;01m}\u001b[39;00m\u001b[38;5;124m:\u001b[39m\u001b[38;5;132;01m{\u001b[39;00m\u001b[38;5;28mself\u001b[39m\u001b[38;5;241m.\u001b[39m_port\u001b[38;5;132;01m}\u001b[39;00m\u001b[38;5;124m\"\u001b[39m\n\u001b[1;32m    769\u001b[0m     )\n",
      "\u001b[0;31mProgrammingError\u001b[0m: 1065 (42000): Query was empty"
     ]
    }
   ],
   "source": [
    "sql_ex04 = \"\"\"\n",
    "\n",
    "\"\"\"\n",
    "\n",
    "db(sql_ex04)"
   ]
  },
  {
   "cell_type": "markdown",
   "id": "58d5f71f",
   "metadata": {},
   "source": [
    "Após testar localmente e considerar sua solução correta, faça o envio clicando no botão abaixo!"
   ]
  },
  {
   "cell_type": "code",
   "execution_count": null,
   "id": "94416a57",
   "metadata": {},
   "outputs": [],
   "source": [
    "ia.sender(answer=\"sql_ex04\", task=\"desafio_normalizacao\", question=\"ex04\", answer_type=\"pyvar\")"
   ]
  },
  {
   "cell_type": "markdown",
   "id": "a6cd4aa2",
   "metadata": {},
   "source": [
    "**Exercício 5**: A disciplina \"Meditação e Relaxamento\" foi cancelada por conta do baixo interesse nela pelos alunos. Escreva uma query que remova a disciplina do banco de dados sem que a estrutura da coluna seja afetada."
   ]
  },
  {
   "cell_type": "code",
   "execution_count": null,
   "id": "191a5519",
   "metadata": {
    "scrolled": true
   },
   "outputs": [],
   "source": [
    "sql_ex05 = \"\"\"\n",
    "-- Sua query AQUI!\n",
    "\"\"\"\n",
    "\n",
    "db(sql_ex05)"
   ]
  },
  {
   "cell_type": "code",
   "execution_count": null,
   "id": "003f021f",
   "metadata": {},
   "outputs": [],
   "source": [
    "ia.sender(answer=\"sql_ex05\", task=\"desafio_normalizacao\", question=\"ex05\", answer_type=\"pyvar\")"
   ]
  },
  {
   "cell_type": "markdown",
   "id": "a82a9b6e",
   "metadata": {},
   "source": [
    "### Conferindo as Notas\n",
    "\n",
    "Conferindo as Notas em cada exercício de **todas** as atividades disponíveis:"
   ]
  },
  {
   "cell_type": "markdown",
   "id": "46cedc17",
   "metadata": {},
   "source": [
    "Podemos filtrar por uma atividade:"
   ]
  },
  {
   "cell_type": "code",
   "execution_count": null,
   "id": "86ad5ea7",
   "metadata": {},
   "outputs": [],
   "source": [
    "ia.grades(task=\"desafio_normalizacao\")"
   ]
  },
  {
   "cell_type": "markdown",
   "id": "d8f403ad",
   "metadata": {},
   "source": [
    "Nota por atividade (tarefa):"
   ]
  },
  {
   "cell_type": "code",
   "execution_count": null,
   "id": "fdcdd52b",
   "metadata": {},
   "outputs": [],
   "source": [
    "ia.grades(by=\"TASK\")"
   ]
  },
  {
   "cell_type": "markdown",
   "id": "14c242fb",
   "metadata": {},
   "source": [
    "Podendo filtrar apenas uma atividade:"
   ]
  },
  {
   "cell_type": "code",
   "execution_count": null,
   "id": "e5f92f57",
   "metadata": {},
   "outputs": [],
   "source": [
    "ia.grades(by=\"TASK\", task=\"desafio_normalizacao\")"
   ]
  }
 ],
 "metadata": {
  "kernelspec": {
   "display_name": "md_env",
   "language": "python",
   "name": "python3"
  },
  "language_info": {
   "codemirror_mode": {
    "name": "ipython",
    "version": 3
   },
   "file_extension": ".py",
   "mimetype": "text/x-python",
   "name": "python",
   "nbconvert_exporter": "python",
   "pygments_lexer": "ipython3",
   "version": "3.13.1"
  }
 },
 "nbformat": 4,
 "nbformat_minor": 5
}
