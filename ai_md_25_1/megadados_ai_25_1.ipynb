{
 "cells": [
  {
   "cell_type": "markdown",
   "id": "f62ded59",
   "metadata": {},
   "source": [
    "# AI MEGADADOS 25-1"
   ]
  },
  {
   "cell_type": "markdown",
   "id": "ee1fa31d",
   "metadata": {},
   "source": [
    "**NOME**: Gustavo Barroso Souza Cruz"
   ]
  },
  {
   "cell_type": "markdown",
   "id": "00e61852",
   "metadata": {},
   "source": [
    "## Observações\n",
    "- Esta prova é formada por 9 (nove) questões e tem **duração de 2h30**.\n",
    "- Os exercícios com correção automática não terão correção manual, mas poderão haver checks de qualidade/honestidade. Caso tente burlar os testes, sua nota de prova será zero e será enviado ao regime disciplinar. O que é burlar? Por exemplo, para a pergunta \"calcule a média da coluna x\", o correto é fazer \"SELECT AVG(x) FROM tabela\", já fazer \"SELECT 100.10\" é considerado burlar os testes, pois sua query não funciona de forma genérica, apenas cola o próprio valor de resultado.\n",
    "- Você pode trazer uma folha de papel (tamanho próximo a A4 / oficio) preenchida dos dois lados e utilizar como consulta. A folha pode ser tanto impressa quanto escrita a mão.\n",
    "- Será permitido utilizar o Workbench para testar queries e fazer forward / reverse engineering. Feche as abas com respostas realizadas durante o semestre.\n",
    "- Não é permitido compartilhar qualquer material durante a prova. Não serão permitidas consultas a outros meios (material blackboard, sites, notebooks das aulas, github) impressos ou digitais, nem contactar outras pessoas. Caso ocorra, a nota da prova será zero e será enviado ao regime disciplinar.\n",
    "- Não é permitido o uso de ferramentas de IA (copilot, chatgpt e afins). Você precisará providenciar um ambiente seguro para a prova, sem extensões instaladas (não basta desativar) nem sites abertos. Caso ocorra, a nota da prova será zero e será enviado ao regime disciplinar."
   ]
  },
  {
   "cell_type": "markdown",
   "id": "347b3f0a",
   "metadata": {},
   "source": [
    "## Parte 1 - Academia!\n",
    "\n",
    "Na parte 1 da prova de Megadados, iremos trabalhar com a base de dados sintética **Academia**.\n",
    "\n",
    "Esta base modela um cenário de gestão de academias: redes de academias, unidades, planos, redes de academias atendidas pelo plano, clientes, planos do cliente, etc."
   ]
  },
  {
   "cell_type": "markdown",
   "id": "f1b22c4b",
   "metadata": {},
   "source": [
    "### Insper autograding!\n",
    "\n",
    "Para entrega dos exercício na parte 1, iremos utilizar o `insper autograding`. Garanta que a biblioteca está instalada em seu ambiente Python.\n",
    "\n",
    "**Sugestão**: crie uma pasta para a prova e copie o `.env` utilizado nas aulas para esta pasta."
   ]
  },
  {
   "cell_type": "markdown",
   "id": "e182dee5",
   "metadata": {},
   "source": [
    "### Instalação da base\n",
    "\n",
    "Execute o script `academia.sql` no MySQL Workbench. Este script cria uma base `academia` e insere alguns dados de exemplo para resolução da prova.\n",
    "\n",
    "A base pode ser representada pelo seguinte diagrama do model orelacional (diagrama ER):\n",
    "\n",
    "<img src=\"img/deer_academia.png\">"
   ]
  },
  {
   "cell_type": "markdown",
   "id": "69ee33d4",
   "metadata": {},
   "source": [
    "## Como resolver os exercícios?\n",
    "\n",
    "Crie a base da prova em sua máquina (passo anterior). Utilize o MySQL Workbench ou o conector para testar as queries. Quando estiver bastante certo de que a resposta está correta, faça a submissão para o servidor.\n",
    "\n",
    "Em alguns momentos, pode ser necessário analisar a resposta esperada do servidor para entender modificações na sua solução, mesmo que não seja algo explícito no enunciado.\n",
    "\n",
    "## Import das bibliotecas\n",
    "\n",
    "Vamos realizar o import das bibliotecas."
   ]
  },
  {
   "cell_type": "code",
   "execution_count": 2,
   "id": "b2f1597a",
   "metadata": {},
   "outputs": [],
   "source": [
    "import mysql.connector\n",
    "from functools import partial\n",
    "import os\n",
    "import insperautograder.jupyter as ia\n",
    "from dotenv import load_dotenv"
   ]
  },
  {
   "cell_type": "markdown",
   "id": "33eefa0d",
   "metadata": {},
   "source": [
    "E vamos criar nosso HELPER de conexão com o banco! Perceba que, uma vez configurado o `.env` não precisaremos mais informar usuários, senhas e URLs!"
   ]
  },
  {
   "cell_type": "code",
   "execution_count": 3,
   "id": "f5147533",
   "metadata": {},
   "outputs": [],
   "source": [
    "load_dotenv(override=True)\n",
    "\n",
    "def get_connection_helper():\n",
    "\n",
    "    def run_db_query(connection, query, args=None):\n",
    "        with connection.cursor() as cursor:\n",
    "            print(\"Executando query:\")\n",
    "            cursor.execute(query, args)\n",
    "            for result in cursor:\n",
    "                print(result)\n",
    "\n",
    "    connection = mysql.connector.connect(\n",
    "        host=os.getenv(\"MD_DB_SERVER\"),\n",
    "        user=os.getenv(\"MD_DB_USERNAME\"),\n",
    "        password=os.getenv(\"MD_DB_PASSWORD\"),\n",
    "        database=\"academia\",\n",
    "    )\n",
    "    return connection, partial(run_db_query, connection)\n",
    "\n",
    "\n",
    "connection, db = get_connection_helper()"
   ]
  },
  {
   "cell_type": "markdown",
   "id": "86e481dc",
   "metadata": {},
   "source": [
    "### Notas\n",
    "\n",
    "Para conferir a nota da correção automática da prova, utilize:"
   ]
  },
  {
   "cell_type": "code",
   "execution_count": 4,
   "id": "9d0c9a82",
   "metadata": {},
   "outputs": [
    {
     "data": {
      "text/markdown": [
       "|    | Atividade   | Exercício   |   Peso |   Nota |\n",
       "|---:|:------------|:------------|-------:|-------:|\n",
       "|  0 | ai_md_25_1  | ex01        |      3 |     10 |\n",
       "|  1 | ai_md_25_1  | ex02        |      5 |     10 |\n",
       "|  2 | ai_md_25_1  | ex03        |      5 |     10 |\n",
       "|  3 | ai_md_25_1  | ex04        |      6 |      0 |\n",
       "|  4 | ai_md_25_1  | ex05        |      2 |     10 |\n",
       "|  5 | ai_md_25_1  | ex06        |      4 |      0 |"
      ],
      "text/plain": [
       "<IPython.core.display.Markdown object>"
      ]
     },
     "metadata": {},
     "output_type": "display_data"
    }
   ],
   "source": [
    "ia.grades(task=\"ai_md_25_1\")"
   ]
  },
  {
   "cell_type": "code",
   "execution_count": 5,
   "id": "088634f3",
   "metadata": {},
   "outputs": [
    {
     "data": {
      "text/markdown": [
       "|    | Tarefa     |   Nota |\n",
       "|---:|:-----------|-------:|\n",
       "|  0 | ai_md_25_1 |      6 |"
      ],
      "text/plain": [
       "<IPython.core.display.Markdown object>"
      ]
     },
     "metadata": {},
     "output_type": "display_data"
    }
   ],
   "source": [
    "ia.grades(by=\"TASK\", task=\"ai_md_25_1\")"
   ]
  },
  {
   "cell_type": "markdown",
   "id": "c210879c",
   "metadata": {},
   "source": [
    "**Obs**:\n",
    "\n",
    "- As questões 1 a 6 valem **6.0 pontos** na nota da prova.\n",
    "    - Estas questões serão corrigidas **apenas** pela correção automática. Não haverá nota manual, mas haverá check de honestidade, conforme regras da prova.\n",
    "    - Confira os pesos pela API, a média é ponderada.\n",
    "    - No servidor, a nota da atividade estará no intervalo 0 a 10. Multiplique por `0.6` para saber a real contribuição na nota da prova.\n",
    "- A questão 7 vale **0.5 pontos** na nota da prova.\n",
    "- As questões 8 e 9 valem **4.0 pontos** na nota da prova:\n",
    "    - **2.5 pontos** para a questão 8.\n",
    "    - **1.5 pontos** para a questão 9.\n",
    "\n",
    "Logo, a prova vale um total de **10.5** pontos. Você terá sua nota truncada para dez caso conquiste nota maior."
   ]
  },
  {
   "cell_type": "markdown",
   "id": "8a3c8ba9",
   "metadata": {},
   "source": [
    "**Exercício 1**: Crie uma query que retorne o nome (completo), a data de nascimento e o telefone de todos os clientes cujo nome completo termina com a letra `\"a\"`.\n",
    "\n",
    "**Obs**: Ordene de forma crescente pelo nome (completo)."
   ]
  },
  {
   "cell_type": "code",
   "execution_count": 6,
   "id": "49f356af",
   "metadata": {},
   "outputs": [
    {
     "name": "stdout",
     "output_type": "stream",
     "text": [
      "Executando query:\n",
      "('Ana Souza', datetime.date(1991, 3, 15), '11966666666')\n",
      "('Carlos Lima', datetime.date(1992, 10, 10), '11977777777')\n",
      "('João Pereira', datetime.date(1985, 5, 20), '21988888888')\n",
      "('Laura Costa', datetime.date(1994, 2, 12), '21933333333')\n",
      "('Maria Silva', datetime.date(1990, 1, 1), '11999999999')\n"
     ]
    }
   ],
   "source": [
    "sql_ex01 = \"\"\"\n",
    "SELECT\n",
    "    nome,\n",
    "    data_nasc,\n",
    "    telefone\n",
    "FROM\n",
    "    cliente\n",
    "WHERE\n",
    "    nome LIKE \"%a\"\n",
    "ORDER BY\n",
    "    nome\n",
    "\"\"\"\n",
    "\n",
    "db(sql_ex01)"
   ]
  },
  {
   "cell_type": "markdown",
   "id": "912fa816",
   "metadata": {},
   "source": [
    "Após testar localmente e considerar sua solução correta, faça o envio clicando no botão abaixo!"
   ]
  },
  {
   "cell_type": "code",
   "execution_count": 6,
   "id": "5e07ed2b",
   "metadata": {},
   "outputs": [
    {
     "data": {
      "application/vnd.jupyter.widget-view+json": {
       "model_id": "fc406931f1b04add8fdc63caea4503e5",
       "version_major": 2,
       "version_minor": 0
      },
      "text/plain": [
       "interactive(children=(Button(description='Enviar ex01', style=ButtonStyle()), Output()), _dom_classes=('widget…"
      ]
     },
     "metadata": {},
     "output_type": "display_data"
    }
   ],
   "source": [
    "ia.sender(answer=\"sql_ex01\", task=\"ai_md_25_1\", question=\"ex01\", answer_type=\"pyvar\")"
   ]
  },
  {
   "cell_type": "markdown",
   "id": "c167b70e",
   "metadata": {},
   "source": [
    "**Exercício 2**: Crie uma query que retorne:\n",
    "\n",
    "- O nome da unidade;\n",
    "- O número da unidade;\n",
    "- O nome da rede da unidade;\n",
    "- O nome da cidade da unidade;\n",
    "\n",
    "**Obs**:\n",
    "- Retorne apenas as unidades não localizadas no **Brasil**;\n",
    "- Utilize a nomenclatura (`nome_unidade`, `numero`, `rede`, `cidade`);\n",
    "- Ordene de forma decrescente pelo `nome_unidade`."
   ]
  },
  {
   "cell_type": "code",
   "execution_count": 7,
   "id": "0203756a",
   "metadata": {},
   "outputs": [
    {
     "name": "stdout",
     "output_type": "stream",
     "text": [
      "Executando query:\n",
      "('Smart Buenos Aires', '400', 'Smart Fit', 'Buenos Aires')\n",
      "('JustFit Lima', '502', 'JustFit', 'Lima')\n",
      "('JustFit Buenos Aires', '402', 'JustFit', 'Buenos Aires')\n",
      "('BodyTech Lima', '601', 'BodyTech', 'Lima')\n",
      "('BodyTech Cusco', '701', 'BodyTech', 'Lima')\n",
      "('BodyTech Buenos Aires', '501', 'BodyTech', 'Buenos Aires')\n",
      "('BlueFit Lima', '401', 'BlueFit', 'Lima')\n",
      "('BioRitmo Lima', '403', 'BioRitmo', 'Lima')\n"
     ]
    }
   ],
   "source": [
    "sql_ex02 = \"\"\"\n",
    "SELECT\n",
    "    u.nome nome_unidade,\n",
    "    u.numero numero,\n",
    "    r.nome rede,\n",
    "    ci.nome cidade\n",
    "FROM\n",
    "    unidade u\n",
    "    LEFT JOIN rede r USING (id_rede)\n",
    "    LEFT JOIN cep c USING (id_cep)\n",
    "    LEFT JOIN cidade ci USING (id_cidade)\n",
    "    LEFT JOIN estado e USING (id_estado)\n",
    "    LEFT JOIN pais p USING (id_pais)\n",
    "WHERE\n",
    "    p.nome != \"Brasil\"\n",
    "ORDER BY\n",
    "    nome_unidade DESC\n",
    "\"\"\"\n",
    "\n",
    "db(sql_ex02)"
   ]
  },
  {
   "cell_type": "markdown",
   "id": "ed653f31",
   "metadata": {},
   "source": [
    "Após testar localmente e considerar sua solução correta, faça o envio clicando no botão abaixo!"
   ]
  },
  {
   "cell_type": "code",
   "execution_count": 8,
   "id": "b38f883b",
   "metadata": {},
   "outputs": [
    {
     "data": {
      "application/vnd.jupyter.widget-view+json": {
       "model_id": "d4b214647e5546f28d4ddb639b851f4e",
       "version_major": 2,
       "version_minor": 0
      },
      "text/plain": [
       "interactive(children=(Button(description='Enviar ex02', style=ButtonStyle()), Output()), _dom_classes=('widget…"
      ]
     },
     "metadata": {},
     "output_type": "display_data"
    }
   ],
   "source": [
    "ia.sender(answer=\"sql_ex02\", task=\"ai_md_25_1\", question=\"ex02\", answer_type=\"pyvar\")"
   ]
  },
  {
   "cell_type": "markdown",
   "id": "a1f510dc",
   "metadata": {},
   "source": [
    "**Exercício 3**: Crie uma query que retorne:\n",
    "\n",
    "- O nome do cliente;\n",
    "- O valor total dos planos que o cliente assina ou ja assinou (coluna `valor_total`);\n",
    "- A quantidade de planos que o cliente assina (coluna `qtde_planos`).\n",
    "\n",
    "**Obs**:\n",
    "- Clientes sem planos também devem ser retornados. Seus indicadores devem estar zerados.\n",
    "- Ordene de forma decrescente pelo valor total. Em caso de empate, ordene de forma crescente pelo nome do cliente."
   ]
  },
  {
   "cell_type": "code",
   "execution_count": 9,
   "id": "f124731c",
   "metadata": {},
   "outputs": [
    {
     "name": "stdout",
     "output_type": "stream",
     "text": [
      "Executando query:\n",
      "('Laura Costa', Decimal('629.60'), 4)\n",
      "('Carlos Lima', Decimal('329.80'), 2)\n",
      "('João Pereira', Decimal('299.80'), 2)\n",
      "('Maria Silva', Decimal('299.80'), 2)\n",
      "('Ana Souza', Decimal('99.90'), 1)\n",
      "('Fernando Dias', Decimal('99.90'), 1)\n",
      "('Pedro Mendes', Decimal('79.90'), 1)\n",
      "('Ricardo Santos', Decimal('0.00'), 0)\n"
     ]
    }
   ],
   "source": [
    "sql_ex03 = \"\"\"\n",
    "SELECT\n",
    "    c.nome,\n",
    "    COALESCE(SUM(p.valor), 0.0) valor_total,\n",
    "    COUNT(p.id_plano) qtde_planos\n",
    "FROM\n",
    "    cliente c\n",
    "    LEFT JOIN membro_plano mp USING (id_cliente)\n",
    "    LEFT JOIN plano p USING (id_plano)\n",
    "GROUP BY\n",
    "    c.nome\n",
    "ORDER BY\n",
    "    valor_total DESC, c.nome\n",
    "\"\"\"\n",
    "\n",
    "db(sql_ex03)"
   ]
  },
  {
   "cell_type": "markdown",
   "id": "6e1251f9",
   "metadata": {},
   "source": [
    "Após testar localmente e considerar sua solução correta, faça o envio clicando no botão abaixo!"
   ]
  },
  {
   "cell_type": "code",
   "execution_count": 10,
   "id": "4a3e71f9",
   "metadata": {},
   "outputs": [
    {
     "data": {
      "application/vnd.jupyter.widget-view+json": {
       "model_id": "1f5779607c93470c8cc9c79a3504a2ad",
       "version_major": 2,
       "version_minor": 0
      },
      "text/plain": [
       "interactive(children=(Button(description='Enviar ex03', style=ButtonStyle()), Output()), _dom_classes=('widget…"
      ]
     },
     "metadata": {},
     "output_type": "display_data"
    }
   ],
   "source": [
    "ia.sender(answer=\"sql_ex03\", task=\"ai_md_25_1\", question=\"ex03\", answer_type=\"pyvar\")"
   ]
  },
  {
   "cell_type": "markdown",
   "id": "ae19d0a1",
   "metadata": {},
   "source": [
    "**Exercício 4**:\n",
    "\n",
    "Vamos analisar a distribuição dos planos e clientes.\n",
    "\n",
    "Crie uma query que retorne:\n",
    "\n",
    "- O nome do plano (coluna `plano`);\n",
    "- O `valor` do plano;\n",
    "- A quantidade de redes disponibilizadas pelo plano (coluna `qtde_redes`);\n",
    "- A quantidade de unidades disponíveis no plano (coluna `qtde_unidades`);\n",
    "- A quantidade de cidades diferentes atendidas pelo plano, com base nas unidades (coluna `qtde_cidades`);\n",
    "- A quantidade de clientes que assinam o plano (coluna `qtde_clientes`). Considere apenas as assinaturas `membro_plano` ativas (independente se o cliente está ativo).\n",
    "\n",
    "**Obs:**\n",
    "- Considere apenas planos que atendem no máximo cinco cidades diferentes;\n",
    "- Retorne apenas os três planos com mais unidades;\n",
    "- Ordene de forma crescente pelo nome do plano."
   ]
  },
  {
   "cell_type": "code",
   "execution_count": null,
   "id": "b8a0a9bc",
   "metadata": {},
   "outputs": [
    {
     "name": "stdout",
     "output_type": "stream",
     "text": [
      "Executando query:\n"
     ]
    },
    {
     "ename": "ProgrammingError",
     "evalue": "1064 (42000): You have an error in your SQL syntax; check the manual that corresponds to your MySQL server version for the right syntax to use near 'HAVING\n    qtde_clientes > MIN(COUNT(DISTINCT cl.id_cliente))\nORDER BY\n    p.nom' at line 21",
     "output_type": "error",
     "traceback": [
      "\u001b[0;31m---------------------------------------------------------------------------\u001b[0m",
      "\u001b[0;31mMySQLInterfaceError\u001b[0m                       Traceback (most recent call last)",
      "File \u001b[0;32m~/INSPER/5_PERIODO/megadados/md-bcc/md_env/lib/python3.13/site-packages/mysql/connector/connection_cext.py:755\u001b[0m, in \u001b[0;36mCMySQLConnection.cmd_query\u001b[0;34m(self, query, raw, buffered, raw_as_string, **kwargs)\u001b[0m\n\u001b[1;32m    754\u001b[0m         query \u001b[38;5;241m=\u001b[39m query\u001b[38;5;241m.\u001b[39mencode(\u001b[38;5;124m\"\u001b[39m\u001b[38;5;124mutf-8\u001b[39m\u001b[38;5;124m\"\u001b[39m)\n\u001b[0;32m--> 755\u001b[0m     \u001b[38;5;28;43mself\u001b[39;49m\u001b[38;5;241;43m.\u001b[39;49m\u001b[43m_cmysql\u001b[49m\u001b[38;5;241;43m.\u001b[39;49m\u001b[43mquery\u001b[49m\u001b[43m(\u001b[49m\n\u001b[1;32m    756\u001b[0m \u001b[43m        \u001b[49m\u001b[43mquery\u001b[49m\u001b[43m,\u001b[49m\n\u001b[1;32m    757\u001b[0m \u001b[43m        \u001b[49m\u001b[43mraw\u001b[49m\u001b[38;5;241;43m=\u001b[39;49m\u001b[43mraw\u001b[49m\u001b[43m,\u001b[49m\n\u001b[1;32m    758\u001b[0m \u001b[43m        \u001b[49m\u001b[43mbuffered\u001b[49m\u001b[38;5;241;43m=\u001b[39;49m\u001b[43mbuffered\u001b[49m\u001b[43m,\u001b[49m\n\u001b[1;32m    759\u001b[0m \u001b[43m        \u001b[49m\u001b[43mraw_as_string\u001b[49m\u001b[38;5;241;43m=\u001b[39;49m\u001b[43mraw_as_string\u001b[49m\u001b[43m,\u001b[49m\n\u001b[1;32m    760\u001b[0m \u001b[43m        \u001b[49m\u001b[43mquery_attrs\u001b[49m\u001b[38;5;241;43m=\u001b[39;49m\u001b[38;5;28;43mself\u001b[39;49m\u001b[38;5;241;43m.\u001b[39;49m\u001b[43mquery_attrs\u001b[49m\u001b[43m,\u001b[49m\n\u001b[1;32m    761\u001b[0m \u001b[43m    \u001b[49m\u001b[43m)\u001b[49m\n\u001b[1;32m    762\u001b[0m \u001b[38;5;28;01mexcept\u001b[39;00m MySQLInterfaceError \u001b[38;5;28;01mas\u001b[39;00m err:\n",
      "\u001b[0;31mMySQLInterfaceError\u001b[0m: You have an error in your SQL syntax; check the manual that corresponds to your MySQL server version for the right syntax to use near 'HAVING\n    qtde_clientes > MIN(COUNT(DISTINCT cl.id_cliente))\nORDER BY\n    p.nom' at line 21",
      "\nThe above exception was the direct cause of the following exception:\n",
      "\u001b[0;31mProgrammingError\u001b[0m                          Traceback (most recent call last)",
      "Cell \u001b[0;32mIn[24], line 52\u001b[0m\n\u001b[1;32m      1\u001b[0m sql_ex04 \u001b[38;5;241m=\u001b[39m \u001b[38;5;124m\"\"\"\u001b[39m\n\u001b[1;32m      2\u001b[0m \u001b[38;5;124mSELECT\u001b[39m\n\u001b[1;32m      3\u001b[0m \u001b[38;5;124m    p.nome plano,\u001b[39m\n\u001b[0;32m   (...)\u001b[0m\n\u001b[1;32m     27\u001b[0m \n\u001b[1;32m     28\u001b[0m \u001b[38;5;124m\"\"\"\u001b[39m\n\u001b[1;32m     30\u001b[0m \u001b[38;5;66;03m# AND p.id_plano IN (\u001b[39;00m\n\u001b[1;32m     31\u001b[0m \u001b[38;5;66;03m#         SELECT\u001b[39;00m\n\u001b[1;32m     32\u001b[0m \u001b[38;5;66;03m#             p.id_plano,\u001b[39;00m\n\u001b[0;32m   (...)\u001b[0m\n\u001b[1;32m     50\u001b[0m \u001b[38;5;66;03m#         LIMIT 3\u001b[39;00m\n\u001b[1;32m     51\u001b[0m \u001b[38;5;66;03m#     )\u001b[39;00m\n\u001b[0;32m---> 52\u001b[0m \u001b[43mdb\u001b[49m\u001b[43m(\u001b[49m\u001b[43msql_ex04\u001b[49m\u001b[43m)\u001b[49m\n",
      "Cell \u001b[0;32mIn[2], line 8\u001b[0m, in \u001b[0;36mget_connection_helper.<locals>.run_db_query\u001b[0;34m(connection, query, args)\u001b[0m\n\u001b[1;32m      6\u001b[0m \u001b[38;5;28;01mwith\u001b[39;00m connection\u001b[38;5;241m.\u001b[39mcursor() \u001b[38;5;28;01mas\u001b[39;00m cursor:\n\u001b[1;32m      7\u001b[0m     \u001b[38;5;28mprint\u001b[39m(\u001b[38;5;124m\"\u001b[39m\u001b[38;5;124mExecutando query:\u001b[39m\u001b[38;5;124m\"\u001b[39m)\n\u001b[0;32m----> 8\u001b[0m     \u001b[43mcursor\u001b[49m\u001b[38;5;241;43m.\u001b[39;49m\u001b[43mexecute\u001b[49m\u001b[43m(\u001b[49m\u001b[43mquery\u001b[49m\u001b[43m,\u001b[49m\u001b[43m \u001b[49m\u001b[43margs\u001b[49m\u001b[43m)\u001b[49m\n\u001b[1;32m      9\u001b[0m     \u001b[38;5;28;01mfor\u001b[39;00m result \u001b[38;5;129;01min\u001b[39;00m cursor:\n\u001b[1;32m     10\u001b[0m         \u001b[38;5;28mprint\u001b[39m(result)\n",
      "File \u001b[0;32m~/INSPER/5_PERIODO/megadados/md-bcc/md_env/lib/python3.13/site-packages/mysql/connector/cursor_cext.py:351\u001b[0m, in \u001b[0;36mCMySQLCursor.execute\u001b[0;34m(self, operation, params, map_results)\u001b[0m\n\u001b[1;32m    343\u001b[0m \u001b[38;5;28mself\u001b[39m\u001b[38;5;241m.\u001b[39m_executed \u001b[38;5;241m=\u001b[39m (\n\u001b[1;32m    344\u001b[0m     \u001b[38;5;28mself\u001b[39m\u001b[38;5;241m.\u001b[39m_stmt_partition[\u001b[38;5;124m\"\u001b[39m\u001b[38;5;124msingle_stmts\u001b[39m\u001b[38;5;124m\"\u001b[39m]\u001b[38;5;241m.\u001b[39mpopleft()\n\u001b[1;32m    345\u001b[0m     \u001b[38;5;28;01mif\u001b[39;00m map_results\n\u001b[1;32m    346\u001b[0m     \u001b[38;5;28;01melse\u001b[39;00m \u001b[38;5;28mself\u001b[39m\u001b[38;5;241m.\u001b[39m_stmt_partition[\u001b[38;5;124m\"\u001b[39m\u001b[38;5;124mmappable_stmt\u001b[39m\u001b[38;5;124m\"\u001b[39m]\n\u001b[1;32m    347\u001b[0m )\n\u001b[1;32m    349\u001b[0m \u001b[38;5;28;01mtry\u001b[39;00m:\n\u001b[1;32m    350\u001b[0m     \u001b[38;5;28mself\u001b[39m\u001b[38;5;241m.\u001b[39m_handle_result(\n\u001b[0;32m--> 351\u001b[0m         \u001b[38;5;28;43mself\u001b[39;49m\u001b[38;5;241;43m.\u001b[39;49m\u001b[43m_connection\u001b[49m\u001b[38;5;241;43m.\u001b[39;49m\u001b[43mcmd_query\u001b[49m\u001b[43m(\u001b[49m\n\u001b[1;32m    352\u001b[0m \u001b[43m            \u001b[49m\u001b[38;5;28;43mself\u001b[39;49m\u001b[38;5;241;43m.\u001b[39;49m\u001b[43m_stmt_partition\u001b[49m\u001b[43m[\u001b[49m\u001b[38;5;124;43m\"\u001b[39;49m\u001b[38;5;124;43mmappable_stmt\u001b[39;49m\u001b[38;5;124;43m\"\u001b[39;49m\u001b[43m]\u001b[49m\u001b[43m,\u001b[49m\n\u001b[1;32m    353\u001b[0m \u001b[43m            \u001b[49m\u001b[43mraw\u001b[49m\u001b[38;5;241;43m=\u001b[39;49m\u001b[38;5;28;43mself\u001b[39;49m\u001b[38;5;241;43m.\u001b[39;49m\u001b[43m_raw\u001b[49m\u001b[43m,\u001b[49m\n\u001b[1;32m    354\u001b[0m \u001b[43m            \u001b[49m\u001b[43mbuffered\u001b[49m\u001b[38;5;241;43m=\u001b[39;49m\u001b[38;5;28;43mself\u001b[39;49m\u001b[38;5;241;43m.\u001b[39;49m\u001b[43m_buffered\u001b[49m\u001b[43m,\u001b[49m\n\u001b[1;32m    355\u001b[0m \u001b[43m            \u001b[49m\u001b[43mraw_as_string\u001b[49m\u001b[38;5;241;43m=\u001b[39;49m\u001b[38;5;28;43mself\u001b[39;49m\u001b[38;5;241;43m.\u001b[39;49m\u001b[43m_raw_as_string\u001b[49m\u001b[43m,\u001b[49m\n\u001b[1;32m    356\u001b[0m \u001b[43m        \u001b[49m\u001b[43m)\u001b[49m\n\u001b[1;32m    357\u001b[0m     )\n\u001b[1;32m    358\u001b[0m \u001b[38;5;28;01mexcept\u001b[39;00m MySQLInterfaceError \u001b[38;5;28;01mas\u001b[39;00m err:\n\u001b[1;32m    359\u001b[0m     \u001b[38;5;28;01mraise\u001b[39;00m get_mysql_exception(\n\u001b[1;32m    360\u001b[0m         msg\u001b[38;5;241m=\u001b[39merr\u001b[38;5;241m.\u001b[39mmsg, errno\u001b[38;5;241m=\u001b[39merr\u001b[38;5;241m.\u001b[39merrno, sqlstate\u001b[38;5;241m=\u001b[39merr\u001b[38;5;241m.\u001b[39msqlstate\n\u001b[1;32m    361\u001b[0m     ) \u001b[38;5;28;01mfrom\u001b[39;00m\u001b[38;5;250m \u001b[39m\u001b[38;5;21;01merr\u001b[39;00m\n",
      "File \u001b[0;32m~/INSPER/5_PERIODO/megadados/md-bcc/md_env/lib/python3.13/site-packages/mysql/connector/opentelemetry/context_propagation.py:97\u001b[0m, in \u001b[0;36mwith_context_propagation.<locals>.wrapper\u001b[0;34m(cnx, *args, **kwargs)\u001b[0m\n\u001b[1;32m     95\u001b[0m \u001b[38;5;66;03m# pylint: disable=possibly-used-before-assignment\u001b[39;00m\n\u001b[1;32m     96\u001b[0m \u001b[38;5;28;01mif\u001b[39;00m \u001b[38;5;129;01mnot\u001b[39;00m OTEL_ENABLED \u001b[38;5;129;01mor\u001b[39;00m \u001b[38;5;129;01mnot\u001b[39;00m cnx\u001b[38;5;241m.\u001b[39motel_context_propagation:\n\u001b[0;32m---> 97\u001b[0m     \u001b[38;5;28;01mreturn\u001b[39;00m \u001b[43mmethod\u001b[49m\u001b[43m(\u001b[49m\u001b[43mcnx\u001b[49m\u001b[43m,\u001b[49m\u001b[43m \u001b[49m\u001b[38;5;241;43m*\u001b[39;49m\u001b[43margs\u001b[49m\u001b[43m,\u001b[49m\u001b[43m \u001b[49m\u001b[38;5;241;43m*\u001b[39;49m\u001b[38;5;241;43m*\u001b[39;49m\u001b[43mkwargs\u001b[49m\u001b[43m)\u001b[49m\n\u001b[1;32m     99\u001b[0m current_span \u001b[38;5;241m=\u001b[39m trace\u001b[38;5;241m.\u001b[39mget_current_span()\n\u001b[1;32m    100\u001b[0m tp_header \u001b[38;5;241m=\u001b[39m \u001b[38;5;28;01mNone\u001b[39;00m\n",
      "File \u001b[0;32m~/INSPER/5_PERIODO/megadados/md-bcc/md_env/lib/python3.13/site-packages/mysql/connector/connection_cext.py:763\u001b[0m, in \u001b[0;36mCMySQLConnection.cmd_query\u001b[0;34m(self, query, raw, buffered, raw_as_string, **kwargs)\u001b[0m\n\u001b[1;32m    755\u001b[0m     \u001b[38;5;28mself\u001b[39m\u001b[38;5;241m.\u001b[39m_cmysql\u001b[38;5;241m.\u001b[39mquery(\n\u001b[1;32m    756\u001b[0m         query,\n\u001b[1;32m    757\u001b[0m         raw\u001b[38;5;241m=\u001b[39mraw,\n\u001b[0;32m   (...)\u001b[0m\n\u001b[1;32m    760\u001b[0m         query_attrs\u001b[38;5;241m=\u001b[39m\u001b[38;5;28mself\u001b[39m\u001b[38;5;241m.\u001b[39mquery_attrs,\n\u001b[1;32m    761\u001b[0m     )\n\u001b[1;32m    762\u001b[0m \u001b[38;5;28;01mexcept\u001b[39;00m MySQLInterfaceError \u001b[38;5;28;01mas\u001b[39;00m err:\n\u001b[0;32m--> 763\u001b[0m     \u001b[38;5;28;01mraise\u001b[39;00m get_mysql_exception(\n\u001b[1;32m    764\u001b[0m         err\u001b[38;5;241m.\u001b[39merrno, msg\u001b[38;5;241m=\u001b[39merr\u001b[38;5;241m.\u001b[39mmsg, sqlstate\u001b[38;5;241m=\u001b[39merr\u001b[38;5;241m.\u001b[39msqlstate\n\u001b[1;32m    765\u001b[0m     ) \u001b[38;5;28;01mfrom\u001b[39;00m\u001b[38;5;250m \u001b[39m\u001b[38;5;21;01merr\u001b[39;00m\n\u001b[1;32m    766\u001b[0m \u001b[38;5;28;01mexcept\u001b[39;00m \u001b[38;5;167;01mAttributeError\u001b[39;00m \u001b[38;5;28;01mas\u001b[39;00m err:\n\u001b[1;32m    767\u001b[0m     addr \u001b[38;5;241m=\u001b[39m (\n\u001b[1;32m    768\u001b[0m         \u001b[38;5;28mself\u001b[39m\u001b[38;5;241m.\u001b[39m_unix_socket \u001b[38;5;28;01mif\u001b[39;00m \u001b[38;5;28mself\u001b[39m\u001b[38;5;241m.\u001b[39m_unix_socket \u001b[38;5;28;01melse\u001b[39;00m \u001b[38;5;124mf\u001b[39m\u001b[38;5;124m\"\u001b[39m\u001b[38;5;132;01m{\u001b[39;00m\u001b[38;5;28mself\u001b[39m\u001b[38;5;241m.\u001b[39m_host\u001b[38;5;132;01m}\u001b[39;00m\u001b[38;5;124m:\u001b[39m\u001b[38;5;132;01m{\u001b[39;00m\u001b[38;5;28mself\u001b[39m\u001b[38;5;241m.\u001b[39m_port\u001b[38;5;132;01m}\u001b[39;00m\u001b[38;5;124m\"\u001b[39m\n\u001b[1;32m    769\u001b[0m     )\n",
      "\u001b[0;31mProgrammingError\u001b[0m: 1064 (42000): You have an error in your SQL syntax; check the manual that corresponds to your MySQL server version for the right syntax to use near 'HAVING\n    qtde_clientes > MIN(COUNT(DISTINCT cl.id_cliente))\nORDER BY\n    p.nom' at line 21"
     ]
    }
   ],
   "source": [
    "sql_ex04 = \"\"\"\n",
    "SELECT\n",
    "    p.nome plano,\n",
    "    p.valor,\n",
    "    COUNT(DISTINCT r.id_rede) qtde_redes,\n",
    "    COUNT(DISTINCT u.id_unidade) qtde_unidades,\n",
    "    COUNT(DISTINCT ci.id_cidade) qtde_cidades,\n",
    "    COUNT(DISTINCT cl.id_cliente) qtde_clientes\n",
    "FROM\n",
    "    plano p\n",
    "    LEFT JOIN rede_plano rp ON p.id_plano = rp.plano_id_plano\n",
    "    LEFT JOIN membro_plano mp USING (id_plano)\n",
    "    LEFT JOIN cliente cl USING (id_cliente)\n",
    "    LEFT JOIN rede r ON rp.rede_id_rede = r.id_rede\n",
    "    LEFT JOIN unidade u USING (id_rede)\n",
    "    LEFT JOIN cep ON u.id_cep = cep.id_cep\n",
    "    LEFT JOIN cidade ci USING (id_cidade)\n",
    "GROUP BY\n",
    "    p.id_plano\n",
    "HAVING\n",
    "    qtde_cidades <= 5\n",
    "        AND qtde_clientes > MIN(qtde_clientes)\n",
    "ORDER BY\n",
    "    p.nome\n",
    "\n",
    "\n",
    "\"\"\"\n",
    "\n",
    "db(sql_ex04)"
   ]
  },
  {
   "cell_type": "markdown",
   "id": "1865f073",
   "metadata": {},
   "source": [
    "Após testar localmente e considerar sua solução correta, faça o envio clicando no botão abaixo!"
   ]
  },
  {
   "cell_type": "code",
   "execution_count": null,
   "id": "1e93079b",
   "metadata": {},
   "outputs": [
    {
     "data": {
      "application/vnd.jupyter.widget-view+json": {
       "model_id": "c6d9f187297740f5b295fb8eb36f3421",
       "version_major": 2,
       "version_minor": 0
      },
      "text/plain": [
       "interactive(children=(Button(description='Enviar ex04', style=ButtonStyle()), Output()), _dom_classes=('widget…"
      ]
     },
     "metadata": {},
     "output_type": "display_data"
    }
   ],
   "source": [
    "ia.sender(answer=\"sql_ex04\", task=\"ai_md_25_1\", question=\"ex04\", answer_type=\"pyvar\")"
   ]
  },
  {
   "cell_type": "markdown",
   "id": "6d9f7e61",
   "metadata": {},
   "source": [
    "**Exercício 5**:\n",
    "\n",
    "Devido a restrições legais, todos os clientes inativos devem ser removidos da base.\n",
    "\n",
    "Crie uma query para realizar esta tarefa."
   ]
  },
  {
   "cell_type": "code",
   "execution_count": null,
   "id": "632c9fc8",
   "metadata": {},
   "outputs": [
    {
     "name": "stdout",
     "output_type": "stream",
     "text": [
      "Executando query:\n"
     ]
    }
   ],
   "source": [
    "sql_ex05 = \"\"\"\n",
    "DELETE FROM cliente\n",
    "WHERE ativo = 0\n",
    "\"\"\"\n",
    "\n",
    "# TODO: PERGUNTAR AO MACIEL\n",
    "db(sql_ex05)"
   ]
  },
  {
   "cell_type": "markdown",
   "id": "4bfb28da",
   "metadata": {},
   "source": [
    "Após testar localmente e considerar sua solução correta, faça o envio clicando no botão abaixo!"
   ]
  },
  {
   "cell_type": "code",
   "execution_count": null,
   "id": "75b5ad42",
   "metadata": {},
   "outputs": [
    {
     "data": {
      "application/vnd.jupyter.widget-view+json": {
       "model_id": "83404fd9e8e34d67930350a55b0c483b",
       "version_major": 2,
       "version_minor": 0
      },
      "text/plain": [
       "interactive(children=(Button(description='Enviar ex05', style=ButtonStyle()), Output()), _dom_classes=('widget…"
      ]
     },
     "metadata": {},
     "output_type": "display_data"
    }
   ],
   "source": [
    "ia.sender(answer=\"sql_ex05\", task=\"ai_md_25_1\", question=\"ex05\", answer_type=\"pyvar\")"
   ]
  },
  {
   "cell_type": "markdown",
   "id": "fdd6343b",
   "metadata": {},
   "source": [
    "**Exercício 6**: A gestão percebeu que não possui nenhuma informação de localização dos clientes. Assim, decidiu armazenar também o **CEP** de moradia dos **clientes**.\n",
    "\n",
    "Como as tabelas de `cliente` e `cep` já existem, neste exercício você deve criar uma query para alterar a tabela de clientes:\n",
    "\n",
    "- Adicione uma coluna `id_cep` na tabela de `cliente` com tipo inteiro. O atributo não é obrigatório.\n",
    "- Adicione uma chave estrangeira para a tabela de `cep`.\n",
    "\n",
    "Envie apenas uma query como resposta. Você pode separar por vírgula e, em uma única query, enviar a criação do campo e criação da chave estrangeira.\n",
    "\n",
    "**Obs**: Você deve alterar a tabela. Apagar e recriar não será considerada uma solução válida."
   ]
  },
  {
   "cell_type": "code",
   "execution_count": null,
   "id": "6d443e77",
   "metadata": {},
   "outputs": [
    {
     "name": "stdout",
     "output_type": "stream",
     "text": [
      "Executando query:\n"
     ]
    },
    {
     "ename": "ProgrammingError",
     "evalue": "1060 (42S21): Duplicate column name 'id_cep'",
     "output_type": "error",
     "traceback": [
      "\u001b[0;31m---------------------------------------------------------------------------\u001b[0m",
      "\u001b[0;31mMySQLInterfaceError\u001b[0m                       Traceback (most recent call last)",
      "File \u001b[0;32m~/INSPER/5_PERIODO/megadados/md-bcc/md_env/lib/python3.13/site-packages/mysql/connector/connection_cext.py:755\u001b[0m, in \u001b[0;36mCMySQLConnection.cmd_query\u001b[0;34m(self, query, raw, buffered, raw_as_string, **kwargs)\u001b[0m\n\u001b[1;32m    754\u001b[0m         query \u001b[38;5;241m=\u001b[39m query\u001b[38;5;241m.\u001b[39mencode(\u001b[38;5;124m\"\u001b[39m\u001b[38;5;124mutf-8\u001b[39m\u001b[38;5;124m\"\u001b[39m)\n\u001b[0;32m--> 755\u001b[0m     \u001b[38;5;28;43mself\u001b[39;49m\u001b[38;5;241;43m.\u001b[39;49m\u001b[43m_cmysql\u001b[49m\u001b[38;5;241;43m.\u001b[39;49m\u001b[43mquery\u001b[49m\u001b[43m(\u001b[49m\n\u001b[1;32m    756\u001b[0m \u001b[43m        \u001b[49m\u001b[43mquery\u001b[49m\u001b[43m,\u001b[49m\n\u001b[1;32m    757\u001b[0m \u001b[43m        \u001b[49m\u001b[43mraw\u001b[49m\u001b[38;5;241;43m=\u001b[39;49m\u001b[43mraw\u001b[49m\u001b[43m,\u001b[49m\n\u001b[1;32m    758\u001b[0m \u001b[43m        \u001b[49m\u001b[43mbuffered\u001b[49m\u001b[38;5;241;43m=\u001b[39;49m\u001b[43mbuffered\u001b[49m\u001b[43m,\u001b[49m\n\u001b[1;32m    759\u001b[0m \u001b[43m        \u001b[49m\u001b[43mraw_as_string\u001b[49m\u001b[38;5;241;43m=\u001b[39;49m\u001b[43mraw_as_string\u001b[49m\u001b[43m,\u001b[49m\n\u001b[1;32m    760\u001b[0m \u001b[43m        \u001b[49m\u001b[43mquery_attrs\u001b[49m\u001b[38;5;241;43m=\u001b[39;49m\u001b[38;5;28;43mself\u001b[39;49m\u001b[38;5;241;43m.\u001b[39;49m\u001b[43mquery_attrs\u001b[49m\u001b[43m,\u001b[49m\n\u001b[1;32m    761\u001b[0m \u001b[43m    \u001b[49m\u001b[43m)\u001b[49m\n\u001b[1;32m    762\u001b[0m \u001b[38;5;28;01mexcept\u001b[39;00m MySQLInterfaceError \u001b[38;5;28;01mas\u001b[39;00m err:\n",
      "\u001b[0;31mMySQLInterfaceError\u001b[0m: Duplicate column name 'id_cep'",
      "\nThe above exception was the direct cause of the following exception:\n",
      "\u001b[0;31mProgrammingError\u001b[0m                          Traceback (most recent call last)",
      "Cell \u001b[0;32mIn[7], line 9\u001b[0m\n\u001b[1;32m      1\u001b[0m sql_ex06 \u001b[38;5;241m=\u001b[39m \u001b[38;5;124m\"\"\"\u001b[39m\n\u001b[1;32m      2\u001b[0m \u001b[38;5;124mALTER TABLE cliente\u001b[39m\n\u001b[1;32m      3\u001b[0m \u001b[38;5;124mADD COLUMN id_cep INT,\u001b[39m\n\u001b[1;32m      4\u001b[0m \u001b[38;5;124mADD CONSTRAINT FOREIGN KEY (id_cep)\u001b[39m\n\u001b[1;32m      5\u001b[0m \u001b[38;5;124mREFERENCES cep(id_cep);\u001b[39m\n\u001b[1;32m      6\u001b[0m \u001b[38;5;124m\"\"\"\u001b[39m\n\u001b[1;32m      8\u001b[0m \u001b[38;5;66;03m# TODO: PERGUNTAR AO MACIEL\u001b[39;00m\n\u001b[0;32m----> 9\u001b[0m \u001b[43mdb\u001b[49m\u001b[43m(\u001b[49m\u001b[43msql_ex06\u001b[49m\u001b[43m)\u001b[49m\n",
      "Cell \u001b[0;32mIn[3], line 8\u001b[0m, in \u001b[0;36mget_connection_helper.<locals>.run_db_query\u001b[0;34m(connection, query, args)\u001b[0m\n\u001b[1;32m      6\u001b[0m \u001b[38;5;28;01mwith\u001b[39;00m connection\u001b[38;5;241m.\u001b[39mcursor() \u001b[38;5;28;01mas\u001b[39;00m cursor:\n\u001b[1;32m      7\u001b[0m     \u001b[38;5;28mprint\u001b[39m(\u001b[38;5;124m\"\u001b[39m\u001b[38;5;124mExecutando query:\u001b[39m\u001b[38;5;124m\"\u001b[39m)\n\u001b[0;32m----> 8\u001b[0m     \u001b[43mcursor\u001b[49m\u001b[38;5;241;43m.\u001b[39;49m\u001b[43mexecute\u001b[49m\u001b[43m(\u001b[49m\u001b[43mquery\u001b[49m\u001b[43m,\u001b[49m\u001b[43m \u001b[49m\u001b[43margs\u001b[49m\u001b[43m)\u001b[49m\n\u001b[1;32m      9\u001b[0m     \u001b[38;5;28;01mfor\u001b[39;00m result \u001b[38;5;129;01min\u001b[39;00m cursor:\n\u001b[1;32m     10\u001b[0m         \u001b[38;5;28mprint\u001b[39m(result)\n",
      "File \u001b[0;32m~/INSPER/5_PERIODO/megadados/md-bcc/md_env/lib/python3.13/site-packages/mysql/connector/cursor_cext.py:351\u001b[0m, in \u001b[0;36mCMySQLCursor.execute\u001b[0;34m(self, operation, params, map_results)\u001b[0m\n\u001b[1;32m    343\u001b[0m \u001b[38;5;28mself\u001b[39m\u001b[38;5;241m.\u001b[39m_executed \u001b[38;5;241m=\u001b[39m (\n\u001b[1;32m    344\u001b[0m     \u001b[38;5;28mself\u001b[39m\u001b[38;5;241m.\u001b[39m_stmt_partition[\u001b[38;5;124m\"\u001b[39m\u001b[38;5;124msingle_stmts\u001b[39m\u001b[38;5;124m\"\u001b[39m]\u001b[38;5;241m.\u001b[39mpopleft()\n\u001b[1;32m    345\u001b[0m     \u001b[38;5;28;01mif\u001b[39;00m map_results\n\u001b[1;32m    346\u001b[0m     \u001b[38;5;28;01melse\u001b[39;00m \u001b[38;5;28mself\u001b[39m\u001b[38;5;241m.\u001b[39m_stmt_partition[\u001b[38;5;124m\"\u001b[39m\u001b[38;5;124mmappable_stmt\u001b[39m\u001b[38;5;124m\"\u001b[39m]\n\u001b[1;32m    347\u001b[0m )\n\u001b[1;32m    349\u001b[0m \u001b[38;5;28;01mtry\u001b[39;00m:\n\u001b[1;32m    350\u001b[0m     \u001b[38;5;28mself\u001b[39m\u001b[38;5;241m.\u001b[39m_handle_result(\n\u001b[0;32m--> 351\u001b[0m         \u001b[38;5;28;43mself\u001b[39;49m\u001b[38;5;241;43m.\u001b[39;49m\u001b[43m_connection\u001b[49m\u001b[38;5;241;43m.\u001b[39;49m\u001b[43mcmd_query\u001b[49m\u001b[43m(\u001b[49m\n\u001b[1;32m    352\u001b[0m \u001b[43m            \u001b[49m\u001b[38;5;28;43mself\u001b[39;49m\u001b[38;5;241;43m.\u001b[39;49m\u001b[43m_stmt_partition\u001b[49m\u001b[43m[\u001b[49m\u001b[38;5;124;43m\"\u001b[39;49m\u001b[38;5;124;43mmappable_stmt\u001b[39;49m\u001b[38;5;124;43m\"\u001b[39;49m\u001b[43m]\u001b[49m\u001b[43m,\u001b[49m\n\u001b[1;32m    353\u001b[0m \u001b[43m            \u001b[49m\u001b[43mraw\u001b[49m\u001b[38;5;241;43m=\u001b[39;49m\u001b[38;5;28;43mself\u001b[39;49m\u001b[38;5;241;43m.\u001b[39;49m\u001b[43m_raw\u001b[49m\u001b[43m,\u001b[49m\n\u001b[1;32m    354\u001b[0m \u001b[43m            \u001b[49m\u001b[43mbuffered\u001b[49m\u001b[38;5;241;43m=\u001b[39;49m\u001b[38;5;28;43mself\u001b[39;49m\u001b[38;5;241;43m.\u001b[39;49m\u001b[43m_buffered\u001b[49m\u001b[43m,\u001b[49m\n\u001b[1;32m    355\u001b[0m \u001b[43m            \u001b[49m\u001b[43mraw_as_string\u001b[49m\u001b[38;5;241;43m=\u001b[39;49m\u001b[38;5;28;43mself\u001b[39;49m\u001b[38;5;241;43m.\u001b[39;49m\u001b[43m_raw_as_string\u001b[49m\u001b[43m,\u001b[49m\n\u001b[1;32m    356\u001b[0m \u001b[43m        \u001b[49m\u001b[43m)\u001b[49m\n\u001b[1;32m    357\u001b[0m     )\n\u001b[1;32m    358\u001b[0m \u001b[38;5;28;01mexcept\u001b[39;00m MySQLInterfaceError \u001b[38;5;28;01mas\u001b[39;00m err:\n\u001b[1;32m    359\u001b[0m     \u001b[38;5;28;01mraise\u001b[39;00m get_mysql_exception(\n\u001b[1;32m    360\u001b[0m         msg\u001b[38;5;241m=\u001b[39merr\u001b[38;5;241m.\u001b[39mmsg, errno\u001b[38;5;241m=\u001b[39merr\u001b[38;5;241m.\u001b[39merrno, sqlstate\u001b[38;5;241m=\u001b[39merr\u001b[38;5;241m.\u001b[39msqlstate\n\u001b[1;32m    361\u001b[0m     ) \u001b[38;5;28;01mfrom\u001b[39;00m\u001b[38;5;250m \u001b[39m\u001b[38;5;21;01merr\u001b[39;00m\n",
      "File \u001b[0;32m~/INSPER/5_PERIODO/megadados/md-bcc/md_env/lib/python3.13/site-packages/mysql/connector/opentelemetry/context_propagation.py:97\u001b[0m, in \u001b[0;36mwith_context_propagation.<locals>.wrapper\u001b[0;34m(cnx, *args, **kwargs)\u001b[0m\n\u001b[1;32m     95\u001b[0m \u001b[38;5;66;03m# pylint: disable=possibly-used-before-assignment\u001b[39;00m\n\u001b[1;32m     96\u001b[0m \u001b[38;5;28;01mif\u001b[39;00m \u001b[38;5;129;01mnot\u001b[39;00m OTEL_ENABLED \u001b[38;5;129;01mor\u001b[39;00m \u001b[38;5;129;01mnot\u001b[39;00m cnx\u001b[38;5;241m.\u001b[39motel_context_propagation:\n\u001b[0;32m---> 97\u001b[0m     \u001b[38;5;28;01mreturn\u001b[39;00m \u001b[43mmethod\u001b[49m\u001b[43m(\u001b[49m\u001b[43mcnx\u001b[49m\u001b[43m,\u001b[49m\u001b[43m \u001b[49m\u001b[38;5;241;43m*\u001b[39;49m\u001b[43margs\u001b[49m\u001b[43m,\u001b[49m\u001b[43m \u001b[49m\u001b[38;5;241;43m*\u001b[39;49m\u001b[38;5;241;43m*\u001b[39;49m\u001b[43mkwargs\u001b[49m\u001b[43m)\u001b[49m\n\u001b[1;32m     99\u001b[0m current_span \u001b[38;5;241m=\u001b[39m trace\u001b[38;5;241m.\u001b[39mget_current_span()\n\u001b[1;32m    100\u001b[0m tp_header \u001b[38;5;241m=\u001b[39m \u001b[38;5;28;01mNone\u001b[39;00m\n",
      "File \u001b[0;32m~/INSPER/5_PERIODO/megadados/md-bcc/md_env/lib/python3.13/site-packages/mysql/connector/connection_cext.py:763\u001b[0m, in \u001b[0;36mCMySQLConnection.cmd_query\u001b[0;34m(self, query, raw, buffered, raw_as_string, **kwargs)\u001b[0m\n\u001b[1;32m    755\u001b[0m     \u001b[38;5;28mself\u001b[39m\u001b[38;5;241m.\u001b[39m_cmysql\u001b[38;5;241m.\u001b[39mquery(\n\u001b[1;32m    756\u001b[0m         query,\n\u001b[1;32m    757\u001b[0m         raw\u001b[38;5;241m=\u001b[39mraw,\n\u001b[0;32m   (...)\u001b[0m\n\u001b[1;32m    760\u001b[0m         query_attrs\u001b[38;5;241m=\u001b[39m\u001b[38;5;28mself\u001b[39m\u001b[38;5;241m.\u001b[39mquery_attrs,\n\u001b[1;32m    761\u001b[0m     )\n\u001b[1;32m    762\u001b[0m \u001b[38;5;28;01mexcept\u001b[39;00m MySQLInterfaceError \u001b[38;5;28;01mas\u001b[39;00m err:\n\u001b[0;32m--> 763\u001b[0m     \u001b[38;5;28;01mraise\u001b[39;00m get_mysql_exception(\n\u001b[1;32m    764\u001b[0m         err\u001b[38;5;241m.\u001b[39merrno, msg\u001b[38;5;241m=\u001b[39merr\u001b[38;5;241m.\u001b[39mmsg, sqlstate\u001b[38;5;241m=\u001b[39merr\u001b[38;5;241m.\u001b[39msqlstate\n\u001b[1;32m    765\u001b[0m     ) \u001b[38;5;28;01mfrom\u001b[39;00m\u001b[38;5;250m \u001b[39m\u001b[38;5;21;01merr\u001b[39;00m\n\u001b[1;32m    766\u001b[0m \u001b[38;5;28;01mexcept\u001b[39;00m \u001b[38;5;167;01mAttributeError\u001b[39;00m \u001b[38;5;28;01mas\u001b[39;00m err:\n\u001b[1;32m    767\u001b[0m     addr \u001b[38;5;241m=\u001b[39m (\n\u001b[1;32m    768\u001b[0m         \u001b[38;5;28mself\u001b[39m\u001b[38;5;241m.\u001b[39m_unix_socket \u001b[38;5;28;01mif\u001b[39;00m \u001b[38;5;28mself\u001b[39m\u001b[38;5;241m.\u001b[39m_unix_socket \u001b[38;5;28;01melse\u001b[39;00m \u001b[38;5;124mf\u001b[39m\u001b[38;5;124m\"\u001b[39m\u001b[38;5;132;01m{\u001b[39;00m\u001b[38;5;28mself\u001b[39m\u001b[38;5;241m.\u001b[39m_host\u001b[38;5;132;01m}\u001b[39;00m\u001b[38;5;124m:\u001b[39m\u001b[38;5;132;01m{\u001b[39;00m\u001b[38;5;28mself\u001b[39m\u001b[38;5;241m.\u001b[39m_port\u001b[38;5;132;01m}\u001b[39;00m\u001b[38;5;124m\"\u001b[39m\n\u001b[1;32m    769\u001b[0m     )\n",
      "\u001b[0;31mProgrammingError\u001b[0m: 1060 (42S21): Duplicate column name 'id_cep'"
     ]
    }
   ],
   "source": [
    "sql_ex06 = \"\"\"\n",
    "ALTER TABLE cliente\n",
    "ADD COLUMN id_cep INT,\n",
    "ADD CONSTRAINT FOREIGN KEY (id_cep)\n",
    "REFERENCES cep(id_cep);\n",
    "\"\"\"\n",
    "\n",
    "db(sql_ex06)"
   ]
  },
  {
   "cell_type": "markdown",
   "id": "7b4fce3a",
   "metadata": {},
   "source": [
    "Após testar localmente e considerar sua solução correta, faça o envio clicando no botão abaixo!"
   ]
  },
  {
   "cell_type": "code",
   "execution_count": 8,
   "id": "f0c5c9e3",
   "metadata": {},
   "outputs": [
    {
     "data": {
      "application/vnd.jupyter.widget-view+json": {
       "model_id": "bd03845b12064e6e8a97157b501d5ece",
       "version_major": 2,
       "version_minor": 0
      },
      "text/plain": [
       "interactive(children=(Button(description='Enviar ex06', style=ButtonStyle()), Output()), _dom_classes=('widget…"
      ]
     },
     "metadata": {},
     "output_type": "display_data"
    }
   ],
   "source": [
    "ia.sender(answer=\"sql_ex06\", task=\"ai_md_25_1\", question=\"ex06\", answer_type=\"pyvar\")"
   ]
  },
  {
   "cell_type": "markdown",
   "id": "b92ff0ce",
   "metadata": {},
   "source": [
    "### Conferindo as notas!"
   ]
  },
  {
   "cell_type": "code",
   "execution_count": 9,
   "id": "0da6de09",
   "metadata": {},
   "outputs": [
    {
     "data": {
      "text/markdown": [
       "|    | Atividade   | Exercício   |   Peso |   Nota |\n",
       "|---:|:------------|:------------|-------:|-------:|\n",
       "|  0 | ai_md_25_1  | ex01        |      3 |     10 |\n",
       "|  1 | ai_md_25_1  | ex02        |      5 |     10 |\n",
       "|  2 | ai_md_25_1  | ex03        |      5 |     10 |\n",
       "|  3 | ai_md_25_1  | ex04        |      6 |      0 |\n",
       "|  4 | ai_md_25_1  | ex05        |      2 |     10 |\n",
       "|  5 | ai_md_25_1  | ex06        |      4 |     10 |"
      ],
      "text/plain": [
       "<IPython.core.display.Markdown object>"
      ]
     },
     "metadata": {},
     "output_type": "display_data"
    }
   ],
   "source": [
    "ia.grades(task=\"ai_md_25_1\")"
   ]
  },
  {
   "cell_type": "markdown",
   "id": "4c902f7c",
   "metadata": {},
   "source": [
    "**Exercício 7**: O seu **exercício quatro** será conferido em relação a padronização do código SQL. Caso tudo esteja ok, você ganhará meio ponto!\n",
    "\n",
    "Cole a melhor versão da sua resposta do ex 4 onde indicado logo abaixo. Faça isto mesmo que não tenha passado nos testes!\n",
    "\n",
    "A conferência levará em conta:\n",
    "- Se a query está bem formatada, considerando principalmente:\n",
    "    - Padrão de maiúsculas e minúsculas\n",
    "    - Tabulações e quebras de linhas, sem linhas muito longas\n",
    "- Se utiliza *alias* nas tabelas."
   ]
  },
  {
   "cell_type": "markdown",
   "id": "9ae2c174",
   "metadata": {
    "scrolled": true
   },
   "source": [
    "```sql\n",
    "SELECT\n",
    "    p.nome AS plano,\n",
    "    p.valor,\n",
    "    COUNT(DISTINCT r.id_rede) AS qtde_redes,\n",
    "    COUNT(DISTINCT u.id_unidade) AS qtde_unidades,\n",
    "    COUNT(DISTINCT ci.id_cidade) AS qtde_cidades,\n",
    "    COUNT(DISTINCT cl.id_cliente) AS qtde_clientes\n",
    "FROM\n",
    "    plano p\n",
    "    LEFT JOIN rede_plano AS rp ON p.id_plano = rp.plano_id_plano\n",
    "    LEFT JOIN membro_plano AS mp USING (id_plano)\n",
    "    LEFT JOIN cliente AS cl USING (id_cliente)\n",
    "    LEFT JOIN rede AS r ON rp.rede_id_rede = r.id_rede\n",
    "    LEFT JOIN unidade AS u USING (id_rede)\n",
    "    LEFT JOIN cep USING (id_cep)\n",
    "    LEFT JOIN cidade AS ci USING (id_cidade)\n",
    "GROUP BY\n",
    "    p.id_plano\n",
    "HAVING\n",
    "    qtde_cidades <= 5\n",
    "    AND p.id_plano IN (\n",
    "        SELECT\n",
    "            p.id_plano,\n",
    "            COUNT(DISTINCT u.id_unidade) AS qtde_unidades -- coloco em variáveis?\n",
    "        FROM\n",
    "            plano p\n",
    "            LEFT JOIN rede_plano AS rp ON p.id_plano = rp.plano_id_plano\n",
    "            LEFT JOIN rede AS r ON rp.rede_id_rede = r.id_rede\n",
    "            LEFT JOIN unidade AS u USING (id_rede)\n",
    "        GROUP BY\n",
    "            p.id_plano\n",
    "        ORDER BY\n",
    "            qtde_unidades\n",
    "        LIMIT 3\n",
    "    )\n",
    "ORDER BY\n",
    "    p.nome\n",
    "```\n",
    "\n",
    "<!-- TODO: COLOCAR A RESPOSTA -->"
   ]
  },
  {
   "cell_type": "markdown",
   "id": "8acfd788",
   "metadata": {},
   "source": [
    "## Parte 2 - Controle de Distribuição de Medicamentos\n",
    "\n",
    "Você foi contratado pela **Farmacêutica FarMax** para desenvolver um sistema que permita acompanhar a distribuição de medicamentos desde a produção até os centros de distribuição. O objetivo é que cada lote de medicamento chegue ao seu destino corretamente e dentro do prazo de validade.\n",
    "\n",
    "Em reuniões com a equipe da **FarMax**, foram levantadas as seguintes informações sobre o domínio de negócio:\n",
    "\n",
    "- **Cadastro de Medicamentos**: O sistema deve permitir o cadastro dos medicamentos, incluindo nome do medicamento, bula (texto) e fórmula (princípio ativo, em formato de texto).\n",
    "\n",
    "- **Cadastro de Lotes de Medicamentos**: Um lote de medicamento é um conjunto de unidades de um medicamento (como comprimidos, frascos, ampolas, etc.) que foi produzido sob as mesmas condições, no mesmo processo de fabricação e durante um mesmo período de tempo. Sempre que um medicamento é produzido, um novo **lote** é gerado para identificar a produção. Medicamentos diferentes nunca compartilham o mesmo lote, mas cada medicamento pode ter múltiplos lotes de produção. O sistema deve registrar a identificação do lote (ex: `3NX1829A`), a data de produção, a data de validade, o medicamento produzido no lote e a quantidade produzida.\n",
    "\n",
    "- **Cadastro de Centros de Distribuição**: O sistema deve armazenar informações sobre os centros de distribuição, incluindo endereço (rua, número, cidade, estado) e a capacidade de armazenamento (número real).\n",
    "\n",
    "- **Cadastro de Remessas de Medicamentos**: Uma remessa é o envio de certa quantidade de um medicamento (de determinado lote) para um centro de distribuição. O sistema deve permitir registrar o **envio de lotes** de medicamentos para os centros de distribuição, mediante o cadastro de remessas. Considere que as remessas podem ocorrer de forma recorrente (o mesmo lote pode ser enviado em datas diferentes para o mesmo centro de distribuição), sendo criada uma nova remessa sempre que isto ocorrer. Informações relevantes na remessa: o lote sendo enviado, o centro de distribuição (destino), a quantidade enviada, a data de criação da remessa e a data de recebimento no centro de distribuição (deve ser opcional, para preenchimento na data de recebimento).\n",
    "\n",
    "**Tarefa:**\n",
    "\n",
    "Com base nas informações fornecidas pela equipe da **FarMax**, elabore um **diagrama do modelo relacional (no Workbench)** que represente as entidades, atributos e relacionamentos necessários para implementar o sistema descrito. Certifique-se de identificar chaves primárias, chaves estrangeiras e quaisquer restrições de integridade relevantes.\n",
    "\n",
    "**Dica**:\n",
    "- Concentre-se no escopo descrito. Não precisa se preocupar com detalhes como: \"onde está localizada a fábrica? são várias fábricas?\""
   ]
  },
  {
   "cell_type": "markdown",
   "id": "87a72d7f",
   "metadata": {},
   "source": [
    "**Exercício 8**: Desenhe o diagrama do modelo relacional com uma solução para o problema. Não esqueça de indicar claramente os atributos (obrigatórios e opcionais), tipos, chaves primárias, chaves estrangeiras, e a cardinalidade dos relacionamentos.\n",
    "\n",
    "**Obs:** Salve a imagem do diagrama na pasta `img`. Edite na resposta o caminho para a imagem!"
   ]
  },
  {
   "cell_type": "markdown",
   "id": "f20e9048",
   "metadata": {},
   "source": [
    "<div class=\"alert alert-success\">\n",
    "    \n",
    "Edite na resposta o caminho para a imagem!\n",
    "    \n",
    "<img src=\"img/eer.png\">\n",
    "\n",
    "</div>"
   ]
  },
  {
   "cell_type": "markdown",
   "id": "a795d1da",
   "metadata": {},
   "source": [
    "**Opcional**: caso julgue necessário, utilize o bloco abaixo para justificar decisões tomadas no desenho do diagrama."
   ]
  },
  {
   "cell_type": "markdown",
   "id": "59ec78d3",
   "metadata": {},
   "source": [
    "<div class=\"alert alert-success\">\n",
    "\n",
    "Optei por não criar tabelas extras como cidade, cep e estado, que eu normalmente criaria pois foi pedido que me concentrasse apenas no escopo do das tabelas que foram pedidas\n",
    "\n",
    "</div>"
   ]
  },
  {
   "cell_type": "markdown",
   "id": "b0fb57a5",
   "metadata": {},
   "source": [
    "**Exercício 9**: Discorra, com suas palavras, sobre *views* e *tabelas temporárias*.\n",
    "\n",
    "Esta questão será corrigida considerando a seguinte subrica:\n",
    "| Conceito | Nota | Descrição                                                                                                                                               |\n",
    "|:----------:|----------:|:---------------------------------------------------------------------------------------------------------------------------------------------------------|\n",
    "| I        | 0.0 |Apenas citou o assunto ou alguns fatos sem explicações                                                                                                  |\n",
    "| D        | 0.3 |Explicou superficialmente o assunto ou fatos mas sem muitos detalhes conclusivos                                                                        |\n",
    "| C        | 0.6 |Explicou com detalhes, apresentando definições concretas.                                                                                               |\n",
    "| B        | 0.8 |Explicou com detalhes, apresentando definições concretas e exemplos de uso.                                                                            |\n",
    "| A        | 1.0 |Explicou com detalhes, apresentando definições concretas, exemplos de uso e ainda outros tópicos correlatos, fazendo uma conexão lógica entre eles. |"
   ]
  },
  {
   "cell_type": "markdown",
   "id": "f3b863f4",
   "metadata": {},
   "source": [
    "<div class=\"alert alert-success\">\n",
    "\n",
    "Temporary tables e Views são duas ferramentas muito úteis no SQL. As duas são representações de um subconjunto dos dados de um schema. Seu objetivo é parecido: possibilitar que trabalhemos com uma nova tabela específica criada a partir de diferentes manipulações de um banco de dados, possibilitanto que juntemos, modifiquemos e façamos diversas operações com outras tabelas mas sem criar uma nova tabela de fato no banco de dados. A vantagem é que não precisamos reescrever multiplas vezes queries de select para podermos acessar uma parte específica dos dados interessante para o nosso contexto.\n",
    "\n",
    "Exemplo:\n",
    "Quero explorar dados sobre a frequência com que um determinado medicamento é enviado para um centro de distribuição. Ao invés de ter que fazer um join de todas as tabelas para cada query que quiser fazer, podemos criar uma tabela temporária ou view que já tenham os dados que queremos e exploramos a partir dela.\n",
    "\n",
    "As diferenças entre View e Tabela temporária:\n",
    "\n",
    "Enquanto as tabelas temporárias são apenas locais e não conseguem afetar a base de dados (ex: uma linha deletada na tabela temporária não reflete na base de dados), as views conseguem, portanto, uma alteração feita numa view é refletida na base de dados. Além disso, as tabelas temporárias não são atualizadas com o banco de dados, e só refletem os dados do momento em que foi criada. Já nas Views, uma alteração feita no banco de dados é automaticamente refletida e atualizada na view, permitindo que se mantenha consistente com os dados atuais do banco.\n",
    "\n",
    "</div>"
   ]
  },
  {
   "cell_type": "markdown",
   "id": "cc63d0f3",
   "metadata": {},
   "source": [
    "## Entrega!\n",
    "\n",
    "É hora de entregar. Faça `zip` da pasta de prova (zip, não rar) e envie no Blackboard."
   ]
  },
  {
   "cell_type": "markdown",
   "id": "8f30d2b5",
   "metadata": {},
   "source": [
    "## Erros\n",
    "\n",
    "Caso queira relatar erros encontrados na prova, escreva aqui:\n",
    "\n",
    "<div class=\"alert alert-success\">\n",
    "\n",
    "Sua resposta AQUI!\n",
    "\n",
    "</div>"
   ]
  }
 ],
 "metadata": {
  "kernelspec": {
   "display_name": "md_env",
   "language": "python",
   "name": "python3"
  },
  "language_info": {
   "codemirror_mode": {
    "name": "ipython",
    "version": 3
   },
   "file_extension": ".py",
   "mimetype": "text/x-python",
   "name": "python",
   "nbconvert_exporter": "python",
   "pygments_lexer": "ipython3",
   "version": "3.13.1"
  }
 },
 "nbformat": 4,
 "nbformat_minor": 5
}
